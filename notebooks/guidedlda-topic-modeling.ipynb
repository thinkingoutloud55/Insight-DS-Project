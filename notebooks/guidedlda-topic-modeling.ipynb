{
 "cells": [
  {
   "cell_type": "markdown",
   "metadata": {},
   "source": [
    "# Guided-LDA Topic Modeling \n",
    "\n",
    "This notebook implements topic modeling using [guided or seeded LDA](https://github.com/vi3k6i5/GuidedLDA)"
   ]
  },
  {
   "cell_type": "markdown",
   "metadata": {},
   "source": [
    "## Imports"
   ]
  },
  {
   "cell_type": "code",
   "execution_count": 1,
   "metadata": {},
   "outputs": [],
   "source": [
    "%matplotlib inline\n",
    "import pandas as pd\n",
    "import numpy as np\n",
    "import re\n",
    "import pickle\n",
    "import joblib\n",
    "import matplotlib.pyplot as plt\n",
    "import seaborn as sns\n",
    "import guidedlda\n",
    "import nltk\n",
    "import spacy\n",
    "from sklearn.feature_extraction.text import CountVectorizer, TfidfVectorizer\n",
    "from nltk.corpus import stopwords\n",
    "from collections import Counter\n",
    "pd.set_option('display.width',-1)"
   ]
  },
  {
   "cell_type": "code",
   "execution_count": 2,
   "metadata": {},
   "outputs": [],
   "source": [
    "# run some files containing custom functions\n",
    "%run -i '../scripts/helper_functions.py'"
   ]
  },
  {
   "cell_type": "code",
   "execution_count": 3,
   "metadata": {
    "scrolled": true
   },
   "outputs": [
    {
     "data": {
      "text/html": [
       "<div>\n",
       "<style scoped>\n",
       "    .dataframe tbody tr th:only-of-type {\n",
       "        vertical-align: middle;\n",
       "    }\n",
       "\n",
       "    .dataframe tbody tr th {\n",
       "        vertical-align: top;\n",
       "    }\n",
       "\n",
       "    .dataframe thead th {\n",
       "        text-align: right;\n",
       "    }\n",
       "</style>\n",
       "<table border=\"1\" class=\"dataframe\">\n",
       "  <thead>\n",
       "    <tr style=\"text-align: right;\">\n",
       "      <th></th>\n",
       "      <th>reviews</th>\n",
       "      <th>rating</th>\n",
       "      <th>company</th>\n",
       "    </tr>\n",
       "  </thead>\n",
       "  <tbody>\n",
       "    <tr>\n",
       "      <td>0</td>\n",
       "      <td>Great card! We get cash back for our grocery a...</td>\n",
       "      <td>4.0</td>\n",
       "      <td>American Express Blue Cash Preferred</td>\n",
       "    </tr>\n",
       "    <tr>\n",
       "      <td>1</td>\n",
       "      <td>While traveling we had to keep calling the Cre...</td>\n",
       "      <td>1.0</td>\n",
       "      <td>Credit One Bank</td>\n",
       "    </tr>\n",
       "    <tr>\n",
       "      <td>2</td>\n",
       "      <td>Great card to have! Love all the additional cr...</td>\n",
       "      <td>5.0</td>\n",
       "      <td>Capital One Quicksilver Rewards</td>\n",
       "    </tr>\n",
       "    <tr>\n",
       "      <td>3</td>\n",
       "      <td>no tengo tanta experiencia asi que no puedo da...</td>\n",
       "      <td>2.0</td>\n",
       "      <td>Citi Double Cash Card</td>\n",
       "    </tr>\n",
       "    <tr>\n",
       "      <td>4</td>\n",
       "      <td>This is a basic credit card. The cash back dea...</td>\n",
       "      <td>4.0</td>\n",
       "      <td>Bank of America Cash Rewards Credit Card</td>\n",
       "    </tr>\n",
       "  </tbody>\n",
       "</table>\n",
       "</div>"
      ],
      "text/plain": [
       "                                             reviews  \\\n",
       "0  Great card! We get cash back for our grocery a...   \n",
       "1  While traveling we had to keep calling the Cre...   \n",
       "2  Great card to have! Love all the additional cr...   \n",
       "3  no tengo tanta experiencia asi que no puedo da...   \n",
       "4  This is a basic credit card. The cash back dea...   \n",
       "\n",
       "   rating  \\\n",
       "0     4.0   \n",
       "1     1.0   \n",
       "2     5.0   \n",
       "3     2.0   \n",
       "4     4.0   \n",
       "\n",
       "                                    company  \n",
       "0     American Express Blue Cash Preferred   \n",
       "1                           Credit One Bank  \n",
       "2           Capital One Quicksilver Rewards  \n",
       "3                     Citi Double Cash Card  \n",
       "4  Bank of America Cash Rewards Credit Card  "
      ]
     },
     "execution_count": 3,
     "metadata": {},
     "output_type": "execute_result"
    }
   ],
   "source": [
    "# load data\n",
    "df = pd.read_csv('../data/all_data.csv')\n",
    "df.head()"
   ]
  },
  {
   "cell_type": "code",
   "execution_count": 32,
   "metadata": {},
   "outputs": [
    {
     "data": {
      "text/plain": [
       "array(['American Express Blue Cash Preferred ', 'Credit One Bank',\n",
       "       'Capital One Quicksilver Rewards', 'Citi Double Cash Card',\n",
       "       'Bank of America Cash Rewards Credit Card',\n",
       "       'Capital One Venture Rewards', 'Costco Anywhere Visa Card by Citi',\n",
       "       'Merrick Bank', 'Barclays Bank', 'Citi Diamond Preferred Card',\n",
       "       'American Express Business Gold Rewards Credit Card',\n",
       "       'Citi Platinum World Elite', 'Chase Amazon Reward Visa',\n",
       "       'PayPal Credit', 'Citi Simplicity Card', 'Discover it Cash Back',\n",
       "       'Sears Credit Card', 'Target Credit Card',\n",
       "       'American Express Platinum Card', 'Capital One Platinum',\n",
       "       'TD Cash Visa Credit Card', 'Premier Bankcard', 'Eppicard',\n",
       "       'Chase Freedom Unlimited',\n",
       "       'Bank of America Travel Rewards Credit Card',\n",
       "       'Discover it Secured', 'Discover it Miles', 'Rogers MASTERCARD',\n",
       "       'OpenSky Secured Visa Credit Card',\n",
       "       'Chase Sapphire Preffered Card', 'Capital One Secured Credit Card',\n",
       "       'Capital One Platinum Costco MASTERCARD', 'RBC VISA',\n",
       "       'Walmart MASTERCARD', 'Canadian Tire MASTERCARD', 'BMO MASTERCARD',\n",
       "       'TD First Class Travel VISA Infinite Card',\n",
       "       'Presidents Choice Financial', 'Aspire Visa',\n",
       "       'HomeTrust Secured VISA'], dtype=object)"
      ]
     },
     "execution_count": 32,
     "metadata": {},
     "output_type": "execute_result"
    }
   ],
   "source": [
    "df.company.unique()"
   ]
  },
  {
   "cell_type": "code",
   "execution_count": 5,
   "metadata": {},
   "outputs": [
    {
     "data": {
      "text/plain": [
       "(25708, 3)"
      ]
     },
     "execution_count": 5,
     "metadata": {},
     "output_type": "execute_result"
    }
   ],
   "source": [
    "df.shape"
   ]
  },
  {
   "cell_type": "code",
   "execution_count": 6,
   "metadata": {},
   "outputs": [],
   "source": [
    "# Remove wide space in review texts\n",
    "df['reviews']  = df['reviews'].apply(detokenizer)\n",
    "df.to_csv('../data/all_data.csv', index = False) # save as csv file"
   ]
  },
  {
   "cell_type": "code",
   "execution_count": 25,
   "metadata": {},
   "outputs": [],
   "source": [
    "# reload data\n",
    "df = pd.read_csv('../data/all_data.csv')"
   ]
  },
  {
   "cell_type": "markdown",
   "metadata": {},
   "source": [
    "## Reviews  to sentences"
   ]
  },
  {
   "cell_type": "code",
   "execution_count": 8,
   "metadata": {},
   "outputs": [],
   "source": [
    "# Converts reviews to sentences and to dataframe\n",
    "result = review_to_sent(df, 'reviews', 'company')\n",
    "df_rev_sen = pd.DataFrame({'sentence': result[0], 'company': result[1]}) "
   ]
  },
  {
   "cell_type": "code",
   "execution_count": 9,
   "metadata": {},
   "outputs": [
    {
     "data": {
      "text/plain": [
       "(111357, 2)"
      ]
     },
     "execution_count": 9,
     "metadata": {},
     "output_type": "execute_result"
    }
   ],
   "source": [
    "df_rev_sen.shape"
   ]
  },
  {
   "cell_type": "markdown",
   "metadata": {},
   "source": [
    "## Vader Sentiment Analysis"
   ]
  },
  {
   "cell_type": "code",
   "execution_count": 10,
   "metadata": {},
   "outputs": [],
   "source": [
    "from vaderSentiment.vaderSentiment import SentimentIntensityAnalyzer "
   ]
  },
  {
   "cell_type": "code",
   "execution_count": 19,
   "metadata": {},
   "outputs": [],
   "source": [
    "def score(sentence):\n",
    "    \"\"\"Returns the compound polarity (sentiment) score of each senetence\"\"\"\n",
    "    sia = SentimentIntensityAnalyzer()\n",
    "    score = sia.polarity_scores(sentence)\n",
    "    return score['compound']"
   ]
  },
  {
   "cell_type": "code",
   "execution_count": 20,
   "metadata": {},
   "outputs": [],
   "source": [
    "# Sentiment of each sentence\n",
    "df_rev_sen['sentiment'] = df_rev_sen.sentence.apply(score)"
   ]
  },
  {
   "cell_type": "code",
   "execution_count": 21,
   "metadata": {},
   "outputs": [],
   "source": [
    "# Sort and save to csv file\n",
    "df_rev_sen = df_rev_sen.sort_values(['company','sentiment'], ascending = False).reset_index(drop=True)\n",
    "df_rev_sen.to_csv('../data/sentence.csv', index = False)"
   ]
  },
  {
   "cell_type": "code",
   "execution_count": 3,
   "metadata": {},
   "outputs": [
    {
     "data": {
      "text/html": [
       "<div>\n",
       "<style scoped>\n",
       "    .dataframe tbody tr th:only-of-type {\n",
       "        vertical-align: middle;\n",
       "    }\n",
       "\n",
       "    .dataframe tbody tr th {\n",
       "        vertical-align: top;\n",
       "    }\n",
       "\n",
       "    .dataframe thead th {\n",
       "        text-align: right;\n",
       "    }\n",
       "</style>\n",
       "<table border=\"1\" class=\"dataframe\">\n",
       "  <thead>\n",
       "    <tr style=\"text-align: right;\">\n",
       "      <th></th>\n",
       "      <th>sentence</th>\n",
       "      <th>company</th>\n",
       "      <th>sentiment</th>\n",
       "    </tr>\n",
       "  </thead>\n",
       "  <tbody>\n",
       "    <tr>\n",
       "      <td>0</td>\n",
       "      <td>I CALLED AND ASKED THEM WHY I WAS GETTING INTE...</td>\n",
       "      <td>Walmart MASTERCARD</td>\n",
       "      <td>0.8647</td>\n",
       "    </tr>\n",
       "    <tr>\n",
       "      <td>1</td>\n",
       "      <td>Excellent rewards and redeem easily when makin...</td>\n",
       "      <td>Walmart MASTERCARD</td>\n",
       "      <td>0.8481</td>\n",
       "    </tr>\n",
       "    <tr>\n",
       "      <td>2</td>\n",
       "      <td>I must note that I had also received 2 previou...</td>\n",
       "      <td>Walmart MASTERCARD</td>\n",
       "      <td>0.8225</td>\n",
       "    </tr>\n",
       "    <tr>\n",
       "      <td>3</td>\n",
       "      <td>After 6 weeks and a few major purchases I was ...</td>\n",
       "      <td>Walmart MASTERCARD</td>\n",
       "      <td>0.7943</td>\n",
       "    </tr>\n",
       "    <tr>\n",
       "      <td>4</td>\n",
       "      <td>I have the Walmart Mastercard for over 2 years...</td>\n",
       "      <td>Walmart MASTERCARD</td>\n",
       "      <td>0.7845</td>\n",
       "    </tr>\n",
       "  </tbody>\n",
       "</table>\n",
       "</div>"
      ],
      "text/plain": [
       "                                            sentence  \\\n",
       "0  I CALLED AND ASKED THEM WHY I WAS GETTING INTE...   \n",
       "1  Excellent rewards and redeem easily when makin...   \n",
       "2  I must note that I had also received 2 previou...   \n",
       "3  After 6 weeks and a few major purchases I was ...   \n",
       "4  I have the Walmart Mastercard for over 2 years...   \n",
       "\n",
       "              company  \\\n",
       "0  Walmart MASTERCARD   \n",
       "1  Walmart MASTERCARD   \n",
       "2  Walmart MASTERCARD   \n",
       "3  Walmart MASTERCARD   \n",
       "4  Walmart MASTERCARD   \n",
       "\n",
       "   sentiment  \n",
       "0     0.8647  \n",
       "1     0.8481  \n",
       "2     0.8225  \n",
       "3     0.7943  \n",
       "4     0.7845  "
      ]
     },
     "execution_count": 3,
     "metadata": {},
     "output_type": "execute_result"
    }
   ],
   "source": [
    "# Reload saved data\n",
    "df_sentence = pd.read_csv('../data/sentence.csv') \n",
    "df_sentence.head()"
   ]
  },
  {
   "cell_type": "code",
   "execution_count": 4,
   "metadata": {
    "scrolled": true
   },
   "outputs": [
    {
     "data": {
      "text/plain": [
       "(111357, 3)"
      ]
     },
     "execution_count": 4,
     "metadata": {},
     "output_type": "execute_result"
    }
   ],
   "source": [
    "df_sentence.shape"
   ]
  },
  {
   "cell_type": "code",
   "execution_count": 5,
   "metadata": {},
   "outputs": [
    {
     "data": {
      "text/plain": [
       "'After using other credit cards with travel rewards benefits, Capital One Venture has the best and easiest to use benefit program, hands down.'"
      ]
     },
     "execution_count": 5,
     "metadata": {},
     "output_type": "execute_result"
    }
   ],
   "source": [
    "df_sentence[df_sentence.company =='Capital One Quicksilver Rewards'].sentence.loc[78410]"
   ]
  },
  {
   "cell_type": "markdown",
   "metadata": {},
   "source": [
    "## Word Frequency"
   ]
  },
  {
   "cell_type": "code",
   "execution_count": 26,
   "metadata": {},
   "outputs": [],
   "source": [
    "def word_count(text):\n",
    "    \"\"\"Plot the most frequency words in the corpus\"\"\"\n",
    "    all_reviews = ' '.join(text) # join all reviews\n",
    "    token_count = Counter(my_tokenizer(all_reviews)) # count each word\n",
    "    common_words =  dict( token_count.most_common(n=25) ) # count most common 20 words\n",
    "    freq_plot = pd.Series(common_words, index=None).plot(kind = 'bar', figsize=(10,5))\n",
    "    plt.ylabel('count')\n",
    "    #plt.savefig('../figures/fig2.pdf')"
   ]
  },
  {
   "cell_type": "code",
   "execution_count": 27,
   "metadata": {},
   "outputs": [
    {
     "data": {
      "image/png": "[encoded data removed]",
      "text/plain": [
       "<Figure size 720x288 with 1 Axes>"
      ]
     },
     "metadata": {
      "needs_background": "light"
     },
     "output_type": "display_data"
    }
   ],
   "source": [
    "word_count(df_sentence.sentence)"
   ]
  },
  {
   "cell_type": "markdown",
   "metadata": {},
   "source": [
    "# Topic Modeling with LDA"
   ]
  },
  {
   "cell_type": "code",
   "execution_count": 7,
   "metadata": {},
   "outputs": [],
   "source": [
    "X, vocab, word2id, vectorizer = doc_term_matrix(df_sentence, 'sentence')"
   ]
  },
  {
   "cell_type": "code",
   "execution_count": 8,
   "metadata": {
    "scrolled": true
   },
   "outputs": [
    {
     "data": {
      "text/plain": [
       "(111357, 12715)"
      ]
     },
     "execution_count": 8,
     "metadata": {},
     "output_type": "execute_result"
    }
   ],
   "source": [
    "X.shape"
   ]
  },
  {
   "cell_type": "markdown",
   "metadata": {},
   "source": [
    "## 1. Sklearn LDA"
   ]
  },
  {
   "cell_type": "code",
   "execution_count": 9,
   "metadata": {},
   "outputs": [],
   "source": [
    "from sklearn.decomposition import LatentDirichletAllocation as LDA"
   ]
  },
  {
   "cell_type": "code",
   "execution_count": 10,
   "metadata": {},
   "outputs": [
    {
     "data": {
      "text/plain": [
       "LatentDirichletAllocation(batch_size=128, doc_topic_prior=None,\n",
       "                          evaluate_every=-1, learning_decay=0.7,\n",
       "                          learning_method='batch', learning_offset=10.0,\n",
       "                          max_doc_update_iter=100, max_iter=10,\n",
       "                          mean_change_tol=0.001, n_components=10, n_jobs=None,\n",
       "                          perp_tol=0.1, random_state=None,\n",
       "                          topic_word_prior=None, total_samples=1000000.0,\n",
       "                          verbose=0)"
      ]
     },
     "execution_count": 10,
     "metadata": {},
     "output_type": "execute_result"
    }
   ],
   "source": [
    "lda = LDA(n_components=10, learning_method='batch')\n",
    "lda.fit(X)"
   ]
  },
  {
   "cell_type": "code",
   "execution_count": 11,
   "metadata": {},
   "outputs": [
    {
     "data": {
      "text/plain": [
       "(10, 12715)"
      ]
     },
     "execution_count": 11,
     "metadata": {},
     "output_type": "execute_result"
    }
   ],
   "source": [
    "lda.components_.shape"
   ]
  },
  {
   "cell_type": "code",
   "execution_count": 13,
   "metadata": {},
   "outputs": [
    {
     "name": "stdout",
     "output_type": "stream",
     "text": [
      "Topic 0: payment due close statement still see mail check information sent\n",
      "Topic 1: back reward cash point purchase travel like great earn bonus\n",
      "Topic 2: great good recommend help score work anyone build report definitely\n",
      "Topic 3: payment first cancel apply since issue month approve process anything\n",
      "Topic 4: year bad experience far many nothing ago complaint several thank\n",
      "Topic 5: customer service fraud rep issue great helpful transaction phone speak\n",
      "Topic 6: fee charge limit late annual increase payment start much month\n",
      "Topic 7: love purchase problem every accepted mile amaze reward prime everywhere\n",
      "Topic 8: interest balance rate month paid high transfer low full apr\n",
      "Topic 9: like app online keep website open happy bill feel simple\n"
     ]
    }
   ],
   "source": [
    "topics = ['topic{}'.format(i) for i in range(lda.components_.shape[0])]\n",
    "components = pd.DataFrame(lda.components_.T, index=vocab, columns = topics)/len(X.toarray())\n",
    "n_top_words = 10\n",
    "for i, topic_dist in enumerate(topics):\n",
    "    topic_words = components[topics[i]].sort_values(ascending=False)[:n_top_words].index\n",
    "    print('Topic {}: {}'.format(i, ' '.join(topic_words)))"
   ]
  },
  {
   "cell_type": "markdown",
   "metadata": {},
   "source": [
    "## 2. Guided LDA"
   ]
  },
  {
   "cell_type": "code",
   "execution_count": 20,
   "metadata": {
    "scrolled": true
   },
   "outputs": [
    {
     "name": "stderr",
     "output_type": "stream",
     "text": [
      "INFO:guidedlda:n_documents: 111357\n",
      "INFO:guidedlda:vocab_size: 12715\n",
      "INFO:guidedlda:n_words: 538584\n",
      "INFO:guidedlda:n_topics: 12\n",
      "INFO:guidedlda:n_iter: 100\n",
      "WARNING:guidedlda:all zero row in document-term matrix found\n",
      "/Users/sowerre/GuidedLDA/guidedlda/utils.py:55: FutureWarning: Conversion of the second argument of issubdtype from `int` to `np.signedinteger` is deprecated. In future, it will be treated as `np.int64 == np.dtype(int).type`.\n",
      "  if sparse and not np.issubdtype(doc_word.dtype, int):\n",
      "INFO:guidedlda:<0> log likelihood: -6547344\n",
      "INFO:guidedlda:<20> log likelihood: -4188181\n",
      "INFO:guidedlda:<40> log likelihood: -4118918\n",
      "INFO:guidedlda:<60> log likelihood: -4033522\n",
      "INFO:guidedlda:<80> log likelihood: -3981162\n",
      "INFO:guidedlda:<99> log likelihood: -3948241\n"
     ]
    },
    {
     "data": {
      "text/plain": [
       "<guidedlda.guidedlda.GuidedLDA at 0x1a28887a20>"
      ]
     },
     "execution_count": 20,
     "metadata": {},
     "output_type": "execute_result"
    }
   ],
   "source": [
    "# Normal LDA without seeding\n",
    "model = guidedlda.GuidedLDA(n_topics=12, n_iter=100, random_state=7, refresh=20)\n",
    "model.fit(X)"
   ]
  },
  {
   "cell_type": "code",
   "execution_count": 21,
   "metadata": {},
   "outputs": [
    {
     "name": "stdout",
     "output_type": "stream",
     "text": [
      "Topic 0: customer service great good help bad experience recommend problem year\n",
      "Topic 1: payment charge check bill close sent phone information letter mail\n",
      "Topic 2: reward back cash great recommend interest rate good month like\n",
      "Topic 3: fee payment charge month late balance interest paid bill year\n",
      "Topic 4: back cash reward love point great purchase travel like earn\n",
      "Topic 5: rate interest high great good fee like reward love low\n",
      "Topic 6: reward fee purchase like back great point cash year good\n",
      "Topic 7: payment charge month back close year cancel purchase phone wait\n",
      "Topic 8: fee payment month limit year interest balance charge score increase\n",
      "Topic 9: reward great back cash love point travel purchase like good\n",
      "Topic 10: customer service online payment app website phone problem great issue\n",
      "Topic 11: payment charge bill mail online back phone email due month\n"
     ]
    }
   ],
   "source": [
    "topic_word = model.topic_word_\n",
    "n_top_words = 10\n",
    "for i, topic_dist in enumerate(topic_word):\n",
    "    topic_words = np.array(vocab)[np.argsort(topic_dist)][:-(n_top_words+1):-1]\n",
    "    print('Topic {}: {}'.format(i, ' '.join(topic_words)))"
   ]
  },
  {
   "cell_type": "code",
   "execution_count": 28,
   "metadata": {},
   "outputs": [
    {
     "name": "stderr",
     "output_type": "stream",
     "text": [
      "INFO:guidedlda:n_documents: 111357\n",
      "INFO:guidedlda:vocab_size: 12715\n",
      "INFO:guidedlda:n_words: 538584\n",
      "INFO:guidedlda:n_topics: 10\n",
      "INFO:guidedlda:n_iter: 1000\n",
      "WARNING:guidedlda:all zero row in document-term matrix found\n",
      "INFO:guidedlda:<0> log likelihood: -6394427\n",
      "INFO:guidedlda:<20> log likelihood: -4078054\n",
      "INFO:guidedlda:<40> log likelihood: -3968008\n",
      "INFO:guidedlda:<60> log likelihood: -3912541\n",
      "INFO:guidedlda:<80> log likelihood: -3882386\n",
      "INFO:guidedlda:<100> log likelihood: -3862220\n",
      "INFO:guidedlda:<120> log likelihood: -3848003\n",
      "INFO:guidedlda:<140> log likelihood: -3840018\n",
      "INFO:guidedlda:<160> log likelihood: -3831811\n",
      "INFO:guidedlda:<180> log likelihood: -3827367\n",
      "INFO:guidedlda:<200> log likelihood: -3822107\n",
      "INFO:guidedlda:<220> log likelihood: -3818415\n",
      "INFO:guidedlda:<240> log likelihood: -3815460\n",
      "INFO:guidedlda:<260> log likelihood: -3813544\n",
      "INFO:guidedlda:<280> log likelihood: -3810635\n",
      "INFO:guidedlda:<300> log likelihood: -3809901\n",
      "INFO:guidedlda:<320> log likelihood: -3807698\n",
      "INFO:guidedlda:<340> log likelihood: -3807068\n",
      "INFO:guidedlda:<360> log likelihood: -3805959\n",
      "INFO:guidedlda:<380> log likelihood: -3803755\n",
      "INFO:guidedlda:<400> log likelihood: -3803508\n",
      "INFO:guidedlda:<420> log likelihood: -3802823\n",
      "INFO:guidedlda:<440> log likelihood: -3802652\n",
      "INFO:guidedlda:<460> log likelihood: -3800855\n",
      "INFO:guidedlda:<480> log likelihood: -3800989\n",
      "INFO:guidedlda:<500> log likelihood: -3800269\n",
      "INFO:guidedlda:<520> log likelihood: -3799562\n",
      "INFO:guidedlda:<540> log likelihood: -3799721\n",
      "INFO:guidedlda:<560> log likelihood: -3797945\n",
      "INFO:guidedlda:<580> log likelihood: -3797631\n",
      "INFO:guidedlda:<600> log likelihood: -3797135\n",
      "INFO:guidedlda:<620> log likelihood: -3797655\n",
      "INFO:guidedlda:<640> log likelihood: -3796425\n",
      "INFO:guidedlda:<660> log likelihood: -3795425\n",
      "INFO:guidedlda:<680> log likelihood: -3794537\n",
      "INFO:guidedlda:<700> log likelihood: -3795279\n",
      "INFO:guidedlda:<720> log likelihood: -3794956\n",
      "INFO:guidedlda:<740> log likelihood: -3793820\n",
      "INFO:guidedlda:<760> log likelihood: -3794241\n",
      "INFO:guidedlda:<780> log likelihood: -3793678\n",
      "INFO:guidedlda:<800> log likelihood: -3793748\n",
      "INFO:guidedlda:<820> log likelihood: -3794458\n",
      "INFO:guidedlda:<840> log likelihood: -3793003\n",
      "INFO:guidedlda:<860> log likelihood: -3794255\n",
      "INFO:guidedlda:<880> log likelihood: -3793141\n",
      "INFO:guidedlda:<900> log likelihood: -3792718\n",
      "INFO:guidedlda:<920> log likelihood: -3793211\n",
      "INFO:guidedlda:<940> log likelihood: -3792778\n",
      "INFO:guidedlda:<960> log likelihood: -3792827\n",
      "INFO:guidedlda:<980> log likelihood: -3792633\n",
      "INFO:guidedlda:<999> log likelihood: -3793060\n"
     ]
    },
    {
     "data": {
      "text/plain": [
       "<guidedlda.guidedlda.GuidedLDA at 0x1a259906d8>"
      ]
     },
     "execution_count": 28,
     "metadata": {},
     "output_type": "execute_result"
    }
   ],
   "source": [
    "# Guided LDA with seed topics.\n",
    "seed_topic_list = [['online', 'app','website','apply', 'approve', 'online', 'offer', 'application'],\n",
    "                    ['customer','service','good', 'great', 'helpful', 'love', 'help', 'excellent'],\n",
    "                   [ 'payment', 'fee', 'charge', 'late', 'month', 'due', 'score'],\n",
    "                    ['close', 'cancel',  'closure', 'charge'],\n",
    "                    ['high', 'interest', 'rate',  'apr', 'annual', 'fee', 'yearly', 'limit'],\n",
    "                    ['recommend','good', 'love','like', 'great'],\n",
    "                    ['fraud', 'fraudulent','scam', 'terrible'],\n",
    "                    ['reward', 'point','cash', 'back', 'purchase','good', 'love'], \n",
    "                    ['mile', 'travel', 'point', 'airline', 'good', 'love'],\n",
    "                    ['build', 'rebuild', 'limit']]\n",
    "                    \n",
    "model = guidedlda.GuidedLDA(n_topics=10, n_iter=1000, random_state=7, refresh=20)\n",
    "\n",
    "seed_topics = {}\n",
    "for t_id, st in enumerate(seed_topic_list):\n",
    "    for word in st:\n",
    "        seed_topics[word2id[word]] = t_id\n",
    "        \n",
    "model.fit(X, seed_topics=seed_topics, seed_confidence=0.15)"
   ]
  },
  {
   "cell_type": "code",
   "execution_count": 19,
   "metadata": {},
   "outputs": [],
   "source": [
    "# joblib.dump(model, 'trained_lda.pkl')"
   ]
  },
  {
   "cell_type": "code",
   "execution_count": 95,
   "metadata": {},
   "outputs": [],
   "source": [
    "# trained_model = joblib.load('trained_lda.pkl')"
   ]
  },
  {
   "cell_type": "code",
   "execution_count": 31,
   "metadata": {
    "scrolled": true
   },
   "outputs": [
    {
     "name": "stdout",
     "output_type": "stream",
     "text": [
      "Topic 0: payment online app website purchase bill check like statement love charge email balance phone\n",
      "Topic 1: service customer great good love helpful problem issue excellent experience friendly bad app help\n",
      "Topic 2: payment fee charge month late balance paid due bill interest close full statement date\n",
      "Topic 3: customer service like bad understand cancel speak help talk someone person problem phone close\n",
      "Topic 4: interest fee rate high annual balance low month great apr year offer transfer reward\n",
      "Topic 5: recommend great good love anyone reward highly help definitely like experience best first build\n",
      "Topic 6: back charge phone address mail sent letter customer service issue payment cancel state close\n",
      "Topic 7: back cash reward purchase love point great like earn gas month bonus offer every\n",
      "Topic 8: travel point reward love great purchase like fee mile lot good earn transaction accepted\n",
      "Topic 9: limit year score increase month payment help good apply first approve start since ago\n"
     ]
    }
   ],
   "source": [
    "n_top_words =14\n",
    "topic_word = model.topic_word_\n",
    "for i, topic_dist in enumerate(topic_word):\n",
    "    topic_words = np.array(vocab)[np.argsort(topic_dist)][:-(n_top_words+1):-1]\n",
    "    print('Topic {}: {}'.format(i, ' '.join(topic_words)))"
   ]
  },
  {
   "cell_type": "markdown",
   "metadata": {},
   "source": [
    "## Document-topic distributions"
   ]
  },
  {
   "cell_type": "code",
   "execution_count": 11,
   "metadata": {},
   "outputs": [],
   "source": [
    "trained_model = joblib.load('trained_lda.pkl') # load trained model"
   ]
  },
  {
   "cell_type": "code",
   "execution_count": 34,
   "metadata": {},
   "outputs": [],
   "source": [
    "# List of keywords\n",
    "word_list = [', '.join(np.array(vocab)[list(reversed(X[i,:].argsort()))[0:10]]) for i in range(len(X.toarray()))]"
   ]
  },
  {
   "cell_type": "code",
   "execution_count": 35,
   "metadata": {},
   "outputs": [
    {
     "name": "stderr",
     "output_type": "stream",
     "text": [
      "WARNING:guidedlda:all zero row in document-term matrix found\n"
     ]
    }
   ],
   "source": [
    "# Extract the topic vector\n",
    "doc_topic = trained_model.transform(X)\n",
    "# num_topic = [doc_topic[i].argmax() for i in range(len(X))] #  extract maximum topic number"
   ]
  },
  {
   "cell_type": "code",
   "execution_count": 36,
   "metadata": {},
   "outputs": [
    {
     "data": {
      "text/html": [
       "<div>\n",
       "<style scoped>\n",
       "    .dataframe tbody tr th:only-of-type {\n",
       "        vertical-align: middle;\n",
       "    }\n",
       "\n",
       "    .dataframe tbody tr th {\n",
       "        vertical-align: top;\n",
       "    }\n",
       "\n",
       "    .dataframe thead th {\n",
       "        text-align: right;\n",
       "    }\n",
       "</style>\n",
       "<table border=\"1\" class=\"dataframe\">\n",
       "  <thead>\n",
       "    <tr style=\"text-align: right;\">\n",
       "      <th></th>\n",
       "      <th>topic 0</th>\n",
       "      <th>topic 1</th>\n",
       "      <th>topic 2</th>\n",
       "      <th>topic 3</th>\n",
       "      <th>topic 4</th>\n",
       "      <th>topic 5</th>\n",
       "      <th>topic 6</th>\n",
       "      <th>topic 7</th>\n",
       "      <th>topic 8</th>\n",
       "      <th>topic 9</th>\n",
       "    </tr>\n",
       "  </thead>\n",
       "  <tbody>\n",
       "    <tr>\n",
       "      <td>0</td>\n",
       "      <td>0.0</td>\n",
       "      <td>0.00</td>\n",
       "      <td>0.69</td>\n",
       "      <td>0.00</td>\n",
       "      <td>0.3</td>\n",
       "      <td>0.0</td>\n",
       "      <td>0.00</td>\n",
       "      <td>0.00</td>\n",
       "      <td>0.00</td>\n",
       "      <td>0.00</td>\n",
       "    </tr>\n",
       "    <tr>\n",
       "      <td>1</td>\n",
       "      <td>0.0</td>\n",
       "      <td>0.01</td>\n",
       "      <td>0.00</td>\n",
       "      <td>0.00</td>\n",
       "      <td>0.0</td>\n",
       "      <td>0.0</td>\n",
       "      <td>0.00</td>\n",
       "      <td>0.96</td>\n",
       "      <td>0.02</td>\n",
       "      <td>0.00</td>\n",
       "    </tr>\n",
       "    <tr>\n",
       "      <td>2</td>\n",
       "      <td>0.0</td>\n",
       "      <td>0.12</td>\n",
       "      <td>0.00</td>\n",
       "      <td>0.05</td>\n",
       "      <td>0.0</td>\n",
       "      <td>0.0</td>\n",
       "      <td>0.43</td>\n",
       "      <td>0.00</td>\n",
       "      <td>0.00</td>\n",
       "      <td>0.39</td>\n",
       "    </tr>\n",
       "    <tr>\n",
       "      <td>3</td>\n",
       "      <td>0.0</td>\n",
       "      <td>0.00</td>\n",
       "      <td>0.37</td>\n",
       "      <td>0.00</td>\n",
       "      <td>0.0</td>\n",
       "      <td>0.0</td>\n",
       "      <td>0.00</td>\n",
       "      <td>0.00</td>\n",
       "      <td>0.00</td>\n",
       "      <td>0.62</td>\n",
       "    </tr>\n",
       "    <tr>\n",
       "      <td>4</td>\n",
       "      <td>0.0</td>\n",
       "      <td>0.00</td>\n",
       "      <td>0.53</td>\n",
       "      <td>0.00</td>\n",
       "      <td>0.0</td>\n",
       "      <td>0.0</td>\n",
       "      <td>0.46</td>\n",
       "      <td>0.00</td>\n",
       "      <td>0.00</td>\n",
       "      <td>0.00</td>\n",
       "    </tr>\n",
       "  </tbody>\n",
       "</table>\n",
       "</div>"
      ],
      "text/plain": [
       "   topic 0  \\\n",
       "0      0.0   \n",
       "1      0.0   \n",
       "2      0.0   \n",
       "3      0.0   \n",
       "4      0.0   \n",
       "\n",
       "   topic 1  \\\n",
       "0     0.00   \n",
       "1     0.01   \n",
       "2     0.12   \n",
       "3     0.00   \n",
       "4     0.00   \n",
       "\n",
       "   topic 2  \\\n",
       "0     0.69   \n",
       "1     0.00   \n",
       "2     0.00   \n",
       "3     0.37   \n",
       "4     0.53   \n",
       "\n",
       "   topic 3  \\\n",
       "0     0.00   \n",
       "1     0.00   \n",
       "2     0.05   \n",
       "3     0.00   \n",
       "4     0.00   \n",
       "\n",
       "   topic 4  \\\n",
       "0      0.3   \n",
       "1      0.0   \n",
       "2      0.0   \n",
       "3      0.0   \n",
       "4      0.0   \n",
       "\n",
       "   topic 5  \\\n",
       "0      0.0   \n",
       "1      0.0   \n",
       "2      0.0   \n",
       "3      0.0   \n",
       "4      0.0   \n",
       "\n",
       "   topic 6  \\\n",
       "0     0.00   \n",
       "1     0.00   \n",
       "2     0.43   \n",
       "3     0.00   \n",
       "4     0.46   \n",
       "\n",
       "   topic 7  \\\n",
       "0     0.00   \n",
       "1     0.96   \n",
       "2     0.00   \n",
       "3     0.00   \n",
       "4     0.00   \n",
       "\n",
       "   topic 8  \\\n",
       "0     0.00   \n",
       "1     0.02   \n",
       "2     0.00   \n",
       "3     0.00   \n",
       "4     0.00   \n",
       "\n",
       "   topic 9  \n",
       "0     0.00  \n",
       "1     0.00  \n",
       "2     0.39  \n",
       "3     0.62  \n",
       "4     0.00  "
      ]
     },
     "execution_count": 36,
     "metadata": {},
     "output_type": "execute_result"
    }
   ],
   "source": [
    "columns10 = ['topic {}'.format(i) for i in range(10)]\n",
    "topic_vector = pd.DataFrame(doc_topic, columns = columns10)\n",
    "topic_vector.round(2).head()"
   ]
  },
  {
   "cell_type": "code",
   "execution_count": 37,
   "metadata": {},
   "outputs": [],
   "source": [
    "# Assign topic if it is more than 70% dominant\n",
    "num_topic = topic_threshold(doc_topic, topic_vector, threshold =0.7)"
   ]
  },
  {
   "cell_type": "code",
   "execution_count": 45,
   "metadata": {},
   "outputs": [],
   "source": [
    "# Topic, keywords, sentence dataframe\n",
    "df_doc_topic = pd.DataFrame({'topics': num_topic, 'keywords': word_list})\n",
    "df_doc_topic['sentences'] = df_sentence['sentence']\n",
    "df_doc_topic['creditcards'] = df_sentence['company']\n",
    "df_doc_topic['sentiments'] = df_sentence['sentiment']"
   ]
  },
  {
   "cell_type": "code",
   "execution_count": 46,
   "metadata": {},
   "outputs": [],
   "source": [
    "# Mean sentiment for each credit card\n",
    "# df_doc_topic['mean_sentiments'] = df_doc_topic['creditcards']\n",
    "# df_doc_topic['mean_sentiments'] = df_doc_topic['mean_sentiments'].map(dict(round(mean_senti,2)))"
   ]
  },
  {
   "cell_type": "code",
   "execution_count": 47,
   "metadata": {},
   "outputs": [
    {
     "data": {
      "text/html": [
       "<div>\n",
       "<style scoped>\n",
       "    .dataframe tbody tr th:only-of-type {\n",
       "        vertical-align: middle;\n",
       "    }\n",
       "\n",
       "    .dataframe tbody tr th {\n",
       "        vertical-align: top;\n",
       "    }\n",
       "\n",
       "    .dataframe thead th {\n",
       "        text-align: right;\n",
       "    }\n",
       "</style>\n",
       "<table border=\"1\" class=\"dataframe\">\n",
       "  <thead>\n",
       "    <tr style=\"text-align: right;\">\n",
       "      <th></th>\n",
       "      <th>topics</th>\n",
       "      <th>keywords</th>\n",
       "      <th>sentences</th>\n",
       "      <th>creditcards</th>\n",
       "      <th>sentiments</th>\n",
       "    </tr>\n",
       "  </thead>\n",
       "  <tbody>\n",
       "    <tr>\n",
       "      <td>0</td>\n",
       "      <td>7</td>\n",
       "      <td>easily, walmart, excellent, purchase, reward, ...</td>\n",
       "      <td>Excellent rewards and redeem easily when makin...</td>\n",
       "      <td>Walmart MASTERCARD</td>\n",
       "      <td>0.8481</td>\n",
       "    </tr>\n",
       "    <tr>\n",
       "      <td>1</td>\n",
       "      <td>5</td>\n",
       "      <td>maintain, wise, several, great, relationship, ...</td>\n",
       "      <td>I have several credit cards and maintain a gre...</td>\n",
       "      <td>Walmart MASTERCARD</td>\n",
       "      <td>0.7717</td>\n",
       "    </tr>\n",
       "    <tr>\n",
       "      <td>2</td>\n",
       "      <td>5</td>\n",
       "      <td>start, building, great, œentry, extranjera, ex...</td>\n",
       "      <td>They are also a great start to building your c...</td>\n",
       "      <td>Walmart MASTERCARD</td>\n",
       "      <td>0.7717</td>\n",
       "    </tr>\n",
       "    <tr>\n",
       "      <td>3</td>\n",
       "      <td>5</td>\n",
       "      <td>start, first, positive, reward, walmart, exten...</td>\n",
       "      <td>First I'll start with the positives about Walm...</td>\n",
       "      <td>Walmart MASTERCARD</td>\n",
       "      <td>0.7579</td>\n",
       "    </tr>\n",
       "    <tr>\n",
       "      <td>4</td>\n",
       "      <td>9</td>\n",
       "      <td>pre, approve, limit, loyal, start, letter, sin...</td>\n",
       "      <td>I have had this card since 2014... started wit...</td>\n",
       "      <td>Walmart MASTERCARD</td>\n",
       "      <td>0.7269</td>\n",
       "    </tr>\n",
       "  </tbody>\n",
       "</table>\n",
       "</div>"
      ],
      "text/plain": [
       "  topics  \\\n",
       "0      7   \n",
       "1      5   \n",
       "2      5   \n",
       "3      5   \n",
       "4      9   \n",
       "\n",
       "                                            keywords  \\\n",
       "0  easily, walmart, excellent, purchase, reward, ...   \n",
       "1  maintain, wise, several, great, relationship, ...   \n",
       "2  start, building, great, œentry, extranjera, ex...   \n",
       "3  start, first, positive, reward, walmart, exten...   \n",
       "4  pre, approve, limit, loyal, start, letter, sin...   \n",
       "\n",
       "                                           sentences  \\\n",
       "0  Excellent rewards and redeem easily when makin...   \n",
       "1  I have several credit cards and maintain a gre...   \n",
       "2  They are also a great start to building your c...   \n",
       "3  First I'll start with the positives about Walm...   \n",
       "4  I have had this card since 2014... started wit...   \n",
       "\n",
       "          creditcards  \\\n",
       "0  Walmart MASTERCARD   \n",
       "1  Walmart MASTERCARD   \n",
       "2  Walmart MASTERCARD   \n",
       "3  Walmart MASTERCARD   \n",
       "4  Walmart MASTERCARD   \n",
       "\n",
       "   sentiments  \n",
       "0      0.8481  \n",
       "1      0.7717  \n",
       "2      0.7717  \n",
       "3      0.7579  \n",
       "4      0.7269  "
      ]
     },
     "execution_count": 47,
     "metadata": {},
     "output_type": "execute_result"
    }
   ],
   "source": [
    "# Drop sentence with no topic\n",
    "df = df_doc_topic[df_doc_topic['topics'] != 'None'].reset_index(drop = True)\n",
    "df.head()"
   ]
  },
  {
   "cell_type": "code",
   "execution_count": 48,
   "metadata": {},
   "outputs": [
    {
     "data": {
      "text/plain": [
       "(69982, 5)"
      ]
     },
     "execution_count": 48,
     "metadata": {},
     "output_type": "execute_result"
    }
   ],
   "source": [
    "df.shape"
   ]
  },
  {
   "cell_type": "code",
   "execution_count": 49,
   "metadata": {},
   "outputs": [],
   "source": [
    "topic_dict ={0: 'Online Experience',\n",
    "             1: 'Customer Service',\n",
    "             2: 'Bill Disputes',\n",
    "             3: 'Customer Service',\n",
    "             4: 'Interest Rate',\n",
    "             5: 'User Recommendation',\n",
    "             6: 'Fraud Issues',\n",
    "             7: 'Cash Back and Rewards',\n",
    "             8: 'Travel Rewards',\n",
    "             9: 'Build or Rebuild Credit'}"
   ]
  },
  {
   "cell_type": "code",
   "execution_count": 50,
   "metadata": {},
   "outputs": [],
   "source": [
    "df.topics = df.topics.map(topic_dict)"
   ]
  },
  {
   "cell_type": "code",
   "execution_count": 51,
   "metadata": {},
   "outputs": [],
   "source": [
    "df.to_csv('../data/creditcard_topics.csv', index = False)"
   ]
  },
  {
   "cell_type": "code",
   "execution_count": 7,
   "metadata": {},
   "outputs": [],
   "source": [
    "df = pd.read_csv('../data/creditcard_topics.csv')"
   ]
  },
  {
   "cell_type": "code",
   "execution_count": 8,
   "metadata": {
    "scrolled": true
   },
   "outputs": [
    {
     "data": {
      "text/html": [
       "<div>\n",
       "<style scoped>\n",
       "    .dataframe tbody tr th:only-of-type {\n",
       "        vertical-align: middle;\n",
       "    }\n",
       "\n",
       "    .dataframe tbody tr th {\n",
       "        vertical-align: top;\n",
       "    }\n",
       "\n",
       "    .dataframe thead th {\n",
       "        text-align: right;\n",
       "    }\n",
       "</style>\n",
       "<table border=\"1\" class=\"dataframe\">\n",
       "  <thead>\n",
       "    <tr style=\"text-align: right;\">\n",
       "      <th></th>\n",
       "      <th>topics</th>\n",
       "      <th>keywords</th>\n",
       "      <th>sentences</th>\n",
       "      <th>creditcards</th>\n",
       "      <th>sentiments</th>\n",
       "    </tr>\n",
       "  </thead>\n",
       "  <tbody>\n",
       "    <tr>\n",
       "      <td>0</td>\n",
       "      <td>Cash Back and Rewards</td>\n",
       "      <td>easily, walmart, excellent, purchase, reward, ...</td>\n",
       "      <td>Excellent rewards and redeem easily when makin...</td>\n",
       "      <td>Walmart MASTERCARD</td>\n",
       "      <td>0.8481</td>\n",
       "    </tr>\n",
       "    <tr>\n",
       "      <td>1</td>\n",
       "      <td>User Recommendation</td>\n",
       "      <td>maintain, wise, several, great, relationship, ...</td>\n",
       "      <td>I have several credit cards and maintain a gre...</td>\n",
       "      <td>Walmart MASTERCARD</td>\n",
       "      <td>0.7717</td>\n",
       "    </tr>\n",
       "    <tr>\n",
       "      <td>2</td>\n",
       "      <td>User Recommendation</td>\n",
       "      <td>start, building, great, œentry, extranjera, ex...</td>\n",
       "      <td>They are also a great start to building your c...</td>\n",
       "      <td>Walmart MASTERCARD</td>\n",
       "      <td>0.7717</td>\n",
       "    </tr>\n",
       "    <tr>\n",
       "      <td>3</td>\n",
       "      <td>User Recommendation</td>\n",
       "      <td>start, first, positive, reward, walmart, exten...</td>\n",
       "      <td>First I'll start with the positives about Walm...</td>\n",
       "      <td>Walmart MASTERCARD</td>\n",
       "      <td>0.7579</td>\n",
       "    </tr>\n",
       "    <tr>\n",
       "      <td>4</td>\n",
       "      <td>Build or Rebuild Credit</td>\n",
       "      <td>pre, approve, limit, loyal, start, letter, sin...</td>\n",
       "      <td>I have had this card since 2014... started wit...</td>\n",
       "      <td>Walmart MASTERCARD</td>\n",
       "      <td>0.7269</td>\n",
       "    </tr>\n",
       "  </tbody>\n",
       "</table>\n",
       "</div>"
      ],
      "text/plain": [
       "                    topics  \\\n",
       "0    Cash Back and Rewards   \n",
       "1      User Recommendation   \n",
       "2      User Recommendation   \n",
       "3      User Recommendation   \n",
       "4  Build or Rebuild Credit   \n",
       "\n",
       "                                            keywords  \\\n",
       "0  easily, walmart, excellent, purchase, reward, ...   \n",
       "1  maintain, wise, several, great, relationship, ...   \n",
       "2  start, building, great, œentry, extranjera, ex...   \n",
       "3  start, first, positive, reward, walmart, exten...   \n",
       "4  pre, approve, limit, loyal, start, letter, sin...   \n",
       "\n",
       "                                           sentences  \\\n",
       "0  Excellent rewards and redeem easily when makin...   \n",
       "1  I have several credit cards and maintain a gre...   \n",
       "2  They are also a great start to building your c...   \n",
       "3  First I'll start with the positives about Walm...   \n",
       "4  I have had this card since 2014... started wit...   \n",
       "\n",
       "          creditcards  \\\n",
       "0  Walmart MASTERCARD   \n",
       "1  Walmart MASTERCARD   \n",
       "2  Walmart MASTERCARD   \n",
       "3  Walmart MASTERCARD   \n",
       "4  Walmart MASTERCARD   \n",
       "\n",
       "   sentiments  \n",
       "0      0.8481  \n",
       "1      0.7717  \n",
       "2      0.7717  \n",
       "3      0.7579  \n",
       "4      0.7269  "
      ]
     },
     "execution_count": 8,
     "metadata": {},
     "output_type": "execute_result"
    }
   ],
   "source": [
    "df.head()"
   ]
  },
  {
   "cell_type": "code",
   "execution_count": 12,
   "metadata": {},
   "outputs": [
    {
     "data": {
      "text/plain": [
       "'Excellent rewards and redeem easily when making purchases in Walmart stores.'"
      ]
     },
     "execution_count": 12,
     "metadata": {},
     "output_type": "execute_result"
    }
   ],
   "source": [
    "df.sentences.loc[0]"
   ]
  },
  {
   "cell_type": "code",
   "execution_count": 54,
   "metadata": {},
   "outputs": [
    {
     "data": {
      "text/html": [
       "<div>\n",
       "<style scoped>\n",
       "    .dataframe tbody tr th:only-of-type {\n",
       "        vertical-align: middle;\n",
       "    }\n",
       "\n",
       "    .dataframe tbody tr th {\n",
       "        vertical-align: top;\n",
       "    }\n",
       "\n",
       "    .dataframe thead th {\n",
       "        text-align: right;\n",
       "    }\n",
       "</style>\n",
       "<table border=\"1\" class=\"dataframe\">\n",
       "  <thead>\n",
       "    <tr style=\"text-align: right;\">\n",
       "      <th></th>\n",
       "      <th>topics</th>\n",
       "      <th>credit_card</th>\n",
       "      <th>topic_sentiment</th>\n",
       "    </tr>\n",
       "  </thead>\n",
       "  <tbody>\n",
       "    <tr>\n",
       "      <td>0</td>\n",
       "      <td>Build or Rebuild Credit</td>\n",
       "      <td>Capital One Secured Credit Card</td>\n",
       "      <td>0.43</td>\n",
       "    </tr>\n",
       "    <tr>\n",
       "      <td>1</td>\n",
       "      <td>Bill Disputes</td>\n",
       "      <td>Aspire Visa</td>\n",
       "      <td>-0.11</td>\n",
       "    </tr>\n",
       "    <tr>\n",
       "      <td>2</td>\n",
       "      <td>Bill Disputes</td>\n",
       "      <td>Walmart MASTERCARD</td>\n",
       "      <td>-0.06</td>\n",
       "    </tr>\n",
       "    <tr>\n",
       "      <td>3</td>\n",
       "      <td>User Recommendation</td>\n",
       "      <td>Citi Diamond Preferred Card</td>\n",
       "      <td>0.48</td>\n",
       "    </tr>\n",
       "    <tr>\n",
       "      <td>4</td>\n",
       "      <td>Cash Back and Rewards</td>\n",
       "      <td>Capital One Venture Rewards</td>\n",
       "      <td>0.56</td>\n",
       "    </tr>\n",
       "  </tbody>\n",
       "</table>\n",
       "</div>"
      ],
      "text/plain": [
       "                    topics  \\\n",
       "0  Build or Rebuild Credit   \n",
       "1            Bill Disputes   \n",
       "2            Bill Disputes   \n",
       "3      User Recommendation   \n",
       "4    Cash Back and Rewards   \n",
       "\n",
       "                       credit_card  \\\n",
       "0  Capital One Secured Credit Card   \n",
       "1                      Aspire Visa   \n",
       "2               Walmart MASTERCARD   \n",
       "3      Citi Diamond Preferred Card   \n",
       "4      Capital One Venture Rewards   \n",
       "\n",
       "   topic_sentiment  \n",
       "0             0.43  \n",
       "1            -0.11  \n",
       "2            -0.06  \n",
       "3             0.48  \n",
       "4             0.56  "
      ]
     },
     "execution_count": 54,
     "metadata": {},
     "output_type": "execute_result"
    }
   ],
   "source": [
    "# Put the result in a dataframe\n",
    "topics, card_list, topic_sentiment = credit_card(df)\n",
    "card_data = pd.DataFrame({'topics': topics, 'credit_card': card_list, 'topic_sentiment':topic_sentiment})\n",
    "card_data = card_data.sample(frac=1).reset_index(drop= True)\n",
    "card_data.head()"
   ]
  },
  {
   "cell_type": "code",
   "execution_count": 55,
   "metadata": {},
   "outputs": [
    {
     "data": {
      "text/plain": [
       "(354, 3)"
      ]
     },
     "execution_count": 55,
     "metadata": {},
     "output_type": "execute_result"
    }
   ],
   "source": [
    "card_data.shape"
   ]
  },
  {
   "cell_type": "code",
   "execution_count": 14,
   "metadata": {},
   "outputs": [],
   "source": [
    "import pyLDAvis\n",
    "import pyLDAvis.sklearn\n",
    "pyLDAvis.enable_notebook()"
   ]
  },
  {
   "cell_type": "code",
   "execution_count": null,
   "metadata": {},
   "outputs": [],
   "source": [
    "panel = pyLDAvis.sklearn.prepare(lda, X, vectorizer, mds ='tsne')"
   ]
  },
  {
   "cell_type": "code",
   "execution_count": 18,
   "metadata": {},
   "outputs": [
    {
     "data": {
      "text/html": [
       "\n",
       "<link rel=\"stylesheet\" type=\"text/css\" href=\"https://cdn.rawgit.com/bmabey/pyLDAvis/files/ldavis.v1.0.0.css\">\n",
       "\n",
       "\n",
       "<div id=\"ldavis_el602921123294397764016559082\"></div>\n",
       "<script type=\"text/javascript\">\n",
       "\n",
       "var ldavis_el602921123294397764016559082_data = {\"mdsDat\": {\"x\": [-15.921624183654785, -123.3023452758789, 41.32371139526367, 167.22654724121094, -29.271013259887695, 148.7052001953125, 77.70691680908203, -52.314491271972656, 54.66686248779297, -141.8275146484375], \"y\": [143.208740234375, 82.4771957397461, -165.70425415039062, 16.99236297607422, 17.670568466186523, -104.9732894897461, 83.08162689208984, -105.58987426757812, -40.174251556396484, -39.48903274536133], \"topics\": [1, 2, 3, 4, 5, 6, 7, 8, 9, 10], \"cluster\": [1, 1, 1, 1, 1, 1, 1, 1, 1, 1], \"Freq\": [15.114157943789328, 13.302151265416748, 11.070652623281987, 10.350412108998237, 9.601245509801482, 9.131852022255806, 8.542751451844403, 7.978312725981534, 7.955584369963464, 6.952879978667009]}, \"tinfo\": {\"Category\": [\"Default\", \"Default\", \"Default\", \"Default\", \"Default\", \"Default\", \"Default\", \"Default\", \"Default\", \"Default\", \"Default\", \"Default\", \"Default\", \"Default\", \"Default\", \"Default\", \"Default\", \"Default\", \"Default\", \"Default\", \"Default\", \"Default\", \"Default\", \"Default\", \"Default\", \"Default\", \"Default\", \"Default\", \"Default\", \"Default\", \"Topic1\", \"Topic1\", \"Topic1\", \"Topic1\", \"Topic1\", \"Topic1\", \"Topic1\", \"Topic1\", \"Topic1\", \"Topic1\", \"Topic1\", \"Topic1\", \"Topic1\", \"Topic1\", \"Topic1\", \"Topic1\", \"Topic1\", \"Topic1\", \"Topic1\", \"Topic1\", \"Topic1\", \"Topic1\", \"Topic1\", \"Topic1\", \"Topic1\", \"Topic1\", \"Topic1\", \"Topic1\", \"Topic1\", \"Topic1\", \"Topic1\", \"Topic1\", \"Topic1\", \"Topic1\", \"Topic1\", \"Topic1\", \"Topic1\", \"Topic1\", \"Topic1\", \"Topic1\", \"Topic1\", \"Topic1\", \"Topic1\", \"Topic1\", \"Topic1\", \"Topic1\", \"Topic1\", \"Topic1\", \"Topic1\", \"Topic1\", \"Topic1\", \"Topic1\", \"Topic1\", \"Topic1\", \"Topic1\", \"Topic1\", \"Topic1\", \"Topic1\", \"Topic1\", \"Topic1\", \"Topic2\", \"Topic2\", \"Topic2\", \"Topic2\", \"Topic2\", \"Topic2\", \"Topic2\", \"Topic2\", \"Topic2\", \"Topic2\", \"Topic2\", \"Topic2\", \"Topic2\", \"Topic2\", \"Topic2\", \"Topic2\", \"Topic2\", \"Topic2\", \"Topic2\", \"Topic2\", \"Topic2\", \"Topic2\", \"Topic2\", \"Topic2\", \"Topic2\", \"Topic2\", \"Topic2\", \"Topic2\", \"Topic2\", \"Topic2\", \"Topic2\", \"Topic2\", \"Topic2\", \"Topic2\", \"Topic2\", \"Topic2\", \"Topic2\", \"Topic2\", \"Topic2\", \"Topic2\", \"Topic2\", \"Topic2\", \"Topic2\", \"Topic2\", \"Topic2\", \"Topic2\", \"Topic2\", \"Topic2\", \"Topic2\", \"Topic2\", \"Topic2\", \"Topic2\", \"Topic2\", \"Topic2\", \"Topic2\", \"Topic2\", \"Topic2\", \"Topic2\", \"Topic3\", \"Topic3\", \"Topic3\", \"Topic3\", \"Topic3\", \"Topic3\", \"Topic3\", \"Topic3\", \"Topic3\", \"Topic3\", \"Topic3\", \"Topic3\", \"Topic3\", \"Topic3\", \"Topic3\", \"Topic3\", \"Topic3\", \"Topic3\", \"Topic3\", \"Topic3\", \"Topic3\", \"Topic3\", \"Topic3\", \"Topic3\", \"Topic3\", \"Topic3\", \"Topic3\", \"Topic3\", \"Topic3\", \"Topic3\", \"Topic3\", \"Topic3\", \"Topic3\", \"Topic3\", \"Topic3\", \"Topic3\", \"Topic3\", \"Topic3\", \"Topic3\", \"Topic3\", \"Topic3\", \"Topic3\", \"Topic3\", \"Topic3\", \"Topic3\", \"Topic3\", \"Topic3\", \"Topic3\", \"Topic3\", \"Topic3\", \"Topic3\", \"Topic3\", \"Topic3\", \"Topic3\", \"Topic3\", \"Topic3\", \"Topic4\", \"Topic4\", \"Topic4\", \"Topic4\", \"Topic4\", \"Topic4\", \"Topic4\", \"Topic4\", \"Topic4\", \"Topic4\", \"Topic4\", \"Topic4\", \"Topic4\", \"Topic4\", \"Topic4\", \"Topic4\", \"Topic4\", \"Topic4\", \"Topic4\", \"Topic4\", \"Topic4\", \"Topic4\", \"Topic4\", \"Topic4\", \"Topic4\", \"Topic4\", \"Topic4\", \"Topic4\", \"Topic4\", \"Topic4\", \"Topic4\", \"Topic4\", \"Topic4\", \"Topic4\", \"Topic4\", \"Topic4\", \"Topic4\", \"Topic4\", \"Topic4\", \"Topic4\", \"Topic4\", \"Topic4\", \"Topic4\", \"Topic4\", \"Topic4\", \"Topic4\", \"Topic4\", \"Topic4\", \"Topic4\", \"Topic4\", \"Topic4\", \"Topic4\", \"Topic4\", \"Topic4\", \"Topic4\", \"Topic4\", \"Topic4\", \"Topic4\", \"Topic4\", \"Topic4\", \"Topic4\", \"Topic4\", \"Topic4\", \"Topic4\", \"Topic4\", \"Topic4\", \"Topic4\", \"Topic4\", \"Topic4\", \"Topic4\", \"Topic5\", \"Topic5\", \"Topic5\", \"Topic5\", \"Topic5\", \"Topic5\", \"Topic5\", \"Topic5\", \"Topic5\", \"Topic5\", \"Topic5\", \"Topic5\", \"Topic5\", \"Topic5\", \"Topic5\", \"Topic5\", \"Topic5\", \"Topic5\", \"Topic5\", \"Topic5\", \"Topic5\", \"Topic5\", \"Topic5\", \"Topic5\", \"Topic5\", \"Topic5\", \"Topic5\", \"Topic5\", \"Topic5\", \"Topic5\", \"Topic5\", \"Topic5\", \"Topic5\", \"Topic5\", \"Topic5\", \"Topic5\", \"Topic5\", \"Topic5\", \"Topic5\", \"Topic5\", \"Topic5\", \"Topic5\", \"Topic5\", \"Topic5\", \"Topic5\", \"Topic5\", \"Topic5\", \"Topic5\", \"Topic5\", \"Topic5\", \"Topic5\", \"Topic5\", \"Topic5\", \"Topic5\", \"Topic5\", \"Topic5\", \"Topic5\", \"Topic5\", \"Topic5\", \"Topic5\", \"Topic5\", \"Topic6\", \"Topic6\", \"Topic6\", \"Topic6\", \"Topic6\", \"Topic6\", \"Topic6\", \"Topic6\", \"Topic6\", \"Topic6\", \"Topic6\", \"Topic6\", \"Topic6\", \"Topic6\", \"Topic6\", \"Topic6\", \"Topic6\", \"Topic6\", \"Topic6\", \"Topic6\", \"Topic6\", \"Topic6\", \"Topic6\", \"Topic6\", \"Topic6\", \"Topic6\", \"Topic6\", \"Topic6\", \"Topic6\", \"Topic6\", \"Topic6\", \"Topic6\", \"Topic6\", \"Topic6\", \"Topic6\", \"Topic6\", \"Topic6\", \"Topic6\", \"Topic6\", \"Topic6\", \"Topic6\", \"Topic6\", \"Topic6\", \"Topic6\", \"Topic6\", \"Topic6\", \"Topic6\", \"Topic6\", \"Topic6\", \"Topic6\", \"Topic6\", \"Topic6\", \"Topic6\", \"Topic6\", \"Topic6\", \"Topic6\", \"Topic6\", \"Topic6\", \"Topic6\", \"Topic6\", \"Topic7\", \"Topic7\", \"Topic7\", \"Topic7\", \"Topic7\", \"Topic7\", \"Topic7\", \"Topic7\", \"Topic7\", \"Topic7\", \"Topic7\", \"Topic7\", \"Topic7\", \"Topic7\", \"Topic7\", \"Topic7\", \"Topic7\", \"Topic7\", \"Topic7\", \"Topic7\", \"Topic7\", \"Topic7\", \"Topic7\", \"Topic7\", \"Topic7\", \"Topic7\", \"Topic7\", \"Topic7\", \"Topic7\", \"Topic7\", \"Topic7\", \"Topic7\", \"Topic7\", \"Topic7\", \"Topic7\", \"Topic7\", \"Topic7\", \"Topic7\", \"Topic7\", \"Topic7\", \"Topic7\", \"Topic7\", \"Topic7\", \"Topic7\", \"Topic7\", \"Topic7\", \"Topic7\", \"Topic7\", \"Topic7\", \"Topic7\", \"Topic7\", \"Topic7\", \"Topic7\", \"Topic7\", \"Topic7\", \"Topic7\", \"Topic7\", \"Topic7\", \"Topic8\", \"Topic8\", \"Topic8\", \"Topic8\", \"Topic8\", \"Topic8\", \"Topic8\", \"Topic8\", \"Topic8\", \"Topic8\", \"Topic8\", \"Topic8\", \"Topic8\", \"Topic8\", \"Topic8\", \"Topic8\", \"Topic8\", \"Topic8\", \"Topic8\", \"Topic8\", \"Topic8\", \"Topic8\", \"Topic8\", \"Topic8\", \"Topic8\", \"Topic8\", \"Topic8\", \"Topic8\", \"Topic8\", \"Topic8\", \"Topic8\", \"Topic8\", \"Topic8\", \"Topic8\", \"Topic8\", \"Topic8\", \"Topic8\", \"Topic8\", \"Topic8\", \"Topic8\", \"Topic8\", \"Topic8\", \"Topic8\", \"Topic8\", \"Topic8\", \"Topic8\", \"Topic8\", \"Topic8\", \"Topic8\", \"Topic8\", \"Topic8\", \"Topic8\", \"Topic8\", \"Topic8\", \"Topic8\", \"Topic8\", \"Topic8\", \"Topic9\", \"Topic9\", \"Topic9\", \"Topic9\", \"Topic9\", \"Topic9\", \"Topic9\", \"Topic9\", \"Topic9\", \"Topic9\", \"Topic9\", \"Topic9\", \"Topic9\", \"Topic9\", \"Topic9\", \"Topic9\", \"Topic9\", \"Topic9\", \"Topic9\", \"Topic9\", \"Topic9\", \"Topic9\", \"Topic9\", \"Topic9\", \"Topic9\", \"Topic9\", \"Topic9\", \"Topic9\", \"Topic9\", \"Topic9\", \"Topic9\", \"Topic9\", \"Topic9\", \"Topic9\", \"Topic9\", \"Topic9\", \"Topic9\", \"Topic9\", \"Topic9\", \"Topic9\", \"Topic9\", \"Topic9\", \"Topic9\", \"Topic9\", \"Topic9\", \"Topic9\", \"Topic9\", \"Topic9\", \"Topic9\", \"Topic9\", \"Topic9\", \"Topic9\", \"Topic9\", \"Topic9\", \"Topic9\", \"Topic10\", \"Topic10\", \"Topic10\", \"Topic10\", \"Topic10\", \"Topic10\", \"Topic10\", \"Topic10\", \"Topic10\", \"Topic10\", \"Topic10\", \"Topic10\", \"Topic10\", \"Topic10\", \"Topic10\", \"Topic10\", \"Topic10\", \"Topic10\", \"Topic10\", \"Topic10\", \"Topic10\", \"Topic10\", \"Topic10\", \"Topic10\", \"Topic10\", \"Topic10\", \"Topic10\", \"Topic10\", \"Topic10\", \"Topic10\", \"Topic10\", \"Topic10\", \"Topic10\", \"Topic10\", \"Topic10\", \"Topic10\", \"Topic10\", \"Topic10\", \"Topic10\", \"Topic10\", \"Topic10\", \"Topic10\", \"Topic10\", \"Topic10\", \"Topic10\", \"Topic10\", \"Topic10\", \"Topic10\", \"Topic10\", \"Topic10\", \"Topic10\", \"Topic10\", \"Topic10\", \"Topic10\", \"Topic10\", \"Topic10\", \"Topic10\", \"Topic10\"], \"Freq\": [7234.0, 5004.0, 6063.0, 6239.0, 5781.0, 6525.0, 6826.0, 6656.0, 4551.0, 4534.0, 4499.0, 4919.0, 4829.0, 3862.0, 7088.0, 2951.0, 3985.0, 2814.0, 2337.0, 2387.0, 2516.0, 1614.0, 5447.0, 2203.0, 1708.0, 1897.0, 1650.0, 2247.0, 2192.0, 5180.0, 7233.340321658207, 5779.869091176581, 740.6295702038699, 577.6346835576375, 869.2157643326931, 527.7021052551098, 1047.683640878654, 1394.5714405748663, 260.10610500137204, 686.4029677898177, 367.94108880048117, 148.0128453100444, 133.88047665553842, 119.73905609581618, 112.21088096826259, 101.84709866478617, 92.420907690211, 81.11968339365974, 183.45735403018563, 65.10300757415075, 64.16085310709556, 125.4910076042972, 62.9672214564908, 45.31765335605092, 45.31764530398909, 49.936331249935584, 44.37553742295771, 58.869205346671244, 34.0118326163658, 33.06968247526706, 3855.876658703119, 305.5240283108859, 6211.522481565387, 508.6727759648397, 155.97510611242586, 235.51219247748932, 1995.2072222531199, 453.7141049082641, 252.61889733987942, 312.29650137965876, 939.60083440256, 658.947193329951, 583.4748278278353, 829.4882913785574, 427.25700713382815, 346.52059037736797, 447.94083429019906, 587.7828864652294, 896.5918950435871, 2126.185344471117, 1938.4231679190686, 987.706029975024, 1704.6549620985218, 754.8466247821832, 525.9845647857518, 395.1174705620746, 450.5072564520723, 572.7186246849765, 478.60397046474765, 470.29533501341547, 883.4734745917832, 954.6515095287239, 691.3933728490213, 619.1255655681821, 866.6406978683727, 1741.0391326813947, 386.8442486744065, 247.04697139063126, 361.5840394180097, 180.73662597278368, 961.2681057869709, 139.87612348020184, 219.24648204056527, 130.36722598824437, 124.66176470162632, 112.28391725822195, 135.83174656831784, 98.0368761852648, 95.17632584765241, 145.07699983234642, 163.85769791744983, 178.81162605108318, 81.86781681273428, 117.61638412277118, 78.06817668550607, 77.11729138176868, 816.746881627018, 72.36279563349336, 63.80480772255475, 59.998617990710564, 376.9025954691129, 372.97299902371157, 1161.6552692142948, 1270.5276212831536, 374.9608646087871, 196.4883117717992, 1573.3603681560114, 201.30946992944803, 356.972111201618, 831.6366462231147, 950.3232651572349, 1168.2062590622572, 235.00722030076258, 245.98405862861947, 715.820428311912, 1175.2930264766505, 442.9869353583733, 708.0132305628658, 1128.8525348818864, 323.67726319061234, 574.8058688123233, 2092.0780934143977, 799.4985787881913, 401.20069158147425, 887.5281986375393, 624.8443829655733, 624.8803641140875, 513.98342604083, 691.3969600731575, 675.9464498407798, 617.053192028506, 601.6051440670577, 736.563158207457, 634.3099228271742, 381.47035268639763, 472.8378391648927, 274.29947343967154, 258.843138721732, 303.04531023974306, 6040.422078805289, 214.43776938658803, 143.95643751580448, 151.6072628582353, 682.8352159999743, 128.43782786337727, 294.1936701964907, 103.4053640882827, 86.02625590252126, 84.09533074325525, 112.712553613598, 77.33680723755768, 71.54378957265881, 64.76617203617317, 61.88779667391469, 110.35560281727409, 49.33716292962121, 48.37166809147058, 45.47519182164148, 6048.587201800044, 623.2698965834298, 331.75232402575307, 678.7139263167393, 325.2426683222972, 163.7743922409934, 487.2536599396107, 718.0516572113122, 382.079470445962, 762.6778021299341, 299.4248229800605, 335.7061228161445, 716.3817521491382, 307.1177922455638, 462.525732940436, 239.37499894068273, 468.1099108612108, 707.2499803954022, 623.9337773560073, 723.6021261049654, 478.9110168655332, 723.4609441993335, 502.2585827699712, 435.3405938667431, 452.01751310899056, 342.8694278587296, 2812.982493437979, 1707.4953734815356, 1333.579440086546, 129.63358816722499, 74.81507483587589, 73.83198758666381, 73.80965106549789, 388.1030532090876, 43.3553223999064, 42.36208591188181, 35.43837328661281, 44.899248351227904, 27.62551271550234, 25.659249693666847, 23.693082945744873, 23.6929959165184, 20.743706063641262, 20.743684350816693, 19.76056278755448, 19.760517520803038, 18.777483427898606, 18.777457391364347, 17.794371372362786, 17.794339941849394, 17.794332619199373, 17.794315823939133, 17.791366960984174, 16.81120532265968, 16.80395724163522, 15.828117682133817, 1791.4876504467948, 2225.8541339748726, 4426.872559034943, 130.6237819810282, 5272.901020476919, 112.51568787540572, 45.78597618992288, 674.8389235460091, 1243.819597057068, 229.83249611300266, 206.9174008370754, 44.627004993618726, 325.67753149116044, 113.1118440948903, 191.6213698054, 230.249162273938, 564.0691692936743, 199.23888229266007, 140.45789960114485, 319.3658958028676, 203.36980730318678, 191.69476726658866, 278.00852559771545, 481.66105871591066, 306.4379820993642, 1471.4924072907331, 678.9769824763285, 354.8195215731809, 1026.0241726389036, 205.04186587988443, 535.6646167989503, 392.2658445785536, 581.5021272755853, 476.4764332122182, 317.6354844558938, 408.0626332735515, 328.71639191519256, 291.5950709147929, 252.7708173113048, 252.35304643018404, 241.7851564033183, 177.404394024794, 147.687887488366, 140.75466424488098, 121.93454045513603, 154.27635679166755, 736.6787118958279, 105.09546774774812, 123.66275406745092, 102.9839604268117, 160.47816129050693, 1630.8261942859044, 237.37038192774503, 60.52151613631818, 50.61618001185024, 78.70376368547862, 44.672928028379886, 38.729729865533464, 34.767636017296105, 33.777035300536625, 31.796044749991783, 30.805506083949233, 29.815011828438845, 29.81496352453162, 46.172470087632426, 28.824440535791425, 27.83389976249934, 34.43190529576675, 24.862323458210504, 24.862279223903418, 26.767783935111208, 912.8583597291757, 454.2022905311068, 190.48591552133536, 1628.5849484328005, 1473.75392963172, 491.5430492407385, 381.8235243031858, 406.51917131257596, 685.768236514955, 478.531038011753, 1439.9186391104572, 614.625795573062, 1678.9180389972144, 422.02209048209164, 3171.7618162043, 586.5351164549943, 406.43312645883464, 433.5487542729744, 407.47920320194714, 283.98063817349885, 326.385727860838, 353.8214959637746, 916.7699061618692, 295.2847657602263, 325.9904709577875, 297.34730168670797, 222.72662081515585, 350.7571985689953, 250.45924221556874, 243.12816005331416, 291.578855084306, 380.37780668637777, 264.74998855227784, 211.2786400839836, 164.6803775875707, 146.83422521348808, 2933.548918049109, 136.91945631057615, 135.9281822424134, 126.01369066647734, 108.16750875458729, 68.5052960362729, 62.183485304452645, 172.88471753205727, 83.26290952189579, 35.791369968006045, 35.76929541655237, 34.79967513285062, 32.81704196603335, 1388.161683797042, 28.851281028081996, 28.85122117311258, 1019.3916982765526, 27.859770448386097, 26.86831643808846, 25.876905615547336, 25.87678147429329, 62.25469056609829, 24.839735229344694, 21.911081958267616, 82.50794612397989, 4090.865244771663, 962.2451961381439, 107.73921796117313, 3236.742603866281, 1353.260791378679, 1657.5834038844982, 1523.1728011454168, 170.89775033578533, 391.4157675642393, 443.3342054355804, 166.52647493501905, 164.27545963318795, 2135.7528769639284, 277.16376098492924, 141.53990889863746, 240.8654861699769, 873.1593760507507, 290.4163969250721, 613.2350200185662, 383.68763521140335, 414.3041857797987, 799.7291450039189, 249.9027507712916, 251.30073658677287, 354.33620662988096, 255.47979385450154, 351.7363390370774, 288.4415005101535, 249.2674257025885, 2336.4925768208172, 965.2932952075744, 716.7440598142952, 936.8811613570418, 540.9833211208916, 722.9593736443361, 397.26487839491864, 378.81306550310643, 230.71319096368805, 143.69114767394868, 285.2705462200004, 102.05947270112937, 520.5124474098144, 97.87829079926655, 206.1969603627785, 57.390217345450154, 48.650550455653025, 47.67951439880299, 45.73737403198846, 57.10482060431614, 42.791059982042604, 39.91088269213081, 37.927226466982354, 39.786482725541944, 90.89545359147351, 35.920896532308475, 32.14240060040909, 28.258010005097344, 26.315952463643118, 274.9845587023061, 93.91581742194963, 4124.440785222833, 255.9412895342166, 148.9824212932585, 536.0455745337138, 116.67353238743992, 254.36042695971622, 356.75034878051156, 242.75860621585048, 101.6571088086273, 172.06140200014323, 1879.4786023165009, 1446.2089302977488, 1424.8001530937438, 406.51973268978253, 4220.609731988759, 723.7101915357186, 264.9870362984312, 201.85638282445996, 556.9702176736688, 371.6862225820794, 232.20392955594917, 566.3294117900583, 280.90360312775704, 267.51520468349867, 316.2882095404098, 286.95082488201047, 256.90210879766533, 1357.7537598284005, 430.4391727211361, 507.3924612245033, 416.2299343508875, 365.4825358151682, 392.7795836474176, 323.6601210587369, 255.83873934537803, 234.55425937138276, 202.07600261784833, 133.0403526572205, 382.9373987878323, 125.95494115597342, 111.74567213095224, 96.52145693682517, 92.46163647763368, 86.37199489797416, 81.29722304411835, 73.17767680638852, 109.06998136413485, 58.963280179924986, 52.87871909815967, 45.77406949476343, 48.72058439576802, 43.744129361471316, 40.67533340372921, 47.610236201414075, 38.66927050921116, 36.63955839148398, 34.609654995563645, 180.54076529700913, 851.2787824349037, 267.3132007314386, 875.7936970419644, 104.5240814805078, 76.14391350443005, 937.5362065517523, 369.7942381748801, 209.14336523199873, 266.9791876719679, 120.83615808243833, 987.5344976241928, 557.9828090525715, 206.90481310720043, 1299.804336433568, 475.8127313799793, 263.77457489328935, 418.7839080266444, 351.08353675127427, 1733.0712120294952, 492.97391605005885, 679.8589867344455, 260.1420668515125, 284.2173173940074, 410.85913920597926, 269.17254901421796, 311.85474049362745, 1174.0442262456706, 1612.8611838454813, 546.6771092512611, 1131.0749096999923, 337.2221722185551, 296.3286879963947, 294.33387370148654, 257.429934448791, 205.28012452886975, 149.7102877429258, 142.7282573857786, 126.76998096685489, 115.79857284691384, 105.82450263863983, 297.5931801788352, 101.83449732282335, 90.86342958205339, 75.88918605562225, 65.91598770416988, 61.938745910321096, 57.949152942830914, 106.08938738301727, 54.95689074392444, 44.9828732790716, 42.9880202583639, 41.99061073912586, 44.90939553602782, 40.993250291374515, 40.99324599690683, 36.00367007996048, 621.3442846527412, 104.42298489159661, 196.90881142588464, 4048.22538807947, 268.0446773644566, 321.0768227661587, 642.4001270246396, 116.4916511540355, 724.9853182516107, 552.0954871170192, 841.528579172234, 301.6533652877943, 438.8212597461123, 277.5750125854868, 277.7405017041689, 200.22223236685295, 288.5109832707556, 405.9312335319625, 441.7007891472081, 320.05318880093796, 320.79684237904513, 337.8036707283985, 258.37977587741636, 383.7597937067741, 239.6121295948132, 5002.590422885271, 615.8805530287925, 460.40166643391143, 533.7922973994778, 336.6322447638787, 259.72463729518637, 196.49522019247203, 681.2948299264273, 138.1920130928157, 403.41749703849894, 127.96319783137128, 146.1361242619444, 106.4825358117257, 96.25364949210383, 71.70436026670839, 190.815531175243, 69.65857103846211, 71.6482945201384, 56.36103024991178, 54.30048769974816, 54.22281651021637, 46.13063953218708, 41.01772816636145, 38.97197734424071, 40.968402988134386, 44.91040982559577, 119.69365236527729, 35.90331121187128, 35.90326162888012, 41.87298140456488, 119.99041597595586, 211.41504439615983, 247.53052590056126, 128.46473840856183, 321.7233152197034, 130.12641246169153, 97.32500640861149, 365.5583218463834, 1295.7472853817458, 623.1519748369354, 163.8714065036915, 2393.838648886377, 160.29881484785852, 245.09423440116558, 323.27554352848585, 890.3533573492298, 331.14154777058206, 234.481764485784, 170.59506599558028, 342.2677564953669, 240.07980071546586, 242.37576652859372, 608.1285428603853, 226.82167067987942, 251.00748229987138, 353.0025284545497, 214.07124439402673, 192.99061327893477], \"Term\": [\"back\", \"love\", \"service\", \"customer\", \"cash\", \"fee\", \"reward\", \"great\", \"year\", \"good\", \"interest\", \"charge\", \"purchase\", \"balance\", \"payment\", \"rate\", \"point\", \"limit\", \"recommend\", \"late\", \"help\", \"bad\", \"month\", \"high\", \"increase\", \"annual\", \"cancel\", \"paid\", \"problem\", \"like\", \"back\", \"cash\", \"redeem\", \"grocery\", \"gas\", \"category\", \"bonus\", \"earn\", \"restaurant\", \"program\", \"choose\", \"quarter\", \"station\", \"specific\", \"rotate\", \"beat\", \"retailer\", \"quarterly\", \"rack\", \"redemption\", \"din\", \"cool\", \"rebate\", \"lesson\", \"forth\", \"variety\", \"movie\", \"convert\", \"maximize\", \"starbucks\", \"point\", \"certain\", \"reward\", \"enjoy\", \"incentive\", \"accumulate\", \"travel\", \"shopping\", \"towards\", \"prefer\", \"everything\", \"spend\", \"buy\", \"nice\", \"gift\", \"cashback\", \"perk\", \"store\", \"lot\", \"purchase\", \"like\", \"offer\", \"great\", \"thing\", \"option\", \"extra\", \"add\", \"every\", \"best\", \"much\", \"date\", \"sent\", \"address\", \"today\", \"email\", \"due\", \"log\", \"correct\", \"update\", \"text\", \"information\", \"enter\", \"message\", \"suspend\", \"july\", \"january\", \"document\", \"flag\", \"shut\", \"print\", \"password\", \"fax\", \"incorrect\", \"proof\", \"receipt\", \"paperless\", \"letter\", \"inquire\", \"feb\", \"valid\", \"wrong\", \"fine\", \"mail\", \"statement\", \"please\", \"block\", \"close\", \"checked\", \"zero\", \"later\", \"week\", \"see\", \"closing\", \"via\", \"state\", \"still\", \"notice\", \"change\", \"check\", \"info\", \"wait\", \"payment\", \"phone\", \"hour\", \"bill\", \"online\", \"balance\", \"month\", \"speak\", \"talk\", \"answer\", \"supervisor\", \"rep\", \"question\", \"foreign\", \"spoke\", \"manager\", \"english\", \"scam\", \"service\", \"hung\", \"hidden\", \"professional\", \"hold\", \"staff\", \"agent\", \"team\", \"traveler\", \"courteous\", \"india\", \"polite\", \"knowledgeable\", \"disconnect\", \"notch\", \"listen\", \"philippine\", \"spoken\", \"speaks\", \"customer\", \"representative\", \"fix\", \"care\", \"rude\", \"international\", \"support\", \"helpful\", \"department\", \"fraud\", \"horrible\", \"absolutely\", \"transaction\", \"resolve\", \"person\", \"ridiculous\", \"excellent\", \"phone\", \"best\", \"issue\", \"someone\", \"great\", \"problem\", \"help\", \"fee\", \"finally\", \"limit\", \"increase\", \"start\", \"kid\", \"decrease\", \"grace\", \"incur\", \"raise\", \"self\", \"bogus\", \"dislike\", \"assess\", \"overdraft\", \"journey\", \"upped\", \"ridiculously\", \"ripped\", \"marked\", \"intrest\", \"behalf\", \"steep\", \"stone\", \"periodic\", \"netflix\", \"appreciative\", \"builder\", \"minus\", \"surprising\", \"unreasonable\", \"contest\", \"annual\", \"late\", \"charge\", \"crazy\", \"fee\", \"step\", \"common\", \"monthly\", \"much\", \"guess\", \"yearly\", \"town\", \"less\", \"reverse\", \"compare\", \"decent\", \"dollar\", \"remove\", \"finance\", \"return\", \"course\", \"per\", \"small\", \"without\", \"enough\", \"payment\", \"high\", \"add\", \"month\", \"fraudulent\", \"first\", \"score\", \"like\", \"year\", \"low\", \"interest\", \"bill\", \"still\", \"amount\", \"purchase\", \"vacation\", \"pre\", \"automatic\", \"seriously\", \"pending\", \"surprise\", \"process\", \"pin\", \"instantly\", \"signature\", \"sense\", \"cancel\", \"approval\", \"concert\", \"plane\", \"september\", \"widely\", \"dec\", \"dime\", \"smooth\", \"didnt\", \"birthday\", \"froze\", \"airport\", \"worried\", \"nov\", \"unlock\", \"frozen\", \"withdrawn\", \"tiny\", \"reap\", \"approve\", \"debit\", \"early\", \"apply\", \"since\", \"happen\", \"fund\", \"application\", \"anything\", \"decline\", \"issue\", \"end\", \"first\", \"post\", \"payment\", \"visa\", \"set\", \"show\", \"next\", \"miss\", \"within\", \"available\", \"month\", \"cannot\", \"already\", \"immediately\", \"stop\", \"online\", \"bill\", \"transaction\", \"avoid\", \"carry\", \"con\", \"glad\", \"beware\", \"introductory\", \"rate\", \"research\", \"direct\", \"intro\", \"careful\", \"withdraw\", \"eye\", \"simplicity\", \"outrageous\", \"function\", \"esta\", \"sept\", \"garbage\", \"transfer\", \"gusta\", \"scammed\", \"full\", \"boy\", \"study\", \"variable\", \"tengo\", \"attach\", \"manageable\", \"consolidate\", \"tarjeta\", \"interest\", \"apr\", \"reduce\", \"balance\", \"low\", \"paid\", \"high\", \"que\", \"minimum\", \"deposit\", \"reasonable\", \"advance\", \"month\", \"debt\", \"hate\", \"period\", \"offer\", \"wish\", \"every\", \"amount\", \"keep\", \"fee\", \"awesome\", \"little\", \"bill\", \"though\", \"payment\", \"charge\", \"like\", \"recommend\", \"anyone\", \"rebuild\", \"build\", \"highly\", \"definitely\", \"friend\", \"fit\", \"establish\", \"true\", \"improve\", \"starter\", \"others\", \"capitalone\", \"stand\", \"equifax\", \"anybody\", \"peace\", \"transunion\", \"strongly\", \"reestablish\", \"apps\", \"beginner\", \"experian\", \"divorce\", \"lifestyle\", \"adult\", \"tremendously\", \"sleek\", \"premier\", \"repair\", \"good\", \"building\", \"suck\", \"overall\", \"inquiry\", \"bureau\", \"chance\", \"student\", \"basic\", \"disappointed\", \"help\", \"score\", \"work\", \"history\", \"great\", \"report\", \"emergency\", \"opportunity\", \"benefit\", \"secure\", \"platinum\", \"first\", \"pretty\", \"excellent\", \"travel\", \"way\", \"apply\", \"app\", \"super\", \"simple\", \"thanks\", \"convenient\", \"track\", \"manage\", \"hope\", \"mobile\", \"navigate\", \"watch\", \"banking\", \"joke\", \"win\", \"impressed\", \"rule\", \"shady\", \"incredibly\", \"shame\", \"stupid\", \"struggle\", \"accessible\", \"strong\", \"ups\", \"valuable\", \"runaround\", \"communicate\", \"iphone\", \"indian\", \"unhappy\", \"word\", \"happy\", \"trust\", \"open\", \"extend\", \"favor\", \"website\", \"user\", \"trouble\", \"treat\", \"sky\", \"keep\", \"feel\", \"poor\", \"online\", \"understand\", \"extremely\", \"access\", \"hard\", \"like\", \"find\", \"bill\", \"friendly\", \"yet\", \"offer\", \"name\", \"deal\", \"experience\", \"bad\", \"thank\", \"far\", \"old\", \"pleased\", \"terrible\", \"satisfied\", \"positive\", \"loyal\", \"action\", \"reliable\", \"attorney\", \"advice\", \"hassle\", \"honest\", \"pleasant\", \"concerned\", \"serve\", \"vega\", \"lawsuit\", \"class\", \"delivery\", \"unacceptable\", \"indeed\", \"responsive\", \"penny\", \"married\", \"pleasure\", \"dishonest\", \"complaint\", \"legal\", \"holder\", \"year\", \"negative\", \"steal\", \"ago\", \"dealt\", \"nothing\", \"several\", \"many\", \"believe\", \"contact\", \"everyone\", \"life\", \"sears\", \"lose\", \"last\", \"two\", \"almost\", \"place\", \"long\", \"past\", \"problem\", \"read\", \"love\", \"amaze\", \"everywhere\", \"prime\", \"anywhere\", \"food\", \"handy\", \"accepted\", \"surprised\", \"whole\", \"regret\", \"primary\", \"air\", \"across\", \"united\", \"main\", \"thief\", \"ebay\", \"uber\", \"essentially\", \"happier\", \"buyer\", \"virtually\", \"silver\", \"renew\", \"sue\", \"gold\", \"eraser\", \"version\", \"seller\", \"screw\", \"price\", \"switch\", \"market\", \"yes\", \"fan\", \"delta\", \"venture\", \"problem\", \"mile\", \"world\", \"purchase\", \"waste\", \"airline\", \"product\", \"every\", \"big\", \"member\", \"single\", \"free\", \"shop\", \"item\", \"reward\", \"fact\", \"visa\", \"month\", \"like\", \"best\"], \"Total\": [7234.0, 5004.0, 6063.0, 6239.0, 5781.0, 6525.0, 6826.0, 6656.0, 4551.0, 4534.0, 4499.0, 4919.0, 4829.0, 3862.0, 7088.0, 2951.0, 3985.0, 2814.0, 2337.0, 2387.0, 2516.0, 1614.0, 5447.0, 2203.0, 1708.0, 1897.0, 1650.0, 2247.0, 2192.0, 5180.0, 7234.916151470116, 5781.146775684282, 741.518386568005, 578.5253767520971, 870.6358208380946, 528.5909076449607, 1049.6797993086857, 1399.4596053694424, 261.02033040710063, 688.8830269374781, 369.37684228290703, 148.90164351373227, 134.76928939407716, 120.63732902412863, 113.09967813230043, 102.73595406622123, 93.31462593154733, 82.00849874390117, 185.7124704995307, 65.9918305244241, 65.04967330292622, 127.25818751827144, 64.10984907429268, 46.20653725704274, 46.20653595317127, 50.92443856873389, 45.264378159538204, 60.36883931400361, 34.90064981017891, 33.95849238581993, 3985.3965764742816, 315.14782482395697, 6826.09959386522, 539.1963433629928, 162.36456832868828, 247.43570665742925, 2392.936561556906, 520.610262918399, 279.234238496023, 356.27598191961545, 1187.4533358084473, 804.2338185885401, 718.1836981714764, 1110.8469559538312, 520.9079287145667, 418.3006326003918, 585.3686194334974, 835.2345661820891, 1438.0009829915027, 4829.118943339215, 5180.4405406988735, 2498.843174481016, 6656.695328096337, 1847.8611197074445, 1082.2152779470748, 582.8560531058639, 893.5160683103283, 2641.6608896196794, 1593.1712439007274, 1723.6785142592125, 884.3614553765146, 955.6806962218893, 692.2813157809032, 620.0135422491803, 868.2241276372803, 1745.0458134221813, 388.01371657286154, 248.22147615337747, 363.32670257675835, 181.6542127755022, 966.2340846117947, 140.7640890314525, 220.65942223237178, 131.2551704862287, 125.54982355209121, 113.18886037037596, 136.97014169078005, 98.92485138237129, 96.07235727625934, 146.48891439608607, 165.4986706983262, 180.74339056465743, 82.75975098544306, 118.90980457974476, 78.95612325897459, 78.00523128356787, 826.7635156751286, 73.25077326228421, 64.69274631485561, 60.88926802468539, 383.48863195178745, 380.45248271011224, 1201.6793560849394, 1367.3271418807497, 393.196898324595, 203.7312489508152, 1797.8055637335772, 210.51193268173478, 392.25579929928176, 983.5607154508563, 1151.9889430980438, 1458.0719055474735, 251.0712258357312, 267.5490982046375, 919.8446048646965, 1662.2229763619077, 538.4948354081331, 986.0425423628194, 1771.3426039497579, 386.1575671358833, 920.2423637417941, 7088.324787286591, 1728.65499509776, 600.190622419609, 2665.2415757336053, 2368.8819045869277, 3862.8094268386317, 5447.82288892176, 692.2834394252635, 676.8355103616304, 617.9396768249463, 602.4916220294014, 737.6615278091306, 635.3168871536456, 382.35684455935206, 474.087177933617, 275.18596610684295, 259.7383365517281, 304.15682859995076, 6063.241428403129, 215.32478462518407, 144.8430076021762, 152.57017871270412, 687.3994106155887, 129.39728497911307, 296.4635329246134, 104.29186255915305, 86.91280025779074, 84.98179360054634, 113.96471044168193, 78.22326972139827, 72.43024934427052, 65.67143687394154, 62.77524670629822, 112.00417942227297, 50.223671852375375, 49.25816856005145, 46.36165731630523, 6239.790175032847, 643.7300055719713, 341.06318216088204, 704.6713418462176, 339.5636658485205, 169.09257286768778, 524.3409693065023, 804.5802865853578, 416.3693296651761, 908.4787320215642, 365.1195806296268, 419.7754266788956, 1086.5477100738633, 393.4153754077415, 725.5024281297459, 290.0051191909421, 783.5459557029426, 1728.65499509776, 1593.1712439007274, 2164.3684411728864, 1032.0011630144654, 6656.695328096337, 2192.92936038042, 2516.8574148759235, 6525.388684806353, 650.4204449010649, 2814.6682734163915, 1708.65732041729, 1335.0806478480924, 130.7466226598503, 75.69983511130563, 74.71671922294547, 74.71631859148818, 394.16543966346694, 44.240112703814624, 43.25681508464587, 36.37448093007277, 46.1987790910284, 28.510253519755302, 26.54401998164742, 24.57778784122248, 24.577788092661354, 21.628439148305258, 21.628437938287785, 20.645322234041398, 20.645321709832967, 19.662206002782426, 19.662206059820882, 18.679089440441565, 18.679089970983576, 18.67908871365113, 18.679089794959168, 18.678965815699286, 17.69597380424403, 17.695843188268057, 16.712857002633772, 1897.2571073553518, 2387.558003270886, 4919.139532901015, 141.15664294256044, 6525.388684806353, 128.84661886299756, 50.076679942627514, 891.7056243507128, 1723.6785142592125, 286.173610523415, 256.01554607854763, 50.084734481265144, 460.54131290768584, 142.6861787610202, 272.7771333185689, 349.8143424998973, 1006.0778269165564, 301.06604720565, 200.01706763761425, 562.0908668994925, 322.31200916942265, 309.2691122689125, 513.5280693343709, 1125.2327475171555, 643.9577525311963, 7088.324787286591, 2203.179923989269, 893.5160683103283, 5447.82288892176, 411.1063135660231, 3116.2510194403894, 1913.3564822153344, 5180.4405406988735, 4551.270965978769, 1671.8598678080023, 4499.713452560894, 2665.2415757336053, 1662.2229763619077, 1250.0272648237717, 4829.118943339215, 242.6731348675295, 178.28837517400288, 148.5723855207383, 141.6386599194288, 122.81853529203055, 155.50585782039718, 742.8166488616856, 105.97947687438646, 124.80696646401309, 103.99599033849084, 162.40299163783266, 1650.9798400545437, 240.64787548305617, 61.40549930990629, 51.500170918525214, 80.22565574563677, 45.55697554437454, 39.613775916294905, 35.65164541284427, 34.661112303405545, 32.6800467974991, 31.689513495718458, 30.698981289782292, 30.698981370310626, 47.54990897808569, 29.70844817932853, 28.717915126806385, 35.63820919546336, 25.74631671640594, 25.746316933404934, 27.727451554254678, 1002.8782014375905, 515.8145053974202, 214.2506897838157, 2085.6709072916974, 1907.6466460239383, 597.6147307184365, 458.89958336772355, 503.1651859864367, 893.2483584455358, 617.4515920135786, 2164.3684411728864, 940.1728543928549, 3116.2510194403894, 623.6293859761679, 7088.324787286591, 992.2869904925395, 651.9394242182029, 710.5790488359426, 705.3887528313921, 453.90564164831494, 616.0199419283185, 780.5296273106856, 5447.82288892176, 609.1562107411688, 755.246438910796, 681.519206618117, 371.08302747990695, 2368.8819045869277, 2665.2415757336053, 1086.5477100738633, 292.4702477139922, 381.6793984404683, 265.70020713907235, 212.1625816394272, 165.56426953333195, 147.71810696988317, 2951.404545323205, 137.80356740570258, 136.81211832389315, 126.89758450795553, 109.0514221726514, 69.39308184175212, 63.4318909169169, 176.3572765230395, 85.22749416595406, 36.675320142719606, 36.67602310432779, 35.683863884164786, 33.700959848893305, 1425.6147561247628, 29.735146492213907, 29.735145844898227, 1051.5827014389167, 28.743692692103316, 27.75223886359925, 26.760785897876364, 26.76078494299876, 64.44380288896909, 25.768392693374643, 22.79497204500864, 86.22494198927566, 4499.713452560894, 1043.3120977976728, 114.73925056394111, 3862.8094268386317, 1671.8598678080023, 2247.4233733925244, 2203.179923989269, 207.04585629099023, 521.9407050110748, 617.5388905120068, 207.85367977861614, 207.5154927406696, 5447.82288892176, 422.30512622975766, 177.6738671060241, 373.25334047677586, 2498.843174481016, 620.3863828521544, 2641.6608896196794, 1250.0272648237717, 1525.2668298173846, 6525.388684806353, 599.1340967077198, 792.1533899375395, 2665.2415757336053, 898.3507293878912, 7088.324787286591, 4919.139532901015, 5180.4405406988735, 2337.3784872905553, 966.2279623415503, 717.6330227650203, 938.0570771120448, 541.869234580029, 724.4130552150737, 398.15080913433525, 379.70042652516565, 232.10617499282804, 144.7045619073811, 287.47282936656546, 102.94539345501408, 526.5187145888469, 99.07695274230865, 208.83322196192887, 58.2761529546026, 49.53651980927922, 48.56544890058822, 46.62330769416391, 58.28904843416951, 43.71099472497065, 40.796887064520774, 38.85350615547896, 40.79429847124321, 93.30136719829254, 36.90945369739756, 33.0283218753366, 29.1440363708846, 27.201900121183947, 284.92708952328746, 98.13512798354967, 4534.208907884774, 273.0782357857738, 157.66227576782708, 592.8707413322581, 123.58227844315795, 276.31995862022, 394.28095924091326, 264.9914142730542, 107.79741045162325, 192.1327536064058, 2516.8574148759235, 1913.3564822153344, 1909.85135096828, 489.5060720861144, 6656.695328096337, 945.1715785183645, 364.8793554357347, 266.1468311292993, 1126.1290696437397, 660.0232499211143, 361.6332420863105, 3116.2510194403894, 875.826027466377, 783.5459557029426, 2392.936561556906, 1653.5123508057618, 2085.6709072916974, 1358.967744470201, 431.3207391668857, 508.44364452965766, 417.11147493016307, 366.36409784309234, 393.76307415746925, 324.7363929823858, 256.74898869342974, 235.4358670040712, 202.9575493246364, 133.93992468425088, 385.5326594228907, 126.83648627131215, 112.62722102491158, 97.40300801620313, 93.34321697350781, 87.25353368128097, 82.17879480872521, 74.059216077188, 110.60001298337401, 59.84986140267487, 53.76026510505239, 46.6556320492188, 49.694268689272285, 44.62573494089225, 41.58047934064754, 48.67691677430467, 39.55100175281541, 37.52110498522365, 35.49120980561313, 185.55947827342968, 889.4216202768847, 285.246192543584, 979.8691949692901, 111.4642610966437, 80.07659906331538, 1219.8075856785129, 445.20526816753926, 246.71332824945623, 331.2331230692608, 135.6959950774952, 1525.2668298173846, 810.2234682540503, 253.56152011961498, 2368.8819045869277, 731.8713684708522, 351.87799602358206, 640.7256720596628, 560.5158822887712, 5180.4405406988735, 1010.9288623411222, 2665.2415757336053, 466.4779221150797, 664.2014576751347, 2498.843174481016, 588.1169036669872, 1159.562387303259, 1174.927526909406, 1614.7765053972812, 547.5603986048989, 1133.0187120487965, 338.1055526673871, 297.2119894951285, 295.2171812552365, 258.313232859968, 206.45323296021124, 150.59359869522876, 143.61176898908735, 127.65330612762136, 116.68186194731301, 106.70782157551987, 300.1085794625367, 102.71819980849648, 91.7467612094436, 76.78562107290082, 66.8118779364914, 62.82204456359141, 58.83242930719994, 107.72378669913276, 55.840216124774315, 45.86617684118524, 43.87136691361125, 42.873962986041, 45.86567245963229, 41.87656045702558, 41.87655961435718, 36.88952289365182, 644.7526775027359, 107.61589244468797, 206.40622644946038, 4551.270965978769, 285.9685727060221, 354.1667239123541, 774.3993459312477, 126.35906349397798, 1004.909640292161, 797.430564510807, 1505.4772969435462, 442.019441966481, 785.886471244219, 422.9526160060374, 447.1612004597052, 280.266705435829, 499.7908926406055, 900.4109094404708, 1149.8525359498276, 696.8155841105728, 826.3150497546989, 992.1070455588514, 593.9629022246811, 2192.92936038042, 486.09546031720856, 5004.832361493462, 616.7613123818327, 461.2824025583072, 534.9221731671555, 337.51300522040157, 260.781358751754, 197.37733083775376, 685.1960846149625, 139.0728143902156, 406.00963371860337, 128.84394159542438, 147.24835101911296, 107.36330159239456, 97.13442515189998, 72.58512345581487, 193.16072704206715, 70.53934834699578, 72.58242010027519, 57.2418091895221, 55.19566633670669, 55.195318146093626, 47.01289681586242, 41.89849653649657, 39.85272233712886, 41.89726772182185, 45.98375676110867, 122.59042989157419, 36.78405934946647, 36.78405763852968, 42.91486617982437, 123.64643237767721, 220.2250967860306, 261.74549416413095, 135.94862918121453, 350.72927896451296, 142.79076677288833, 105.26232264710978, 462.27638085824503, 2192.92936038042, 936.7533087203689, 199.6484971479269, 4829.118943339215, 197.97026458758603, 341.41952747112384, 491.4391224507627, 2641.6608896196794, 635.5625013703714, 384.18347173010045, 231.55800617318786, 855.1530587280306, 455.32033056558714, 551.558331066708, 6826.09959386522, 646.7445041868812, 992.2869904925395, 5447.82288892176, 5180.4405406988735, 1593.1712439007274], \"loglift\": [30.0, 29.0, 28.0, 27.0, 26.0, 25.0, 24.0, 23.0, 22.0, 21.0, 20.0, 19.0, 18.0, 17.0, 16.0, 15.0, 14.0, 13.0, 12.0, 11.0, 10.0, 9.0, 8.0, 7.0, 6.0, 5.0, 4.0, 3.0, 2.0, 1.0, 1.8893, 1.8893, 1.8883, 1.888, 1.8879, 1.8879, 1.8876, 1.886, 1.886, 1.8859, 1.8856, 1.8836, 1.8829, 1.8821, 1.8816, 1.8808, 1.8799, 1.8786, 1.8773, 1.876, 1.8758, 1.8756, 1.8716, 1.8701, 1.8701, 1.8699, 1.8697, 1.8644, 1.8637, 1.863, 1.8565, 1.8585, 1.7952, 1.8313, 1.8494, 1.8402, 1.7078, 1.752, 1.7894, 1.7578, 1.6554, 1.6903, 1.6818, 1.5975, 1.6914, 1.7013, 1.622, 1.5382, 1.4171, 1.0692, 0.9065, 0.9613, 0.5273, 0.9943, 1.168, 1.5008, 1.2047, 0.3608, 0.6869, 0.5907, 2.0162, 2.0162, 2.016, 2.0158, 2.0154, 2.0149, 2.0142, 2.0125, 2.0124, 2.0122, 2.0121, 2.0109, 2.0108, 2.0105, 2.0101, 2.0092, 2.0089, 2.0082, 2.0079, 2.0076, 2.0073, 2.0065, 2.0064, 2.0063, 2.0059, 2.0058, 2.0051, 2.005, 2.0034, 2.0025, 1.9999, 1.9974, 1.9834, 1.9438, 1.9698, 1.981, 1.8839, 1.9725, 1.923, 1.8495, 1.8248, 1.7956, 1.9511, 1.9332, 1.7665, 1.6706, 1.822, 1.686, 1.5667, 1.8407, 1.5466, 0.797, 1.2461, 1.6145, 0.9176, 0.6846, 0.1957, -0.3435, 2.1996, 2.1996, 2.1994, 2.1994, 2.1994, 2.1993, 2.1986, 2.1982, 2.1976, 2.1974, 2.1972, 2.1971, 2.1967, 2.1947, 2.1945, 2.1942, 2.1934, 2.1932, 2.1923, 2.1906, 2.1904, 2.1898, 2.1895, 2.1886, 2.187, 2.1866, 2.186, 2.1831, 2.1827, 2.1816, 2.1698, 2.1686, 2.1732, 2.1633, 2.1578, 2.1689, 2.1275, 2.0871, 2.1149, 2.0259, 2.0025, 1.9774, 1.7843, 1.9532, 1.7507, 2.009, 1.6857, 1.3072, 1.2634, 1.1052, 1.4331, -0.0185, 0.727, 0.4462, -0.4689, 1.5606, 2.2675, 2.2675, 2.267, 2.2596, 2.2564, 2.2562, 2.2559, 2.2526, 2.2479, 2.2472, 2.2421, 2.2396, 2.2366, 2.2342, 2.2315, 2.2315, 2.2264, 2.2264, 2.2243, 2.2243, 2.2221, 2.2221, 2.2196, 2.2196, 2.2196, 2.2196, 2.2195, 2.2169, 2.2164, 2.2138, 2.2108, 2.198, 2.1627, 2.1906, 2.055, 2.1326, 2.1786, 1.9895, 1.9419, 2.0489, 2.0552, 2.1528, 1.9216, 2.0359, 1.915, 1.8499, 1.6895, 1.8553, 1.9146, 1.7028, 1.8076, 1.7898, 1.6545, 1.4196, 1.5255, 0.696, 1.0911, 1.3446, 0.5986, 1.5725, 0.5073, 0.6835, 0.0811, 0.0114, 0.6074, -0.1322, 0.1753, 0.5276, 0.6697, -0.6834, 2.3396, 2.3383, 2.3373, 2.337, 2.3361, 2.3353, 2.335, 2.3349, 2.3341, 2.3335, 2.3314, 2.331, 2.3296, 2.3288, 2.326, 2.3241, 2.3237, 2.3207, 2.3182, 2.3174, 2.3159, 2.315, 2.3141, 2.3141, 2.3139, 2.3131, 2.312, 2.3088, 2.3083, 2.3083, 2.3081, 2.2492, 2.2161, 2.2257, 2.0959, 2.0852, 2.1479, 2.1594, 2.13, 2.079, 2.0884, 1.9357, 1.9182, 1.7248, 1.9528, 1.5391, 1.8175, 1.8707, 1.8492, 1.7945, 1.8743, 1.7081, 1.5521, 0.5612, 1.6191, 1.5031, 1.5139, 1.8328, 0.4332, -0.0215, 0.8461, 2.3903, 2.39, 2.3898, 2.3892, 2.388, 2.3874, 2.3873, 2.387, 2.3869, 2.3864, 2.3853, 2.3805, 2.3735, 2.3735, 2.3701, 2.369, 2.3684, 2.3683, 2.3668, 2.3668, 2.3632, 2.3632, 2.3623, 2.3622, 2.361, 2.3598, 2.3598, 2.3588, 2.3567, 2.3539, 2.3493, 2.2981, 2.3125, 2.3305, 2.2166, 2.182, 2.089, 2.0243, 2.2015, 2.1056, 2.062, 2.1717, 2.1597, 1.457, 1.9723, 2.166, 1.9554, 1.3419, 1.6344, 0.933, 1.2123, 1.0901, 0.2942, 1.519, 1.2453, 0.3756, 1.136, -0.6099, -0.443, -0.6407, 2.4597, 2.4591, 2.4588, 2.4588, 2.4585, 2.4581, 2.4579, 2.4577, 2.4541, 2.4531, 2.4524, 2.4514, 2.4486, 2.4479, 2.4474, 2.4448, 2.442, 2.4417, 2.4409, 2.4396, 2.4388, 2.4381, 2.436, 2.4351, 2.434, 2.4329, 2.4329, 2.4292, 2.427, 2.4246, 2.4161, 2.3654, 2.3953, 2.4035, 2.3593, 2.4026, 2.3773, 2.3601, 2.3725, 2.4014, 2.3498, 2.1681, 2.1802, 2.1671, 2.2743, 2.0044, 2.1931, 2.1402, 2.1836, 1.7561, 1.8859, 2.0171, 0.7549, 1.3229, 1.3854, 0.4365, 0.7087, 0.3659, 2.5275, 2.5264, 2.5264, 2.5263, 2.526, 2.5259, 2.5251, 2.5249, 2.5247, 2.5241, 2.5217, 2.5217, 2.5215, 2.5206, 2.5194, 2.519, 2.5183, 2.5177, 2.5165, 2.5145, 2.5135, 2.5119, 2.5094, 2.5087, 2.5085, 2.5064, 2.5063, 2.5059, 2.5047, 2.5033, 2.501, 2.4846, 2.4635, 2.4162, 2.4642, 2.4781, 2.2653, 2.3429, 2.3632, 2.3128, 2.4125, 2.0937, 2.1555, 2.3251, 1.9282, 2.0979, 2.2403, 2.1032, 2.0606, 1.4334, 1.8103, 1.1623, 1.9445, 1.6796, 0.7231, 1.7469, 1.2152, 2.5305, 2.5301, 2.5297, 2.5296, 2.5287, 2.5283, 2.5283, 2.5279, 2.5256, 2.5254, 2.5251, 2.5244, 2.5237, 2.523, 2.5229, 2.5227, 2.5216, 2.5196, 2.5178, 2.5171, 2.5162, 2.516, 2.5154, 2.5118, 2.511, 2.5105, 2.5102, 2.51, 2.51, 2.507, 2.4943, 2.5012, 2.4842, 2.4142, 2.4666, 2.4332, 2.3444, 2.45, 2.2048, 2.1636, 1.9497, 2.1492, 1.9486, 2.1101, 2.0551, 2.195, 1.9818, 1.7346, 1.5745, 1.7533, 1.5851, 1.4539, 1.6989, 0.7883, 1.8239, 2.6656, 2.6646, 2.6641, 2.6639, 2.6634, 2.662, 2.6615, 2.6603, 2.6597, 2.6596, 2.6592, 2.6584, 2.6578, 2.6569, 2.6538, 2.6538, 2.6534, 2.6531, 2.6505, 2.6497, 2.6482, 2.6471, 2.6448, 2.6437, 2.6436, 2.6424, 2.6421, 2.6418, 2.6418, 2.6414, 2.636, 2.6252, 2.6102, 2.6094, 2.5797, 2.5731, 2.5876, 2.4313, 2.1399, 2.2584, 2.4685, 1.9642, 2.4549, 2.3345, 2.2472, 1.5785, 2.014, 2.1723, 2.3605, 1.7503, 2.026, 1.8438, 0.2479, 1.6182, 1.2915, -0.0705, -0.5203, 0.5552], \"logprob\": [30.0, 29.0, 28.0, 27.0, 26.0, 25.0, 24.0, 23.0, 22.0, 21.0, 20.0, 19.0, 18.0, 17.0, 16.0, 15.0, 14.0, 13.0, 12.0, 11.0, 10.0, 9.0, 8.0, 7.0, 6.0, 5.0, 4.0, 3.0, 2.0, 1.0, -2.4207, -2.645, -4.6997, -4.9482, -4.5396, -5.0386, -4.3528, -4.0668, -5.7461, -4.7757, -5.3992, -6.3099, -6.4102, -6.5218, -6.5868, -6.6837, -6.7808, -6.9112, -6.0952, -7.1312, -7.1458, -6.4749, -7.1645, -7.4935, -7.4935, -7.3964, -7.5145, -7.2318, -7.7805, -7.8085, -3.0498, -5.5851, -2.573, -5.0754, -6.2575, -5.8454, -3.7087, -5.1897, -5.7753, -5.5632, -4.4617, -4.8165, -4.9382, -4.5864, -5.2498, -5.4592, -5.2025, -4.9308, -4.5086, -3.6451, -3.7375, -4.4118, -3.866, -4.6806, -5.0419, -5.328, -5.1968, -4.9568, -5.1363, -5.1538, -4.3956, -4.3181, -4.6407, -4.7511, -4.4148, -3.7172, -5.2214, -5.6699, -5.289, -5.9824, -4.3112, -6.2387, -5.7893, -6.3091, -6.3539, -6.4584, -6.268, -6.5941, -6.6237, -6.2022, -6.0805, -5.9931, -6.7743, -6.412, -6.8219, -6.8341, -4.4741, -6.8978, -7.0236, -7.0851, -5.2475, -5.2579, -4.1219, -4.0323, -5.2526, -5.8989, -3.8185, -5.8746, -5.3018, -4.4561, -4.3227, -4.1162, -5.7198, -5.6742, -4.606, -4.1102, -5.0859, -4.617, -4.1505, -5.3997, -4.8254, -3.5335, -4.4955, -5.185, -4.391, -4.742, -4.7419, -4.9373, -4.4571, -4.4797, -4.5709, -4.5962, -4.3938, -4.5433, -5.0518, -4.8371, -5.3816, -5.4396, -5.2819, -2.2896, -5.6278, -6.0263, -5.9745, -4.4696, -6.1404, -5.3116, -6.3572, -6.5412, -6.5639, -6.271, -6.6477, -6.7255, -6.825, -6.8705, -6.2921, -7.0971, -7.1169, -7.1787, -2.2882, -4.5608, -5.1914, -4.4756, -5.2113, -5.8973, -4.807, -4.4193, -5.0502, -4.359, -5.294, -5.1796, -4.4216, -5.2686, -4.8591, -5.5178, -4.8471, -4.4344, -4.5598, -4.4116, -4.8243, -4.4118, -4.7767, -4.9197, -4.8821, -5.1585, -2.9866, -3.4858, -3.7329, -6.0638, -6.6135, -6.6268, -6.6271, -4.9673, -7.1591, -7.1823, -7.3608, -7.1241, -7.6098, -7.6837, -7.7634, -7.7634, -7.8963, -7.8963, -7.9449, -7.9449, -7.9959, -7.9959, -8.0497, -8.0497, -8.0497, -8.0497, -8.0498, -8.1065, -8.1069, -8.1668, -3.4378, -3.2207, -2.5331, -6.0562, -2.3582, -6.2055, -7.1046, -4.4141, -3.8026, -5.4912, -5.5962, -7.1302, -5.1426, -6.2002, -5.673, -5.4894, -4.5934, -5.6341, -5.9836, -5.1622, -5.6135, -5.6727, -5.3009, -4.7513, -5.2035, -3.6345, -4.408, -5.0569, -3.9951, -5.6053, -4.645, -4.9566, -4.5629, -4.7621, -5.1677, -4.9171, -5.1334, -5.2532, -5.3961, -5.3977, -5.3654, -5.675, -5.8583, -5.9064, -6.0499, -5.8147, -4.2513, -6.1986, -6.0359, -6.2188, -5.7753, -3.4566, -5.3838, -6.7504, -6.9292, -6.4877, -7.0541, -7.1968, -7.3047, -7.3336, -7.3941, -7.4257, -7.4584, -7.4584, -7.021, -7.4922, -7.5272, -7.3144, -7.6401, -7.6401, -7.5662, -4.0368, -4.7349, -5.6038, -3.458, -3.5579, -4.6559, -4.9085, -4.8458, -4.3229, -4.6827, -3.5811, -4.4324, -3.4275, -4.8084, -2.7914, -4.4792, -4.846, -4.7814, -4.8434, -5.2045, -5.0653, -4.9846, -4.0326, -5.1655, -5.0666, -5.1585, -5.4475, -4.9933, -5.3301, -5.3598, -5.128, -4.8621, -5.2245, -5.4501, -5.6993, -5.814, -2.8193, -5.8839, -5.8912, -5.9669, -6.1196, -6.5764, -6.6732, -5.6507, -6.3813, -7.2256, -7.2262, -7.2537, -7.3123, -3.5676, -7.4411, -7.4411, -3.8763, -7.4761, -7.5123, -7.5499, -7.55, -6.6721, -7.5909, -7.7163, -6.3904, -2.4868, -3.934, -6.1236, -2.721, -3.593, -3.3902, -3.4747, -5.6622, -4.8335, -4.709, -5.6881, -5.7018, -3.1367, -5.1787, -5.8507, -5.3191, -4.0312, -5.132, -4.3845, -4.8535, -4.7767, -4.119, -5.2822, -5.2766, -4.9331, -5.2602, -4.9404, -5.1388, -5.2848, -2.9802, -3.8642, -4.1619, -3.8941, -4.4432, -4.1533, -4.752, -4.7996, -5.2954, -5.7689, -5.0832, -6.1111, -4.4818, -6.1529, -5.4078, -6.6867, -6.8519, -6.8721, -6.9137, -6.6917, -6.9803, -7.05, -7.1009, -7.0531, -6.2269, -7.1553, -7.2664, -7.3952, -7.4664, -5.1199, -6.1942, -2.4119, -5.1917, -5.7328, -4.4524, -5.9772, -5.1979, -4.8596, -5.2445, -6.115, -5.5888, -3.1979, -3.4599, -3.4748, -4.729, -2.3889, -4.1522, -5.1569, -5.4291, -4.4141, -4.8186, -5.289, -4.3974, -5.0986, -5.1474, -4.98, -5.0773, -5.1879, -3.4547, -4.6034, -4.439, -4.637, -4.767, -4.695, -4.8886, -5.1237, -5.2106, -5.3596, -5.7776, -4.7204, -5.8323, -5.952, -6.0985, -6.1415, -6.2096, -6.2701, -6.3754, -5.9763, -6.5913, -6.7003, -6.8445, -6.7822, -6.8899, -6.9626, -6.8052, -7.0132, -7.0671, -7.1241, -5.4723, -3.9215, -5.0798, -3.8931, -6.0188, -6.3356, -3.825, -4.7553, -5.3252, -5.0811, -5.8738, -3.773, -4.3439, -5.336, -3.4983, -4.5032, -5.0932, -4.6309, -4.8072, -3.2106, -4.4678, -4.1464, -5.107, -5.0185, -4.65, -5.0729, -4.9257, -3.5972, -3.2796, -4.3615, -3.6345, -4.8447, -4.9739, -4.9807, -5.1147, -5.341, -5.6567, -5.7045, -5.823, -5.9136, -6.0036, -4.9697, -6.0421, -6.156, -6.3361, -6.477, -6.5393, -6.6058, -6.0011, -6.6589, -6.8591, -6.9045, -6.928, -6.8608, -6.952, -6.952, -7.0818, -4.2335, -6.017, -5.3827, -2.3594, -5.0742, -4.8937, -4.2002, -5.9076, -4.0793, -4.3517, -3.9302, -4.9561, -4.5813, -5.0393, -5.0387, -5.366, -5.0007, -4.6592, -4.5748, -4.8969, -4.8946, -4.8429, -5.111, -4.7154, -5.1864, -2.013, -4.1076, -4.3986, -4.2507, -4.7117, -4.9711, -5.25, -4.0067, -5.602, -4.5307, -5.6789, -5.5461, -5.8627, -5.9637, -6.2581, -5.2794, -6.2871, -6.2589, -6.4989, -6.5362, -6.5376, -6.6992, -6.8167, -6.8678, -6.8179, -6.726, -5.7457, -6.9499, -6.9499, -6.796, -5.7433, -5.1769, -5.0192, -5.675, -4.757, -5.6622, -5.9526, -4.6293, -3.3638, -4.0959, -5.4316, -2.75, -5.4536, -5.029, -4.7522, -3.7391, -4.7281, -5.0733, -5.3914, -4.6951, -5.0497, -5.0402, -4.1203, -5.1065, -5.0052, -4.6642, -5.1644, -5.268]}, \"token.table\": {\"Topic\": [3, 9, 5, 10, 2, 5, 7, 8, 8, 1, 6, 10, 9, 1, 2, 3, 4, 5, 6, 7, 8, 10, 2, 7, 6, 10, 9, 2, 3, 8, 2, 5, 6, 9, 10, 1, 5, 10, 5, 1, 2, 3, 4, 5, 9, 10, 1, 2, 4, 5, 7, 9, 10, 10, 1, 2, 4, 5, 6, 3, 4, 6, 3, 7, 7, 1, 2, 3, 5, 10, 8, 2, 5, 1, 2, 5, 6, 7, 8, 4, 5, 7, 4, 5, 7, 7, 4, 6, 3, 4, 6, 9, 9, 5, 1, 2, 3, 4, 5, 6, 7, 8, 10, 6, 1, 6, 8, 1, 10, 6, 9, 2, 6, 2, 8, 3, 4, 7, 1, 7, 4, 1, 2, 3, 4, 6, 8, 9, 1, 4, 6, 7, 10, 1, 3, 6, 7, 9, 10, 6, 1, 4, 5, 6, 7, 8, 9, 10, 1, 2, 3, 4, 5, 6, 8, 9, 5, 2, 4, 4, 1, 10, 6, 7, 4, 4, 7, 2, 7, 1, 5, 7, 10, 10, 2, 3, 5, 6, 2, 3, 5, 8, 9, 7, 3, 9, 6, 1, 6, 1, 1, 10, 1, 1, 5, 7, 8, 9, 1, 2, 3, 4, 5, 8, 2, 3, 4, 6, 1, 2, 3, 5, 6, 7, 8, 10, 2, 5, 1, 9, 10, 2, 6, 2, 8, 3, 4, 8, 1, 4, 2, 4, 9, 6, 9, 5, 6, 2, 3, 9, 4, 8, 1, 5, 1, 7, 2, 2, 3, 4, 8, 10, 3, 1, 4, 3, 8, 9, 2, 1, 2, 4, 5, 6, 7, 8, 9, 10, 3, 9, 2, 5, 6, 8, 9, 10, 2, 4, 6, 7, 9, 5, 1, 4, 6, 2, 3, 4, 5, 4, 1, 7, 9, 8, 10, 1, 2, 3, 1, 4, 5, 6, 5, 5, 1, 6, 7, 8, 3, 9, 4, 7, 8, 2, 1, 4, 10, 2, 6, 2, 4, 5, 6, 1, 10, 10, 2, 5, 1, 2, 4, 5, 6, 7, 8, 1, 2, 3, 4, 5, 6, 8, 10, 3, 1, 8, 10, 1, 4, 5, 8, 9, 2, 7, 10, 10, 6, 7, 1, 2, 3, 4, 5, 6, 9, 10, 3, 6, 7, 9, 1, 2, 3, 4, 8, 10, 1, 3, 4, 7, 7, 9, 5, 8, 1, 2, 4, 5, 6, 7, 10, 3, 8, 9, 6, 1, 2, 4, 5, 6, 8, 9, 10, 6, 10, 4, 9, 6, 8, 2, 5, 2, 3, 4, 6, 1, 3, 4, 7, 8, 9, 10, 2, 3, 5, 6, 8, 9, 4, 6, 8, 1, 2, 3, 4, 5, 6, 7, 8, 9, 10, 1, 2, 4, 6, 1, 3, 4, 5, 6, 7, 8, 9, 7, 3, 5, 9, 2, 10, 3, 1, 2, 3, 7, 8, 9, 10, 2, 3, 4, 8, 9, 1, 5, 6, 7, 8, 9, 10, 7, 3, 7, 8, 5, 5, 2, 6, 6, 2, 3, 4, 5, 10, 6, 1, 10, 1, 5, 8, 10, 6, 7, 10, 1, 3, 4, 7, 9, 4, 1, 3, 6, 7, 1, 2, 4, 6, 10, 2, 5, 8, 9, 10, 8, 9, 1, 3, 5, 7, 8, 1, 9, 3, 4, 6, 10, 1, 2, 3, 4, 7, 8, 3, 8, 9, 3, 4, 6, 7, 4, 5, 7, 2, 3, 5, 9, 10, 9, 8, 3, 9, 2, 3, 3, 2, 3, 4, 5, 6, 8, 4, 7, 1, 6, 2, 4, 8, 4, 9, 3, 8, 2, 8, 2, 3, 8, 2, 7, 8, 5, 4, 6, 3, 5, 4, 6, 6, 8, 3, 5, 1, 4, 5, 10, 2, 8, 4, 2, 2, 5, 6, 7, 8, 4, 3, 1, 2, 3, 4, 5, 6, 9, 2, 3, 4, 5, 6, 2, 4, 5, 9, 9, 2, 9, 1, 2, 3, 4, 5, 6, 7, 8, 9, 1, 2, 5, 9, 1, 5, 7, 8, 9, 7, 1, 2, 3, 4, 5, 6, 7, 8, 9, 10, 4, 6, 2, 3, 1, 2, 3, 4, 5, 6, 7, 9, 2, 1, 2, 3, 4, 5, 6, 7, 8, 9, 10, 1, 2, 3, 5, 6, 8, 9, 1, 3, 4, 5, 6, 7, 9, 10, 1, 10, 4, 6, 9, 2, 5, 9, 1, 10, 8, 6, 3, 1, 2, 3, 4, 5, 6, 7, 8, 9, 10, 4, 8, 10, 9, 1, 5, 7, 9, 10, 2, 5, 1, 5, 10, 1, 2, 5, 6, 4, 2, 4, 5, 6, 8, 1, 2, 4, 5, 6, 8, 9, 10, 4, 5, 6, 8, 1, 1, 4, 5, 2, 3, 7, 8, 9, 8, 2, 4, 6, 9, 4, 2, 3, 4, 5, 6, 1, 3, 4, 6, 8, 3, 2, 3, 5, 7, 9, 2, 4, 5, 1, 3, 5, 6, 8, 10, 9, 1, 2, 3, 4, 5, 6, 7, 8, 10, 2, 4, 5, 6, 8, 9, 1, 7, 8, 9, 1, 2, 3, 4, 5, 6, 7, 8, 6, 7, 8, 3, 6, 7, 9, 4, 2, 4, 5, 6, 2, 2, 3, 1, 2, 5, 8, 9, 2, 4, 5, 6, 7, 5, 9, 1, 4, 10, 2, 3, 4, 5, 6, 4, 1, 3, 5, 6, 7, 10, 2, 3, 8, 9, 3, 2, 3, 5, 8, 9, 5, 1, 2, 3, 5, 9, 10, 5, 5, 6, 7, 9, 9, 2, 3, 6, 9, 9, 1, 2, 5, 10, 3, 3, 8, 9, 9, 2, 4, 5, 5, 1, 3, 7, 8, 1, 3, 4, 6, 7, 9, 10, 1, 10, 10, 10, 2, 6, 3, 5, 9, 10, 3, 5, 9, 7, 9, 10, 3, 1, 10, 2, 5, 1, 2, 4, 5, 6, 8, 10, 1, 1, 4, 5, 6, 10, 3, 1, 5, 4, 7, 4, 6, 1, 2, 3, 5, 6, 9, 10, 5, 4, 6, 1, 7, 2, 7, 1, 1, 2, 6, 7, 10, 9, 2, 3, 4, 10, 3, 4, 7, 2, 4, 5, 6, 7, 2, 3, 9, 6, 3, 5, 9, 9, 1, 1, 2, 3, 4, 2, 3, 4, 5, 1, 6, 7, 10, 3, 6, 4, 4, 1, 3, 8, 8, 8, 9, 3, 6, 2, 4, 6, 7, 8, 5, 9, 10, 2, 4, 5, 6, 8, 9, 10, 4, 6, 7, 8, 1, 2, 4, 5, 7, 9, 4, 10, 1, 5, 2, 6, 5, 6, 5, 9, 3, 8, 9, 2, 4, 5, 8, 2, 3, 4, 5, 6, 7, 9, 10, 8, 8, 1, 5, 10, 1, 10, 2, 5, 2, 5, 10, 8, 1, 6, 7, 1, 2, 4, 5, 6, 7, 8, 9, 10, 5, 9, 10, 6, 8, 10, 7, 1, 2, 4, 6, 10, 5, 1, 2, 3, 4, 5, 7, 8, 9, 3, 3, 1, 1, 4, 5, 10, 3, 3, 3, 7, 9, 1, 4, 9, 7, 2, 3, 9, 10, 1, 2, 4, 5, 8, 1, 3, 4, 8, 9, 4, 3, 4, 8, 1, 2, 3, 4, 6, 9, 10, 4, 2, 3, 4, 5, 8, 9, 10, 1, 2, 4, 6, 8, 9, 10, 8, 7, 8, 4, 7, 8, 6, 8, 10, 7, 8, 10, 8, 3, 3, 6, 9, 5, 10, 4, 2, 1, 8, 10, 3, 4, 6, 3, 6, 9, 2, 9, 8, 10, 1, 2, 3, 4, 5, 6, 7, 8, 9, 10, 1, 2, 4, 5, 6, 7, 8, 9, 10, 5, 2, 1, 5, 6, 3, 4, 8, 8, 2, 3, 4, 5, 2, 3, 6, 7, 1, 3, 5, 7, 3, 3, 8, 9, 7, 2, 3, 4, 8, 9, 7, 1, 2, 3, 5, 7, 8, 9, 1, 2, 3, 4, 5, 9, 10, 9, 3, 8, 8, 10, 5, 4, 2, 8, 4, 8, 7, 8, 5, 2, 8, 6, 1, 9, 1, 10, 10, 2, 8, 9, 10, 1, 5, 6, 8, 10, 2, 3, 5, 6, 8, 9, 10, 8, 9, 10, 8, 1, 2, 3, 4, 5, 6, 7, 8, 9, 10, 2, 3, 7, 8, 2, 5, 8, 9, 10, 5, 8, 1, 2, 4, 6, 9, 6, 5, 1, 2, 3, 4, 5, 6, 9, 10, 1, 2, 3, 4, 5, 6, 7, 8, 10, 3, 4, 8, 2, 3, 4, 7, 8, 3, 7, 9, 10, 5, 8, 2, 3, 9, 1, 4, 5, 6, 7, 9, 10, 4, 6, 2, 10, 2, 4, 5, 6, 8, 2, 6], \"Freq\": [0.8004279875511173, 0.19772477073435338, 0.004378308731413451, 0.9938760820308533, 0.23254882159010087, 0.10925112423696014, 0.0031214606924845757, 0.6539460150755185, 0.9858582337053814, 0.9537831188072552, 0.044455992825761896, 0.9883210802954159, 0.9957401193969427, 0.504747498109192, 0.07834218374200318, 0.0011191740534571882, 0.3973067889773018, 0.00671504432074313, 0.0011191740534571882, 0.005595870267285941, 0.003357522160371565, 0.003357522160371565, 0.9981491400219896, 0.9688654519228092, 0.7903024387916397, 0.20239452700761507, 0.9933667320251784, 0.003373096144861386, 0.9916902665892475, 0.003373096144861386, 0.1433368979237939, 0.025826468094377275, 0.001291323404718864, 0.8290296258295106, 0.9873019777505507, 0.23431583012417515, 0.04686316602483503, 0.7175922297552864, 0.9772311217144611, 0.09615169569653058, 0.002870199871538226, 0.02296159897230581, 0.08180069633883945, 0.12341859447614373, 0.45923197944611616, 0.21095969055805963, 0.15226817906728712, 0.1933143838593384, 0.10592568978593886, 0.43164718587770085, 0.037073991425078605, 0.006620355611621179, 0.07149984060550874, 0.9987656288315286, 0.1991956551724525, 0.20079562027423928, 0.20239558537602603, 0.09039802825095235, 0.3071932995430593, 0.0010541533839806586, 0.9439943553546799, 0.054288899275003924, 0.9984793389060652, 0.9891692066510752, 0.9987291173621445, 0.11754849478002392, 0.007836566318668262, 0.10635340003906926, 0.7679834992294896, 0.9984800431021419, 0.999287882678497, 0.18880479541476228, 0.8088794919348237, 0.04650781657877044, 0.0033562341860968363, 0.7810436413073923, 0.044589968472429395, 0.12322174083241241, 0.0009589240531705246, 0.9636444409006508, 0.9848414390705352, 0.008310898220004517, 0.02193686129428656, 0.9103797437128923, 0.06680771394169088, 0.9804669639803525, 0.0766788769811756, 0.9220634956986367, 0.021645593664491355, 0.974051714902111, 0.962078543173817, 0.01551739585764221, 0.994156230146371, 0.9961474299632996, 0.04612252852468648, 0.19986429027364142, 0.09865096378891275, 0.025623626958159153, 0.453538197159417, 0.0576531606558581, 0.0012811813479079578, 0.05893434200376606, 0.0576531606558581, 0.998392151961891, 0.5007226289548854, 0.4172688574624045, 0.08178469606263128, 0.9997351522215324, 0.000138218602546873, 0.0006192807466900637, 0.9988998444110728, 0.16179933590757214, 0.8379911205324977, 0.005187627950881848, 0.993430752593874, 0.03710664275924419, 0.018553321379622095, 0.9462193903607269, 0.9928364507546517, 0.9780327121041918, 0.9687424725609574, 0.08596906921320804, 0.033935158899950545, 0.018098751413306954, 0.11311719633316848, 0.033935158899950545, 0.029410471046623803, 0.6832278658523376, 0.3472070924549493, 0.0026639930367387417, 0.0035519907156516552, 0.494614707154493, 0.15095960541519535, 0.300658200952218, 0.3916716438291942, 0.06967235971961627, 0.0006276789163929394, 0.11674827844908674, 0.1211420308638373, 0.9965918399246261, 0.16206116594027498, 0.03776182507346213, 0.16206116594027498, 0.0015734093780609222, 0.0141606844025483, 0.03146818756121844, 0.06608319387855872, 0.5207985041381652, 0.05965688118017422, 0.3331780533836145, 0.00037520051056713345, 0.12344096797658691, 0.09380012764178336, 0.13282098074076523, 0.25513634718565076, 0.0011256015317014003, 0.9782415878422489, 0.9620517275055743, 0.02945056308690534, 0.9709452699606638, 0.9983997031191874, 0.0009526714724419727, 0.9741267519079889, 0.9988731206897354, 0.9636443851165365, 0.05859126764152594, 0.937460282264415, 0.07599885330347361, 0.9192242256705856, 0.8117700269225556, 0.038987239714976946, 0.0027848028367840677, 0.1448097475127715, 0.9784549158961704, 0.0018171027454223115, 0.002422803660563082, 0.9878981925945967, 0.007268410981689246, 0.25773356198564557, 0.1165546681591136, 0.4842764381258945, 0.08372236726922244, 0.05581491151281496, 0.9891301386195261, 0.9635697660430471, 0.03547753188671013, 0.9903584735374952, 0.002619999937345251, 0.9955999761911954, 0.9998016352587508, 0.8295469166347013, 0.16973438351891582, 0.9988821078145416, 0.9709729082564127, 0.028558026713423904, 0.90544570218991, 0.0025362624711201963, 0.08876918648920687, 0.15922233905221408, 0.7180217582736788, 0.0010141550258102809, 0.005070775129051404, 0.01318401533553365, 0.10344381263264864, 0.0010164379291455672, 0.04025094199416446, 0.8999541424654852, 0.05854682471878467, 0.10105329121586303, 0.6373696412441864, 0.0005645435263456035, 0.1298450110594888, 0.029920806896316984, 0.003951804684419224, 0.0965369430050982, 0.0005645435263456035, 0.9548152327492261, 0.038002596328327407, 0.9962725267929696, 0.9839980866626309, 0.009283000817571989, 0.8749555745802042, 0.1245963437418727, 0.9359893759938618, 0.05974400272301245, 0.07987749995772025, 0.9185912495137829, 0.9860936801432337, 0.2932797152999266, 0.7038713167198238, 0.010856876201138841, 0.024815717031174495, 0.9631600172724601, 0.9973646722122959, 0.989768643374585, 0.9933963681679424, 0.965125114282265, 0.04708059160430823, 0.3931865623170606, 0.5586048571430084, 0.957346789808503, 0.9962766607014082, 0.9773253995014928, 0.016564837279686318, 0.982255070873556, 0.007858040566988448, 0.9950790875459031, 0.17994985712590195, 0.0651542586145507, 0.6298244999406568, 0.11789818225490127, 0.0031025837435500335, 0.9884470124840948, 0.07084328297655255, 0.9280470069928385, 0.9694236232820372, 0.003846283180487501, 0.026763720464225527, 0.9984605215794542, 0.31822349883059453, 0.004311971528869844, 0.0008623943057739689, 0.0017247886115479378, 0.07416591029656132, 0.08710182488317086, 0.2690670234014783, 0.1966259017164649, 0.04743168681756829, 0.07122559910733212, 0.9180188329389473, 0.009693407121514824, 0.880161366633546, 0.04846703560757412, 0.0019386814243029648, 0.0019386814243029648, 0.056221761304785976, 0.07103868302010219, 0.08051050742278248, 0.6559238398856103, 0.17286079534891535, 0.018943648805360584, 0.9845059981761942, 0.33446313025325525, 0.6574916235747753, 0.002858659232933806, 0.21540150146228004, 0.0016195601613705267, 0.008097800806852634, 0.7757693172964822, 0.9907551303080565, 0.001380427910293674, 0.9980493791423263, 0.9849532078655129, 0.06650052767187539, 0.921507312024559, 0.060042847104285466, 0.02161542495754277, 0.9174547037534819, 0.09715987271709071, 0.18298442695052086, 0.001619331211951512, 0.7173637268945198, 0.9791907642693112, 0.9817218699081558, 0.9838635115346689, 0.9940639883817126, 0.8952143597148, 0.09888995834058838, 0.9897758156985298, 0.9758868420115865, 0.9622130434599161, 0.9753340463553823, 0.01071795655335585, 0.9929171301219049, 0.33297622811816996, 0.5605928139064115, 0.10535964232992841, 0.9976815431485738, 0.0017191525729154057, 0.07934630230200625, 0.0046674295471768375, 0.8868116139635992, 0.028004577283061025, 0.996813337553773, 0.002858246129186446, 0.991975741516051, 0.9985900787615618, 0.001151776330751513, 0.0027406318968246687, 0.008221895690474006, 0.07399706121426605, 0.0027406318968246687, 0.057553269833318044, 0.7262674526585372, 0.12606906725393477, 0.13827244574504488, 0.056372612496056754, 0.08189983324898811, 0.010636341980388066, 0.6541350317938661, 0.010636341980388066, 0.03616356273331943, 0.011699976178426873, 0.9971573832283281, 0.9439974997332942, 0.05192913554524997, 0.0018546119837589276, 0.2142997727064628, 0.4751864525230262, 0.17392445321104227, 0.0015528969036700203, 0.13354913371562174, 0.9945718468630037, 0.9781016266534146, 0.9786848063173909, 0.9783376772840673, 0.9815677097158328, 0.995234185420262, 0.21690899170729477, 0.06094650552334112, 0.05186131215340207, 0.07343864640700731, 0.004921146408716984, 0.2320509806571932, 0.02271298342484762, 0.3369092541352397, 0.004728662087224095, 0.0023643310436120475, 0.33573500819291074, 0.6572840301241493, 0.7916100546048195, 0.03200125752657781, 0.029474842458690087, 0.005894968491738018, 0.14147924380171242, 0.9972199187500003, 0.056154970464401516, 0.5972846858486343, 0.003828747986209194, 0.34203482010135466, 0.9805291792968783, 0.9992105667046156, 0.05382891288175117, 0.9420059754306456, 0.6776973455026576, 0.008578447411426045, 0.23333376959078844, 0.006862757929140837, 0.0034313789645704184, 0.0034313789645704184, 0.06519620032683794, 0.23587721010675963, 0.750260041785356, 0.011367576390687213, 0.977426324578714, 0.18709088243761285, 0.11441921735854009, 0.20409914447739586, 0.004638616919940814, 0.05875581431925032, 0.06030201995923059, 0.018554467679763258, 0.35098868027552166, 0.08403904728018058, 0.9104230122019562, 0.0008825979565613144, 0.9982182888708465, 0.037464128535578095, 0.9490912562346451, 0.990354332962268, 0.005532705770738927, 0.989291746690053, 0.06926790446252376, 0.8080744695373623, 0.12259806099561726, 0.11848582984996756, 0.002468454788540991, 0.03455836703957387, 0.012342273942704955, 0.6886988860029365, 0.09256705457028716, 0.050603323165090315, 0.36284222282695594, 0.5273511967357877, 0.03997414319280023, 0.018449604550523184, 0.027674406825784773, 0.021524538642277047, 0.6999402683657395, 0.08999232021845223, 0.20498250716425231, 0.05836216790107964, 0.21564326444805698, 0.06627568219275146, 0.013848650010425676, 0.009891892864589769, 0.0811135214896361, 0.0029675678593769307, 0.48767031822427565, 0.018794596442720562, 0.04748108575003089, 0.010513796549588615, 0.9804115282491382, 0.005256898274794307, 0.0026284491373971537, 0.02855995856713188, 0.003850780930399804, 0.17200154822452457, 0.5387884318451059, 0.0006417968217333007, 0.18162850055052407, 0.053910933025597255, 0.020537498295465622, 0.9981553180448712, 0.9734266768301983, 0.02052405643919093, 0.005864016125483123, 0.9906509702117572, 0.9970037783548102, 0.9964513658414674, 0.9738881972369872, 0.13539117170778237, 0.8398655610816094, 0.004402964933586419, 0.015410377267552466, 0.003302223700189814, 0.0011007412333966047, 0.20675916957512042, 0.27000315085692195, 0.49865446779881983, 0.002432460818530828, 0.021892147366777456, 0.13681761271371445, 0.0011693813052454226, 0.2221824479966303, 0.02338762610490845, 0.09705864833537008, 0.1181075118297877, 0.39992840639393457, 0.9971096149802198, 0.439463456427905, 0.0021437241776970976, 0.5573682862012453, 0.9772311242778946, 0.954032224613803, 0.02947937423997336, 0.9690155596946083, 0.9815865235779363, 0.11985192838130694, 0.030507763587969042, 0.015253881793984521, 0.8324261207574409, 0.002179125970569217, 0.9792005968958678, 0.9981211193027644, 0.0011485858680123872, 0.8197225967623468, 0.17661470468884286, 0.0019197250509656832, 0.0019197250509656832, 0.9945203266738004, 0.016314487205640046, 0.9788692323384027, 0.08314570582409975, 0.0039698214982328795, 0.0011027281939535775, 0.9095302143729108, 0.0019849107491164398, 0.9904075121284853, 0.25613309847659665, 0.10861245172937208, 0.0010515728383203382, 0.6340984215071639, 0.9990918691327826, 0.19568540892912986, 0.8037079295303547, 0.9752768498246207, 0.9930218387698942, 0.11713232020878714, 0.8232728791817611, 0.005019956580376591, 0.05521952238414251, 0.9783438489668671, 0.9568015669948255, 0.041600068130209805, 0.0178407076694539, 0.03211327380501702, 0.00178407076694539, 0.32113273805017023, 0.6262088391978319, 0.006664254662701721, 0.9929739447425564, 0.07879605610005505, 0.011256579442865008, 0.7992171404434155, 0.10693750470721756, 0.0015892835153703741, 0.0011919626365277805, 0.1728345822965282, 0.0007946417576851871, 0.7465659313452333, 0.07628560873777795, 0.8923907433118888, 0.10564514370683921, 0.001242884043609873, 0.994179852958511, 0.30819089834957447, 0.6912735466662768, 0.9983958591398852, 0.15730141951426924, 0.012257253468644357, 0.8314503602897089, 0.005819033211590724, 0.9935999208791161, 0.03875852069781839, 0.9544285721837779, 0.004844815087227299, 0.9930080568990163, 0.9970827978827054, 0.8189097924696135, 0.17802386792817684, 0.6681210685755273, 0.32989519096746733, 0.9938475051653245, 0.3316120775546052, 0.17901182947637978, 0.05135585271863354, 0.4357910930695475, 0.0014673100776752442, 0.9958624684759624, 0.003478589619072727, 0.9913980414357272, 0.9608007560134428, 0.036953875231286265, 0.9908198009733415, 0.9990300451720271, 0.9856557301495001, 0.99041282272746, 0.9801381407758029, 0.991535007302321, 0.9861116833998127, 0.839035739745038, 0.15796660532236825, 0.9945830056141131, 0.00310483768662054, 0.00103494589554018, 0.9829247773561973, 0.9467376833792113, 0.04855065042970314, 0.9935342834869256, 0.09067244043457866, 0.9091690044555424, 0.969882929916309, 0.029569601521838688, 0.9687424479634739, 0.9929267013912368, 0.9951386665818187, 0.9860685765620036, 0.33450866600497065, 0.6653211036562952, 0.31546980654518597, 0.21212624922865952, 0.03082176270843771, 0.4387568573789368, 0.9894966663107502, 0.9934050028039814, 0.9795049889947508, 0.9956206744339781, 0.0013112459806389769, 0.0006556229903194884, 0.27142791799226823, 0.07801913584801913, 0.6477555144356546, 0.9942895453460951, 0.9940598113610587, 0.001110604047013841, 0.3365130262451938, 0.001110604047013841, 0.001110604047013841, 0.18547087585131145, 0.023322684987290662, 0.4509052430876194, 0.02680563149139072, 0.00041883799205298, 0.9323333703099335, 0.0104709498013245, 0.029737497435761578, 0.845906090930663, 0.143356681275509, 0.005083570257996773, 0.005083570257996773, 0.9858508425199762, 0.0185846156600704, 0.9664000143236608, 0.004342715721577174, 0.013028147164731522, 0.11291060876100653, 0.7078626626170794, 0.09336838801390925, 0.015199505025520109, 0.004342715721577174, 0.002171357860788587, 0.04776987293734891, 0.9738881697554854, 0.988190679087773, 0.0036286071447531446, 0.008466750004424003, 0.0044726599667947375, 0.0044726599667947375, 0.2213966683563395, 0.14759777890422635, 0.6216997353844685, 0.9753598710819802, 0.37409945829405306, 0.0017373039858856955, 0.008686519929428477, 0.11234565775394163, 0.024129222026190215, 0.04806541027617091, 0.047679342723751864, 0.33452753417110115, 0.007335283495961825, 0.041309228108837644, 0.9994072930610872, 0.00035528165412765275, 0.008928238260019265, 0.9821062086021192, 0.3004468617104145, 0.008836672403247486, 0.055544797963269915, 0.1237134136454648, 0.03155954429731245, 0.316857824745017, 0.03913383492866744, 0.12245103187357231, 0.9973874207803394, 0.07458872541149629, 0.009071601739236034, 0.09172397314116434, 0.11087513236844042, 0.14413767207897255, 0.19655137101678075, 0.028222760966512106, 0.0020159114976080078, 0.3406890430957533, 0.0010079557488040039, 0.002000836779391036, 0.18807865726275735, 0.15006275845432768, 0.018007531014519323, 0.02401004135269243, 0.04201757236721175, 0.5782418292440094, 0.6237826055820578, 0.009735737433833679, 0.05215573625268042, 0.056328195152894854, 0.0027816392668096224, 0.15716261857474367, 0.021557704317774574, 0.07649507983726461, 0.0001998068921736264, 0.9996338815446528, 0.19020732904901536, 0.8092783528406219, 0.9960582740543302, 0.9669800800987258, 0.025797231052547765, 0.007489518692675157, 0.010354071609827984, 0.9888138387385724, 0.997732336140022, 0.970180806287844, 0.9956903103613122, 0.28828066745417985, 0.0006642411692492623, 0.0013284823384985245, 0.029890852616216802, 0.03719750547795869, 0.007970894030991148, 0.07306652861741886, 0.0006642411692492623, 0.5592910645078789, 0.001992723507747787, 0.9709439054229945, 0.05149003739250108, 0.9415321123200198, 0.9790679929903717, 0.9741938956702109, 0.17439584190927757, 0.018220461094999148, 0.195219226017848, 0.6090839851756857, 0.9924797127827867, 0.004531870834624596, 0.33306527673353054, 0.0010675169126074695, 0.6650630365544535, 0.011495558676291954, 0.04981408759726513, 0.18584486526671992, 0.7491272404050257, 0.9636507811835798, 0.15862327627949036, 0.2137008027654245, 0.6256807008802119, 0.002203101059437366, 0.9981486805319103, 0.06699924124593581, 0.09434961643948223, 0.18833211374884973, 0.16832412115759765, 0.39208323096251757, 0.0001835595650573584, 0.024964100847800742, 0.06479652646524751, 0.7569762728495685, 0.00897157064118007, 0.22316781969935426, 0.01009301697132758, 0.9720668169773194, 0.2726726568277684, 0.7217123087100934, 0.0052213913009572675, 0.2720547547645352, 0.11052224412309243, 0.0017003422172783451, 0.45739205644787484, 0.1581318262068861, 0.9952820216453009, 0.0139875510170554, 0.00349688775426385, 0.0419626530511662, 0.9371659181427118, 0.9636443760355303, 0.30904944135408996, 0.0070882899393139905, 0.10207137512612147, 0.5769868010601589, 0.0028353159757255964, 0.746277419726264, 0.0981233278047802, 0.08011904747362786, 0.0009002140165576165, 0.07381754935772455, 0.9876504395128018, 0.13334532243221559, 0.03184365908829029, 0.11045769246250695, 0.001990228693018143, 0.7214579012190768, 0.8226634145232681, 0.1745606342329282, 0.9761533091512509, 0.39538295563714093, 0.002801296244392699, 0.02160999959960082, 0.34936166019354664, 0.16447610806362847, 0.06643073950988401, 0.9967301552468892, 0.027439105290195685, 0.26383755086726624, 0.0008442801627752519, 0.00042214008138762596, 0.1481711685670567, 0.0012664202441628777, 0.0008442801627752519, 0.5487821058039137, 0.00928708179052777, 0.05000667461694793, 0.0010205443799377128, 0.008164355039501702, 0.04592449709719708, 0.8939968768254364, 0.0010205443799377128, 0.2329541168569435, 0.7589795420177837, 0.0037573244654345726, 0.0037573244654345726, 0.48604007974994023, 0.06191004818107604, 0.012936427978135292, 0.01940464196720294, 0.06560617046054326, 0.08963096527708024, 0.10071933211548191, 0.16355341086642478, 0.0018992677226694398, 0.9895184835107781, 0.007597070890677759, 0.01173330284770324, 0.973864136359369, 0.9040756485900078, 0.09445566477806051, 0.9821028066480806, 0.15439903496073262, 0.0022247699562065217, 0.10545409592418914, 0.7377337174780827, 0.9871132837243491, 0.990944515191557, 0.006042344604826567, 0.005050820495292778, 0.4831951607163425, 0.06566066643880612, 0.008418034158821298, 0.434370562595179, 0.295133203229083, 0.20752435083651102, 0.447496424781382, 0.04965912406149006, 0.9883569716045315, 0.9933354091051136, 0.9811259180731691, 0.3492104310309946, 0.6208185440551015, 0.029100869252582883, 0.032149745758930856, 0.002679145479910905, 0.31078087566966495, 0.008037436439732714, 0.6456740606585281, 0.963644403405913, 0.7653297172533117, 0.0017083252617261422, 0.03758315575797513, 0.020499903140713704, 0.0017083252617261422, 0.17254085143434036, 0.09234979429733624, 0.6381784292487563, 0.23983379414532097, 0.02894545791409046, 0.9756355557599976, 0.4622090597984327, 0.4089884922121301, 0.0005784844302858983, 0.1266880902326117, 0.0005784844302858983, 0.9907578627176336, 0.22751612723961637, 0.05566883964373592, 0.11012748712130367, 0.217834589910271, 0.3884716853399833, 0.0012101921661681722, 0.9902879755619355, 0.005530465032643937, 0.03318279019586363, 0.6415339437866967, 0.3152365068607044, 0.9918606259272863, 0.95372064631707, 0.0254325505684552, 0.01780278539791864, 0.9959221379420552, 0.9790680126918389, 0.9675323210648328, 0.0002509160583674359, 0.028855346712255127, 0.0032619087587766665, 0.9843618180912778, 0.1616964592287453, 0.8163699283012261, 0.019719080393749425, 0.9929609580854017, 0.32070329669750847, 0.0016035164834875422, 0.6766839560317429, 0.9927736445365802, 0.8757256055234024, 0.12069295204328943, 0.9651591937435766, 0.03158702815888069, 0.30257150585784953, 0.0034253378021643346, 0.2477661010232202, 0.026260923149926566, 0.32083997413605936, 0.06736497677589857, 0.031969819486867126, 0.03632646831243195, 0.9581106017403926, 0.9915221392261913, 0.9982760610544604, 0.9898359926945718, 0.006826455122031529, 0.22891754247520094, 0.004560110407872528, 0.1751082396623051, 0.5909903088602797, 0.004038681691635869, 0.9921694689118785, 0.0026924544610905797, 0.32353956520002175, 0.016278720261636313, 0.6572533305635662, 0.9962628429912389, 0.9958149252852186, 0.0029032505110356227, 0.9923487841649372, 0.008409735459024893, 0.4402459382228271, 0.005176927777784891, 0.0521834320000717, 0.005798159111119077, 0.0006212313333341868, 0.00020707711111139562, 0.49574260400068115, 0.9939447040848202, 0.9877025093819782, 0.024149239639806204, 0.004829847927961241, 0.8259039956813722, 0.14006558991087598, 0.9979271963640924, 0.9853942468578729, 0.005384668015616792, 0.9843582439172472, 0.012685028916459371, 0.005759969444696491, 0.994102961808206, 0.002057209090879877, 0.2880092727231828, 0.006171627272639631, 0.15634789090687065, 0.053487436362876804, 0.4937301818111705, 0.002057209090879877, 0.9737642115132268, 0.19725414553001364, 0.8034498122807873, 0.9826883218363757, 0.9991179018454568, 0.9878904482703827, 0.9994102421588755, 0.9993009120510089, 0.9849704044191194, 0.052292480302164435, 0.9412646454389598, 0.9837341902319034, 0.9934498930646316, 0.9948821840386318, 0.18600569715437865, 0.14946886378476854, 0.6609845309593098, 0.9785840993790028, 0.9991032095558849, 0.03057009311184562, 0.9578629175044961, 0.22958794459326173, 0.002116017922518541, 0.0010580089612592706, 0.0010580089612592706, 0.7659984879517119, 0.029515479837106538, 0.9677970493956513, 0.0015534463072161336, 0.9941687474364374, 0.7803457088626001, 0.13725950579342153, 0.07879712369622346, 0.9796155306117713, 0.9960909925847183, 0.9859118983929519, 0.42164001224089975, 0.00889535890803586, 0.5675238983326879, 0.1611929073980028, 0.03504193639087017, 0.7919477624336659, 0.007008387278174035, 0.9100365317820551, 0.00014649654407309322, 0.0007324827203654661, 0.08906989879644067, 0.8241233832932451, 0.17241074964293832, 0.9764914527506291, 0.9709438511028892, 0.9902769119199963, 0.9571106472415769, 0.04122938172732947, 0.9856099134242499, 0.9860396188343099, 0.9949161223936215, 0.9961966048723098, 0.9752768710557927, 0.014633969289183825, 0.20487557004857354, 0.002090567041311975, 0.7557399854342789, 0.022473595694103732, 0.008087576655228568, 0.008087576655228568, 0.9705091986274281, 0.13915316819153745, 0.0035680299536291656, 0.014272119814516662, 0.09633680874798747, 0.028544239629033324, 0.7136059907258331, 0.0035680299536291656, 0.07423980898529932, 0.10151157555132764, 0.563616509031252, 0.2605968805198262, 0.15842840063039595, 0.8010578871701406, 0.0013716744643324326, 0.0075442095538283795, 0.028805163750981085, 0.002057511696498649, 0.9719685907647406, 0.9786818354275918, 0.006157522037710078, 0.9852035260336124, 0.9992877367675413, 0.9808354866954792, 0.9847223966666869, 0.012464840464135277, 0.9954909209124677, 0.9878482994107255, 0.9961668311121086, 0.0013194262663736537, 0.002308995966153894, 0.1411174053637348, 0.03221158165911338, 0.6227572454095253, 0.20247279900014123, 0.18183401345915542, 0.005016110716114633, 0.0012540276790286582, 0.005016110716114633, 0.01379430446931524, 0.0037620830370859743, 0.6922232788238193, 0.09781415896423534, 0.9856334336456806, 0.9856977141631632, 0.46560626830930013, 0.004392511965182077, 0.5271014358218492, 0.8720534963237181, 0.12677429682239075, 0.3884156174490904, 0.6107694854090769, 0.9888380247278024, 0.990422800578666, 0.9786031596558106, 0.9971606597010508, 0.011340615138943348, 0.9809632095185996, 0.005670307569471674, 0.04141228154839775, 0.030403953541861643, 0.03459760230625635, 0.7726797848397252, 0.07810670823685147, 0.0031452365732960318, 0.009959915815437434, 0.028831335255213628, 0.0010484121910986773, 0.04750429571315635, 0.21161004454042373, 0.7384758697227033, 0.08843297101839202, 0.8916991244354529, 0.014738828503065337, 0.9558155821531031, 0.13631192563774203, 0.09541834794641942, 0.5413530761041755, 0.15383774464830885, 0.07205058926566364, 0.9809263967751956, 0.0009689911560554928, 0.13081380606749154, 0.46414676375058106, 0.030038725837720277, 0.0009689911560554928, 0.19089125774293209, 0.11434095641454815, 0.06879837207994, 0.9981460781059142, 0.9706296669462173, 0.9947169832979214, 0.8194134401815746, 0.04724994040500734, 0.07833542751356479, 0.05346703782671883, 0.9977067974325827, 0.9744576666808552, 0.9892015896675219, 0.9864330879190986, 0.004788510135529604, 0.9717745895509728, 0.9991905748541601, 0.0007490184219296552, 0.9908165540653627, 0.7783923460694964, 0.14785106014727864, 0.035875624888677904, 0.03696276503681966, 0.014627077447237777, 0.9295507717719607, 0.027060093277389886, 0.021940616170856665, 0.006582184851256999, 0.9942918049242829, 0.0790588107507502, 0.002823528955383936, 0.008470586866151809, 0.9063527946782435, 0.966320869454388, 0.06985049417221952, 0.8770117601623116, 0.05432816213394851, 0.0060160400513094275, 0.7068847060288577, 0.0006016040051309427, 0.17566836949823528, 0.06497323255414181, 0.02887699224628525, 0.016844912143666395, 0.9663208666511699, 0.10240295886897599, 0.059285923555722944, 0.07006518238403621, 0.6009436796784644, 0.06737036767695789, 0.0862340706265061, 0.016168888242469894, 0.7039938525147322, 0.008380879196603954, 0.02873444295978499, 0.013169953023234787, 0.0011972684566577078, 0.019156295306523324, 0.22508646985164907, 0.9859474189841185, 0.9778852379855655, 0.9858001107645525, 0.0075474143397685585, 0.9170108422818799, 0.07170043622780131, 0.9728944800707264, 0.9855333381957692, 0.009041590258676782, 0.9450580316334953, 0.05074137082595948, 0.9786064290871359, 0.9969379187065367, 0.9991840184802149, 0.9287849481685748, 0.045771742825556044, 0.024793027363842857, 0.9903163916684323, 0.9922859518237299, 0.960670499858159, 0.9904371730151355, 0.04966656653064744, 0.0038205051177421104, 0.9474852692000434, 0.9987655636431013, 0.03479271694231037, 0.9625985020705868, 0.9876130071181698, 0.9715709032967734, 0.995876997232813, 0.9963985818687799, 0.9989765538078965, 0.9973353048358375, 0.9923539363541802, 0.4085804890572796, 0.07089277359801806, 0.08604542749683107, 0.09416292065690948, 0.04329329685375148, 0.054116621067189355, 0.035716969904344975, 0.09849225034228462, 0.10606857729169114, 0.0021646648426875744, 0.10574934364970139, 0.1680857988537359, 0.14137017519486395, 0.14137017519486395, 0.28385350137551424, 0.10018358872076974, 0.018923566758367618, 0.03450768055937624, 0.005565754928931652, 0.971012672013036, 0.9983652901426902, 0.9060493489719504, 0.08953056808023226, 0.0035812227232092904, 0.07986465419910038, 0.8984773597398793, 0.019966163549775096, 0.9980620982322885, 0.08927357639307523, 0.6589678422416687, 0.02669003830308435, 0.2236441140568792, 0.004208710645160374, 0.021745004999995265, 0.9736150625804332, 0.986630985123307, 0.8337036727384038, 0.022148518624128023, 0.011701104178784616, 0.13205531858914066, 0.989497516417797, 0.13887500010191134, 0.8060788049393549, 0.05434239134422617, 0.9607454384037377, 0.004053287299455838, 0.004053287299455838, 0.048639447593470046, 0.84713704558627, 0.09322560788748427, 0.9951310318203233, 0.0035057435511508385, 0.028045948409206708, 0.0035057435511508385, 0.0035057435511508385, 0.02103446130690503, 0.9360335281572738, 0.0035057435511508385, 0.0017393534713978902, 0.3122139481159213, 0.004348383678494726, 0.0982734711339808, 0.1982862957393595, 0.38439711717893377, 0.9783059059959026, 0.9811151288195561, 0.34842188256768203, 0.6503875141263398, 0.9861596770495142, 0.9919387964371095, 0.9750011404506083, 0.9606775907276696, 0.9963484583782332, 0.002752343807674677, 0.9764914627404586, 0.986029199994603, 0.16621546349750826, 0.8310773174875413, 0.9972261665144889, 0.9853953241099093, 0.9859781594248016, 0.971570868629208, 0.9818468579189901, 0.9869147117178063, 0.20766797520948396, 0.7917341554861577, 0.9786848518389549, 0.9194574066994033, 0.07101500295645798, 0.00747526346910084, 0.9785553991009219, 0.10279284216894798, 0.5915627289526713, 0.052404194046914654, 0.0010077729624406665, 0.2529510135726073, 0.6248353940824835, 0.20538067735928586, 0.14670048382806133, 0.005433351252891161, 0.001086670250578232, 0.011953372756360554, 0.002173340501156464, 0.14648664566071648, 0.03535884550431087, 0.808202182955677, 0.9929824905720482, 0.1765937822343495, 0.007862051948789531, 0.15058853348066104, 0.09797326274645417, 0.08587779820985489, 0.03810071329028773, 0.17356991610019967, 0.1360739760367419, 0.09736848951962421, 0.03568162038296788, 0.2082295625819654, 0.007378212847392474, 0.015576227122273002, 0.7689737389837934, 0.8246606928753717, 0.1736127774474467, 0.002462995744315463, 0.002462995744315463, 0.9925872849591316, 0.9877740886501121, 0.994430999724544, 0.340110624333745, 0.003223797387049716, 0.08381873206329261, 0.4674506211222088, 0.10316151638559092, 0.9943354318424922, 0.9710126801970717, 0.003246648142167976, 0.24187528659151422, 0.06330963877227554, 0.06817961098552751, 0.5292036471733801, 0.030843157350595774, 0.04220642584818369, 0.021103212924091844, 0.008887050276545154, 0.201736041277575, 0.08798179773779702, 0.4283558233294764, 0.12352999884397764, 0.0231063307190174, 0.015107985470126761, 0.03643690613383513, 0.07465122232297929, 0.005389107629018325, 0.0215564305160733, 0.9754284808523168, 0.10210218711583835, 0.1434666629217421, 0.0010472019191368036, 0.7461313673849727, 0.006806812474389224, 0.060105636513300476, 0.09516725781272575, 0.02003521217110016, 0.8214436990151065, 0.9674045858047805, 0.021030534474016968, 0.9830799887893333, 0.0026076392275579136, 0.013038196137789566, 0.0032957826752409566, 0.10458617022764637, 0.0008788753800642551, 0.001098594225080319, 0.00021971884501606378, 0.8894218846250261, 0.00021971884501606378, 0.8085446496147181, 0.18748861440341288, 0.0798336542722259, 0.9180870241305978, 0.2935856248833705, 0.02559464422060153, 0.24992417297763847, 0.0015055673070942077, 0.427581115214755, 0.9101203873537064, 0.08667813212892442], \"Term\": [\"absolutely\", \"absolutely\", \"accepted\", \"accepted\", \"access\", \"access\", \"access\", \"access\", \"accessible\", \"accumulate\", \"accumulate\", \"across\", \"action\", \"add\", \"add\", \"add\", \"add\", \"add\", \"add\", \"add\", \"add\", \"add\", \"address\", \"adult\", \"advance\", \"advance\", \"advice\", \"agent\", \"agent\", \"agent\", \"ago\", \"ago\", \"ago\", \"ago\", \"air\", \"airline\", \"airline\", \"airline\", \"airport\", \"almost\", \"almost\", \"almost\", \"almost\", \"almost\", \"almost\", \"almost\", \"already\", \"already\", \"already\", \"already\", \"already\", \"already\", \"already\", \"amaze\", \"amount\", \"amount\", \"amount\", \"amount\", \"amount\", \"annual\", \"annual\", \"annual\", \"answer\", \"anybody\", \"anyone\", \"anything\", \"anything\", \"anything\", \"anything\", \"anywhere\", \"app\", \"application\", \"application\", \"apply\", \"apply\", \"apply\", \"apply\", \"apply\", \"apply\", \"appreciative\", \"approval\", \"approval\", \"approve\", \"approve\", \"approve\", \"apps\", \"apr\", \"apr\", \"assess\", \"assess\", \"attach\", \"attach\", \"attorney\", \"automatic\", \"available\", \"available\", \"available\", \"available\", \"available\", \"available\", \"available\", \"available\", \"available\", \"avoid\", \"awesome\", \"awesome\", \"awesome\", \"back\", \"back\", \"bad\", \"bad\", \"balance\", \"balance\", \"banking\", \"banking\", \"basic\", \"basic\", \"basic\", \"beat\", \"beginner\", \"behalf\", \"believe\", \"believe\", \"believe\", \"believe\", \"believe\", \"believe\", \"believe\", \"benefit\", \"benefit\", \"benefit\", \"benefit\", \"benefit\", \"best\", \"best\", \"best\", \"best\", \"best\", \"best\", \"beware\", \"big\", \"big\", \"big\", \"big\", \"big\", \"big\", \"big\", \"big\", \"bill\", \"bill\", \"bill\", \"bill\", \"bill\", \"bill\", \"bill\", \"bill\", \"birthday\", \"block\", \"block\", \"bogus\", \"bonus\", \"bonus\", \"boy\", \"build\", \"builder\", \"building\", \"building\", \"bureau\", \"bureau\", \"buy\", \"buy\", \"buy\", \"buy\", \"buyer\", \"cancel\", \"cancel\", \"cancel\", \"cancel\", \"cannot\", \"cannot\", \"cannot\", \"cannot\", \"cannot\", \"capitalone\", \"care\", \"care\", \"careful\", \"carry\", \"carry\", \"cash\", \"cashback\", \"cashback\", \"category\", \"certain\", \"certain\", \"chance\", \"chance\", \"chance\", \"change\", \"change\", \"change\", \"change\", \"change\", \"change\", \"charge\", \"charge\", \"charge\", \"charge\", \"check\", \"check\", \"check\", \"check\", \"check\", \"check\", \"check\", \"check\", \"checked\", \"checked\", \"choose\", \"class\", \"class\", \"close\", \"close\", \"closing\", \"closing\", \"common\", \"common\", \"communicate\", \"compare\", \"compare\", \"complaint\", \"complaint\", \"complaint\", \"con\", \"concerned\", \"concert\", \"consolidate\", \"contact\", \"contact\", \"contact\", \"contest\", \"convenient\", \"convert\", \"convert\", \"cool\", \"cool\", \"correct\", \"course\", \"course\", \"course\", \"course\", \"course\", \"courteous\", \"crazy\", \"crazy\", \"customer\", \"customer\", \"customer\", \"date\", \"deal\", \"deal\", \"deal\", \"deal\", \"deal\", \"deal\", \"deal\", \"deal\", \"deal\", \"dealt\", \"dealt\", \"debit\", \"debit\", \"debit\", \"debit\", \"debit\", \"debit\", \"debt\", \"debt\", \"debt\", \"debt\", \"debt\", \"dec\", \"decent\", \"decent\", \"decent\", \"decline\", \"decline\", \"decline\", \"decline\", \"decrease\", \"definitely\", \"definitely\", \"delivery\", \"delta\", \"delta\", \"department\", \"department\", \"department\", \"deposit\", \"deposit\", \"deposit\", \"deposit\", \"didnt\", \"dime\", \"din\", \"direct\", \"disappointed\", \"disappointed\", \"disconnect\", \"dishonest\", \"dislike\", \"divorce\", \"divorce\", \"document\", \"dollar\", \"dollar\", \"dollar\", \"due\", \"due\", \"early\", \"early\", \"early\", \"early\", \"earn\", \"earn\", \"ebay\", \"email\", \"email\", \"emergency\", \"emergency\", \"emergency\", \"emergency\", \"emergency\", \"emergency\", \"emergency\", \"end\", \"end\", \"end\", \"end\", \"end\", \"end\", \"end\", \"end\", \"english\", \"enjoy\", \"enjoy\", \"enjoy\", \"enough\", \"enough\", \"enough\", \"enough\", \"enough\", \"enter\", \"equifax\", \"eraser\", \"essentially\", \"esta\", \"establish\", \"every\", \"every\", \"every\", \"every\", \"every\", \"every\", \"every\", \"every\", \"everyone\", \"everyone\", \"everyone\", \"everyone\", \"everything\", \"everything\", \"everything\", \"everything\", \"everything\", \"everywhere\", \"excellent\", \"excellent\", \"excellent\", \"excellent\", \"experian\", \"experience\", \"extend\", \"extend\", \"extra\", \"extra\", \"extra\", \"extra\", \"extra\", \"extra\", \"extra\", \"extremely\", \"extremely\", \"extremely\", \"eye\", \"fact\", \"fact\", \"fact\", \"fact\", \"fact\", \"fact\", \"fact\", \"fact\", \"fan\", \"fan\", \"far\", \"far\", \"favor\", \"favor\", \"fax\", \"fax\", \"feb\", \"fee\", \"fee\", \"fee\", \"feel\", \"feel\", \"feel\", \"feel\", \"feel\", \"feel\", \"feel\", \"finally\", \"finally\", \"finally\", \"finally\", \"finally\", \"finally\", \"finance\", \"finance\", \"finance\", \"find\", \"find\", \"find\", \"find\", \"find\", \"find\", \"find\", \"find\", \"find\", \"find\", \"fine\", \"fine\", \"fine\", \"fine\", \"first\", \"first\", \"first\", \"first\", \"first\", \"first\", \"first\", \"first\", \"fit\", \"fix\", \"fix\", \"fix\", \"flag\", \"food\", \"foreign\", \"forth\", \"fraud\", \"fraud\", \"fraud\", \"fraud\", \"fraud\", \"fraud\", \"fraudulent\", \"fraudulent\", \"fraudulent\", \"fraudulent\", \"fraudulent\", \"free\", \"free\", \"free\", \"free\", \"free\", \"free\", \"free\", \"friend\", \"friendly\", \"friendly\", \"friendly\", \"froze\", \"frozen\", \"full\", \"full\", \"function\", \"fund\", \"fund\", \"fund\", \"fund\", \"fund\", \"garbage\", \"gas\", \"gas\", \"gift\", \"gift\", \"gift\", \"gift\", \"glad\", \"gold\", \"gold\", \"good\", \"good\", \"good\", \"good\", \"good\", \"grace\", \"great\", \"great\", \"great\", \"great\", \"grocery\", \"guess\", \"guess\", \"gusta\", \"handy\", \"happen\", \"happen\", \"happen\", \"happen\", \"happier\", \"happy\", \"happy\", \"hard\", \"hard\", \"hard\", \"hard\", \"hard\", \"hassle\", \"hassle\", \"hate\", \"hate\", \"hate\", \"hate\", \"help\", \"help\", \"help\", \"help\", \"help\", \"help\", \"helpful\", \"helpful\", \"helpful\", \"hidden\", \"high\", \"high\", \"highly\", \"history\", \"history\", \"history\", \"hold\", \"hold\", \"holder\", \"holder\", \"holder\", \"honest\", \"hope\", \"horrible\", \"horrible\", \"hour\", \"hour\", \"hung\", \"immediately\", \"immediately\", \"immediately\", \"immediately\", \"immediately\", \"impressed\", \"improve\", \"improve\", \"incentive\", \"incentive\", \"incorrect\", \"increase\", \"incredibly\", \"incur\", \"indeed\", \"india\", \"indian\", \"info\", \"info\", \"information\", \"information\", \"information\", \"inquire\", \"inquiry\", \"inquiry\", \"instantly\", \"interest\", \"interest\", \"international\", \"international\", \"intrest\", \"intro\", \"introductory\", \"iphone\", \"issue\", \"issue\", \"item\", \"item\", \"item\", \"item\", \"january\", \"joke\", \"journey\", \"july\", \"keep\", \"keep\", \"keep\", \"keep\", \"keep\", \"kid\", \"knowledgeable\", \"last\", \"last\", \"last\", \"last\", \"last\", \"last\", \"last\", \"late\", \"late\", \"late\", \"late\", \"late\", \"later\", \"later\", \"later\", \"later\", \"lawsuit\", \"legal\", \"legal\", \"less\", \"less\", \"less\", \"less\", \"less\", \"less\", \"less\", \"less\", \"less\", \"lesson\", \"letter\", \"letter\", \"letter\", \"life\", \"life\", \"life\", \"life\", \"life\", \"lifestyle\", \"like\", \"like\", \"like\", \"like\", \"like\", \"like\", \"like\", \"like\", \"like\", \"like\", \"limit\", \"limit\", \"listen\", \"listen\", \"little\", \"little\", \"little\", \"little\", \"little\", \"little\", \"little\", \"little\", \"log\", \"long\", \"long\", \"long\", \"long\", \"long\", \"long\", \"long\", \"long\", \"long\", \"long\", \"lose\", \"lose\", \"lose\", \"lose\", \"lose\", \"lose\", \"lose\", \"lot\", \"lot\", \"lot\", \"lot\", \"lot\", \"lot\", \"lot\", \"lot\", \"love\", \"love\", \"low\", \"low\", \"loyal\", \"mail\", \"mail\", \"mail\", \"main\", \"main\", \"manage\", \"manageable\", \"manager\", \"many\", \"many\", \"many\", \"many\", \"many\", \"many\", \"many\", \"many\", \"many\", \"many\", \"marked\", \"market\", \"market\", \"married\", \"maximize\", \"member\", \"member\", \"member\", \"member\", \"message\", \"message\", \"mile\", \"mile\", \"mile\", \"minimum\", \"minimum\", \"minimum\", \"minimum\", \"minus\", \"miss\", \"miss\", \"miss\", \"miss\", \"mobile\", \"month\", \"month\", \"month\", \"month\", \"month\", \"month\", \"month\", \"month\", \"monthly\", \"monthly\", \"monthly\", \"monthly\", \"movie\", \"much\", \"much\", \"much\", \"name\", \"name\", \"name\", \"name\", \"name\", \"navigate\", \"negative\", \"negative\", \"negative\", \"negative\", \"netflix\", \"next\", \"next\", \"next\", \"next\", \"next\", \"nice\", \"nice\", \"nice\", \"nice\", \"nice\", \"notch\", \"nothing\", \"nothing\", \"nothing\", \"nothing\", \"nothing\", \"notice\", \"notice\", \"nov\", \"offer\", \"offer\", \"offer\", \"offer\", \"offer\", \"offer\", \"old\", \"online\", \"online\", \"online\", \"online\", \"online\", \"online\", \"online\", \"online\", \"online\", \"open\", \"open\", \"open\", \"open\", \"open\", \"open\", \"opportunity\", \"opportunity\", \"opportunity\", \"opportunity\", \"option\", \"option\", \"option\", \"option\", \"option\", \"option\", \"option\", \"option\", \"others\", \"others\", \"others\", \"outrageous\", \"outrageous\", \"overall\", \"overall\", \"overdraft\", \"paid\", \"paid\", \"paid\", \"paid\", \"paperless\", \"password\", \"password\", \"past\", \"past\", \"past\", \"past\", \"past\", \"payment\", \"payment\", \"payment\", \"payment\", \"peace\", \"pending\", \"penny\", \"per\", \"per\", \"per\", \"period\", \"period\", \"period\", \"period\", \"period\", \"periodic\", \"perk\", \"perk\", \"perk\", \"perk\", \"perk\", \"perk\", \"person\", \"person\", \"person\", \"person\", \"philippine\", \"phone\", \"phone\", \"phone\", \"phone\", \"phone\", \"pin\", \"place\", \"place\", \"place\", \"place\", \"place\", \"place\", \"plane\", \"platinum\", \"platinum\", \"platinum\", \"platinum\", \"pleasant\", \"please\", \"please\", \"please\", \"pleased\", \"pleasure\", \"point\", \"point\", \"point\", \"point\", \"polite\", \"poor\", \"poor\", \"poor\", \"positive\", \"post\", \"post\", \"post\", \"pre\", \"prefer\", \"prefer\", \"premier\", \"premier\", \"pretty\", \"pretty\", \"pretty\", \"pretty\", \"pretty\", \"pretty\", \"pretty\", \"price\", \"price\", \"primary\", \"prime\", \"print\", \"print\", \"problem\", \"problem\", \"problem\", \"problem\", \"process\", \"process\", \"process\", \"product\", \"product\", \"product\", \"professional\", \"program\", \"program\", \"proof\", \"proof\", \"purchase\", \"purchase\", \"purchase\", \"purchase\", \"purchase\", \"purchase\", \"purchase\", \"quarter\", \"quarterly\", \"que\", \"que\", \"que\", \"que\", \"question\", \"rack\", \"rack\", \"raise\", \"raise\", \"rate\", \"rate\", \"read\", \"read\", \"read\", \"read\", \"read\", \"read\", \"read\", \"reap\", \"reasonable\", \"reasonable\", \"rebate\", \"rebuild\", \"receipt\", \"recommend\", \"redeem\", \"redemption\", \"reduce\", \"reduce\", \"reestablish\", \"regret\", \"reliable\", \"remove\", \"remove\", \"remove\", \"renew\", \"rep\", \"repair\", \"repair\", \"report\", \"report\", \"report\", \"report\", \"report\", \"representative\", \"representative\", \"representative\", \"research\", \"resolve\", \"resolve\", \"resolve\", \"responsive\", \"restaurant\", \"retailer\", \"return\", \"return\", \"return\", \"reverse\", \"reverse\", \"reverse\", \"reverse\", \"reward\", \"reward\", \"reward\", \"reward\", \"ridiculous\", \"ridiculous\", \"ridiculously\", \"ripped\", \"rotate\", \"rude\", \"rude\", \"rule\", \"runaround\", \"satisfied\", \"scam\", \"scammed\", \"score\", \"score\", \"score\", \"score\", \"score\", \"screw\", \"screw\", \"screw\", \"sears\", \"sears\", \"sears\", \"sears\", \"sears\", \"sears\", \"sears\", \"secure\", \"secure\", \"secure\", \"secure\", \"see\", \"see\", \"see\", \"see\", \"see\", \"see\", \"self\", \"seller\", \"sense\", \"sense\", \"sent\", \"sept\", \"september\", \"september\", \"seriously\", \"serve\", \"service\", \"service\", \"service\", \"set\", \"set\", \"set\", \"set\", \"several\", \"several\", \"several\", \"several\", \"several\", \"several\", \"several\", \"several\", \"shady\", \"shame\", \"shop\", \"shop\", \"shop\", \"shopping\", \"shopping\", \"show\", \"show\", \"shut\", \"signature\", \"silver\", \"simple\", \"simplicity\", \"simplicity\", \"simplicity\", \"since\", \"since\", \"since\", \"since\", \"since\", \"since\", \"since\", \"since\", \"since\", \"single\", \"single\", \"single\", \"sky\", \"sky\", \"sky\", \"sleek\", \"small\", \"small\", \"small\", \"small\", \"small\", \"smooth\", \"someone\", \"someone\", \"someone\", \"someone\", \"someone\", \"someone\", \"someone\", \"someone\", \"speak\", \"speaks\", \"specific\", \"spend\", \"spend\", \"spend\", \"spend\", \"spoke\", \"spoken\", \"staff\", \"stand\", \"stand\", \"starbucks\", \"start\", \"start\", \"starter\", \"state\", \"state\", \"state\", \"state\", \"statement\", \"statement\", \"statement\", \"statement\", \"statement\", \"station\", \"steal\", \"steal\", \"steal\", \"steal\", \"steep\", \"step\", \"step\", \"step\", \"still\", \"still\", \"still\", \"still\", \"still\", \"still\", \"still\", \"stone\", \"stop\", \"stop\", \"stop\", \"stop\", \"stop\", \"stop\", \"stop\", \"store\", \"store\", \"store\", \"store\", \"store\", \"store\", \"store\", \"strong\", \"strongly\", \"struggle\", \"student\", \"student\", \"student\", \"study\", \"stupid\", \"stupid\", \"suck\", \"suck\", \"sue\", \"super\", \"supervisor\", \"support\", \"support\", \"support\", \"surprise\", \"surprised\", \"surprising\", \"suspend\", \"switch\", \"switch\", \"switch\", \"talk\", \"tarjeta\", \"tarjeta\", \"team\", \"tengo\", \"terrible\", \"text\", \"thank\", \"thanks\", \"thief\", \"thing\", \"thing\", \"thing\", \"thing\", \"thing\", \"thing\", \"thing\", \"thing\", \"thing\", \"thing\", \"though\", \"though\", \"though\", \"though\", \"though\", \"though\", \"though\", \"though\", \"though\", \"tiny\", \"today\", \"towards\", \"towards\", \"towards\", \"town\", \"town\", \"town\", \"track\", \"transaction\", \"transaction\", \"transaction\", \"transaction\", \"transfer\", \"transfer\", \"transfer\", \"transunion\", \"travel\", \"travel\", \"travel\", \"travel\", \"traveler\", \"treat\", \"treat\", \"treat\", \"tremendously\", \"trouble\", \"trouble\", \"trouble\", \"trouble\", \"trouble\", \"true\", \"trust\", \"trust\", \"trust\", \"trust\", \"trust\", \"trust\", \"trust\", \"two\", \"two\", \"two\", \"two\", \"two\", \"two\", \"uber\", \"unacceptable\", \"understand\", \"understand\", \"unhappy\", \"united\", \"unlock\", \"unreasonable\", \"update\", \"update\", \"upped\", \"ups\", \"user\", \"user\", \"vacation\", \"valid\", \"valuable\", \"variable\", \"variety\", \"vega\", \"venture\", \"venture\", \"version\", \"via\", \"via\", \"via\", \"virtually\", \"visa\", \"visa\", \"visa\", \"visa\", \"visa\", \"wait\", \"wait\", \"wait\", \"wait\", \"wait\", \"wait\", \"wait\", \"waste\", \"waste\", \"waste\", \"watch\", \"way\", \"way\", \"way\", \"way\", \"way\", \"way\", \"way\", \"way\", \"way\", \"way\", \"website\", \"website\", \"website\", \"website\", \"week\", \"week\", \"whole\", \"whole\", \"whole\", \"widely\", \"win\", \"wish\", \"wish\", \"wish\", \"wish\", \"wish\", \"withdraw\", \"withdrawn\", \"within\", \"within\", \"within\", \"within\", \"within\", \"within\", \"within\", \"within\", \"without\", \"without\", \"without\", \"without\", \"without\", \"without\", \"without\", \"without\", \"without\", \"word\", \"word\", \"word\", \"work\", \"work\", \"work\", \"work\", \"work\", \"world\", \"world\", \"world\", \"world\", \"worried\", \"worried\", \"wrong\", \"wrong\", \"wrong\", \"year\", \"year\", \"year\", \"year\", \"year\", \"year\", \"year\", \"yearly\", \"yearly\", \"yes\", \"yes\", \"yet\", \"yet\", \"yet\", \"yet\", \"yet\", \"zero\", \"zero\"]}, \"R\": 30, \"lambda.step\": 0.01, \"plot.opts\": {\"xlab\": \"PC1\", \"ylab\": \"PC2\"}, \"topic.order\": [2, 1, 6, 7, 4, 9, 3, 10, 5, 8]};\n",
       "\n",
       "function LDAvis_load_lib(url, callback){\n",
       "  var s = document.createElement('script');\n",
       "  s.src = url;\n",
       "  s.async = true;\n",
       "  s.onreadystatechange = s.onload = callback;\n",
       "  s.onerror = function(){console.warn(\"failed to load library \" + url);};\n",
       "  document.getElementsByTagName(\"head\")[0].appendChild(s);\n",
       "}\n",
       "\n",
       "if(typeof(LDAvis) !== \"undefined\"){\n",
       "   // already loaded: just create the visualization\n",
       "   !function(LDAvis){\n",
       "       new LDAvis(\"#\" + \"ldavis_el602921123294397764016559082\", ldavis_el602921123294397764016559082_data);\n",
       "   }(LDAvis);\n",
       "}else if(typeof define === \"function\" && define.amd){\n",
       "   // require.js is available: use it to load d3/LDAvis\n",
       "   require.config({paths: {d3: \"https://cdnjs.cloudflare.com/ajax/libs/d3/3.5.5/d3.min\"}});\n",
       "   require([\"d3\"], function(d3){\n",
       "      window.d3 = d3;\n",
       "      LDAvis_load_lib(\"https://cdn.rawgit.com/bmabey/pyLDAvis/files/ldavis.v1.0.0.js\", function(){\n",
       "        new LDAvis(\"#\" + \"ldavis_el602921123294397764016559082\", ldavis_el602921123294397764016559082_data);\n",
       "      });\n",
       "    });\n",
       "}else{\n",
       "    // require.js not available: dynamically load d3 & LDAvis\n",
       "    LDAvis_load_lib(\"https://cdnjs.cloudflare.com/ajax/libs/d3/3.5.5/d3.min.js\", function(){\n",
       "         LDAvis_load_lib(\"https://cdn.rawgit.com/bmabey/pyLDAvis/files/ldavis.v1.0.0.js\", function(){\n",
       "                 new LDAvis(\"#\" + \"ldavis_el602921123294397764016559082\", ldavis_el602921123294397764016559082_data);\n",
       "            })\n",
       "         });\n",
       "}\n",
       "</script>"
      ],
      "text/plain": [
       "PreparedData(topic_coordinates=                x  \\\n",
       "topic               \n",
       "1      -15.921624   \n",
       "0     -123.302345   \n",
       "5       41.323711   \n",
       "6      167.226547   \n",
       "3      -29.271013   \n",
       "8      148.705200   \n",
       "2       77.706917   \n",
       "9      -52.314491   \n",
       "4       54.666862   \n",
       "7     -141.827515   \n",
       "\n",
       "                y  \\\n",
       "topic               \n",
       "1      143.208740   \n",
       "0       82.477196   \n",
       "5     -165.704254   \n",
       "6       16.992363   \n",
       "3       17.670568   \n",
       "8     -104.973289   \n",
       "2       83.081627   \n",
       "9     -105.589874   \n",
       "4      -40.174252   \n",
       "7      -39.489033   \n",
       "\n",
       "       topics  \\\n",
       "topic           \n",
       "1           1   \n",
       "0           2   \n",
       "5           3   \n",
       "6           4   \n",
       "3           5   \n",
       "8           6   \n",
       "2           7   \n",
       "9           8   \n",
       "4           9   \n",
       "7          10   \n",
       "\n",
       "       cluster  \\\n",
       "topic            \n",
       "1            1   \n",
       "0            1   \n",
       "5            1   \n",
       "6            1   \n",
       "3            1   \n",
       "8            1   \n",
       "2            1   \n",
       "9            1   \n",
       "4            1   \n",
       "7            1   \n",
       "\n",
       "            Freq  \n",
       "topic             \n",
       "1      15.114158  \n",
       "0      13.302151  \n",
       "5      11.070653  \n",
       "6      10.350412  \n",
       "3       9.601246  \n",
       "8       9.131852  \n",
       "2       8.542751  \n",
       "9       7.978313  \n",
       "4       7.955584  \n",
       "7       6.952880  , topic_info=      Category  \\\n",
       "1007   Default   \n",
       "6680   Default   \n",
       "10079  Default   \n",
       "2819   Default   \n",
       "1813   Default   \n",
       "...        ...   \n",
       "4272   Topic10   \n",
       "12231  Topic10   \n",
       "7250   Topic10   \n",
       "6539   Topic10   \n",
       "1256   Topic10   \n",
       "\n",
       "              Freq  \\\n",
       "1007   7234.000000   \n",
       "6680   5004.000000   \n",
       "10079  6063.000000   \n",
       "2819   6239.000000   \n",
       "1813   5781.000000   \n",
       "...            ...   \n",
       "4272    226.821671   \n",
       "12231   251.007482   \n",
       "7250    353.002528   \n",
       "6539    214.071244   \n",
       "1256    192.990613   \n",
       "\n",
       "           Term  \\\n",
       "1007       back   \n",
       "6680       love   \n",
       "10079   service   \n",
       "2819   customer   \n",
       "1813       cash   \n",
       "...         ...   \n",
       "4272       fact   \n",
       "12231      visa   \n",
       "7250      month   \n",
       "6539       like   \n",
       "1256       best   \n",
       "\n",
       "             Total  \\\n",
       "1007   7234.000000   \n",
       "6680   5004.000000   \n",
       "10079  6063.000000   \n",
       "2819   6239.000000   \n",
       "1813   5781.000000   \n",
       "...            ...   \n",
       "4272    646.744504   \n",
       "12231   992.286990   \n",
       "7250   5447.822889   \n",
       "6539   5180.440541   \n",
       "1256   1593.171244   \n",
       "\n",
       "       loglift  \\\n",
       "1007   30.0000   \n",
       "6680   29.0000   \n",
       "10079  28.0000   \n",
       "2819   27.0000   \n",
       "1813   26.0000   \n",
       "...        ...   \n",
       "4272    1.6182   \n",
       "12231   1.2915   \n",
       "7250   -0.0705   \n",
       "6539   -0.5203   \n",
       "1256    0.5552   \n",
       "\n",
       "       logprob  \n",
       "1007   30.0000  \n",
       "6680   29.0000  \n",
       "10079  28.0000  \n",
       "2819   27.0000  \n",
       "1813   26.0000  \n",
       "...        ...  \n",
       "4272   -5.1065  \n",
       "12231  -5.0052  \n",
       "7250   -4.6642  \n",
       "6539   -5.1644  \n",
       "1256   -5.2680  \n",
       "\n",
       "[623 rows x 6 columns], token_table=       Topic  \\\n",
       "term           \n",
       "36         3   \n",
       "36         9   \n",
       "66         5   \n",
       "66        10   \n",
       "71         2   \n",
       "...      ...   \n",
       "12662      5   \n",
       "12662      6   \n",
       "12662      8   \n",
       "12698      2   \n",
       "12698      6   \n",
       "\n",
       "           Freq  \\\n",
       "term              \n",
       "36     0.800428   \n",
       "36     0.197725   \n",
       "66     0.004378   \n",
       "66     0.993876   \n",
       "71     0.232549   \n",
       "...         ...   \n",
       "12662  0.249924   \n",
       "12662  0.001506   \n",
       "12662  0.427581   \n",
       "12698  0.910120   \n",
       "12698  0.086678   \n",
       "\n",
       "             Term  \n",
       "term               \n",
       "36     absolutely  \n",
       "36     absolutely  \n",
       "66       accepted  \n",
       "66       accepted  \n",
       "71         access  \n",
       "...           ...  \n",
       "12662         yet  \n",
       "12662         yet  \n",
       "12662         yet  \n",
       "12698        zero  \n",
       "12698        zero  \n",
       "\n",
       "[1402 rows x 3 columns], R=30, lambda_step=0.01, plot_opts={'xlab': 'PC1', 'ylab': 'PC2'}, topic_order=[2, 1, 6, 7, 4, 9, 3, 10, 5, 8])"
      ]
     },
     "metadata": {},
     "output_type": "display_data"
    }
   ],
   "source": [
    "display(panel)"
   ]
  },
  {
   "cell_type": "code",
   "execution_count": 16,
   "metadata": {},
   "outputs": [],
   "source": [
    "pyLDAvis.save_html(panel, 'lda.html')"
   ]
  },
  {
   "cell_type": "code",
   "execution_count": null,
   "metadata": {},
   "outputs": [],
   "source": []
  }
 ],
 "metadata": {
  "kernelspec": {
   "display_name": "Python 3",
   "language": "python",
   "name": "python3"
  },
  "language_info": {
   "codemirror_mode": {
    "name": "ipython",
    "version": 3
   },
   "file_extension": ".py",
   "mimetype": "text/x-python",
   "name": "python",
   "nbconvert_exporter": "python",
   "pygments_lexer": "ipython3",
   "version": "3.7.3"
  }
 },
 "nbformat": 4,
 "nbformat_minor": 2
}
