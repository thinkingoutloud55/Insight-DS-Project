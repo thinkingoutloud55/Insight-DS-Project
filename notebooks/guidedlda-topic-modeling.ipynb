{
 "cells": [
  {
   "cell_type": "markdown",
   "metadata": {},
   "source": [
    "# Guided-LDA Topic Modeling \n",
    "\n",
    "This notebook implements topic modeling using [guided or seeded LDA](https://github.com/vi3k6i5/GuidedLDA)"
   ]
  },
  {
   "cell_type": "markdown",
   "metadata": {},
   "source": [
    "## Imports"
   ]
  },
  {
   "cell_type": "code",
   "execution_count": 1,
   "metadata": {},
   "outputs": [],
   "source": [
    "%matplotlib inline\n",
    "import pandas as pd\n",
    "import numpy as np\n",
    "import re\n",
    "import pickle\n",
    "import joblib\n",
    "import matplotlib.pyplot as plt\n",
    "import seaborn as sns\n",
    "pd.set_option('display.width',-1)"
   ]
  },
  {
   "cell_type": "code",
   "execution_count": 2,
   "metadata": {},
   "outputs": [],
   "source": [
    "# run some files containing custom functions\n",
    "%run -i '../scripts/helper_functions.py'"
   ]
  },
  {
   "cell_type": "code",
   "execution_count": 3,
   "metadata": {
    "scrolled": true
   },
   "outputs": [
    {
     "data": {
      "text/html": [
       "<div>\n",
       "<style scoped>\n",
       "    .dataframe tbody tr th:only-of-type {\n",
       "        vertical-align: middle;\n",
       "    }\n",
       "\n",
       "    .dataframe tbody tr th {\n",
       "        vertical-align: top;\n",
       "    }\n",
       "\n",
       "    .dataframe thead th {\n",
       "        text-align: right;\n",
       "    }\n",
       "</style>\n",
       "<table border=\"1\" class=\"dataframe\">\n",
       "  <thead>\n",
       "    <tr style=\"text-align: right;\">\n",
       "      <th></th>\n",
       "      <th>reviews</th>\n",
       "      <th>rating</th>\n",
       "      <th>company</th>\n",
       "    </tr>\n",
       "  </thead>\n",
       "  <tbody>\n",
       "    <tr>\n",
       "      <td>0</td>\n",
       "      <td>Great card! We get cash back for our grocery a...</td>\n",
       "      <td>4.0</td>\n",
       "      <td>American Express Blue Cash Preferred</td>\n",
       "    </tr>\n",
       "    <tr>\n",
       "      <td>1</td>\n",
       "      <td>While traveling we had to keep calling the Cre...</td>\n",
       "      <td>1.0</td>\n",
       "      <td>Credit One Bank</td>\n",
       "    </tr>\n",
       "    <tr>\n",
       "      <td>2</td>\n",
       "      <td>Great card to have! Love all the additional cr...</td>\n",
       "      <td>5.0</td>\n",
       "      <td>Capital One Quicksilver Rewards</td>\n",
       "    </tr>\n",
       "    <tr>\n",
       "      <td>3</td>\n",
       "      <td>no tengo tanta experiencia asi que no puedo da...</td>\n",
       "      <td>2.0</td>\n",
       "      <td>Citi Double Cash Card</td>\n",
       "    </tr>\n",
       "    <tr>\n",
       "      <td>4</td>\n",
       "      <td>This is a basic credit card. The cash back dea...</td>\n",
       "      <td>4.0</td>\n",
       "      <td>Bank of America Cash Rewards Credit Card</td>\n",
       "    </tr>\n",
       "  </tbody>\n",
       "</table>\n",
       "</div>"
      ],
      "text/plain": [
       "                                             reviews  \\\n",
       "0  Great card! We get cash back for our grocery a...   \n",
       "1  While traveling we had to keep calling the Cre...   \n",
       "2  Great card to have! Love all the additional cr...   \n",
       "3  no tengo tanta experiencia asi que no puedo da...   \n",
       "4  This is a basic credit card. The cash back dea...   \n",
       "\n",
       "   rating  \\\n",
       "0     4.0   \n",
       "1     1.0   \n",
       "2     5.0   \n",
       "3     2.0   \n",
       "4     4.0   \n",
       "\n",
       "                                    company  \n",
       "0     American Express Blue Cash Preferred   \n",
       "1                           Credit One Bank  \n",
       "2           Capital One Quicksilver Rewards  \n",
       "3                     Citi Double Cash Card  \n",
       "4  Bank of America Cash Rewards Credit Card  "
      ]
     },
     "execution_count": 3,
     "metadata": {},
     "output_type": "execute_result"
    }
   ],
   "source": [
    "# load data\n",
    "df = pd.read_csv('../data/all_data.csv')\n",
    "df.head()"
   ]
  },
  {
   "cell_type": "code",
   "execution_count": 32,
   "metadata": {},
   "outputs": [
    {
     "data": {
      "text/plain": [
       "array(['American Express Blue Cash Preferred ', 'Credit One Bank',\n",
       "       'Capital One Quicksilver Rewards', 'Citi Double Cash Card',\n",
       "       'Bank of America Cash Rewards Credit Card',\n",
       "       'Capital One Venture Rewards', 'Costco Anywhere Visa Card by Citi',\n",
       "       'Merrick Bank', 'Barclays Bank', 'Citi Diamond Preferred Card',\n",
       "       'American Express Business Gold Rewards Credit Card',\n",
       "       'Citi Platinum World Elite', 'Chase Amazon Reward Visa',\n",
       "       'PayPal Credit', 'Citi Simplicity Card', 'Discover it Cash Back',\n",
       "       'Sears Credit Card', 'Target Credit Card',\n",
       "       'American Express Platinum Card', 'Capital One Platinum',\n",
       "       'TD Cash Visa Credit Card', 'Premier Bankcard', 'Eppicard',\n",
       "       'Chase Freedom Unlimited',\n",
       "       'Bank of America Travel Rewards Credit Card',\n",
       "       'Discover it Secured', 'Discover it Miles', 'Rogers MASTERCARD',\n",
       "       'OpenSky Secured Visa Credit Card',\n",
       "       'Chase Sapphire Preffered Card', 'Capital One Secured Credit Card',\n",
       "       'Capital One Platinum Costco MASTERCARD', 'RBC VISA',\n",
       "       'Walmart MASTERCARD', 'Canadian Tire MASTERCARD', 'BMO MASTERCARD',\n",
       "       'TD First Class Travel VISA Infinite Card',\n",
       "       'Presidents Choice Financial', 'Aspire Visa',\n",
       "       'HomeTrust Secured VISA'], dtype=object)"
      ]
     },
     "execution_count": 32,
     "metadata": {},
     "output_type": "execute_result"
    }
   ],
   "source": [
    "df.company.unique()"
   ]
  },
  {
   "cell_type": "code",
   "execution_count": 5,
   "metadata": {},
   "outputs": [
    {
     "data": {
      "text/plain": [
       "(25708, 3)"
      ]
     },
     "execution_count": 5,
     "metadata": {},
     "output_type": "execute_result"
    }
   ],
   "source": [
    "df.shape"
   ]
  },
  {
   "cell_type": "code",
   "execution_count": 6,
   "metadata": {},
   "outputs": [],
   "source": [
    "# Remove wide space in review texts\n",
    "df['reviews']  = df['reviews'].apply(detokenizer)\n",
    "df.to_csv('../data/all_data.csv', index = False) # save as csv file"
   ]
  },
  {
   "cell_type": "code",
   "execution_count": 7,
   "metadata": {},
   "outputs": [],
   "source": [
    "# reload data\n",
    "df = pd.read_csv('../data/all_data.csv')"
   ]
  },
  {
   "cell_type": "markdown",
   "metadata": {},
   "source": [
    "## Reviews  to sentences"
   ]
  },
  {
   "cell_type": "code",
   "execution_count": 8,
   "metadata": {},
   "outputs": [],
   "source": [
    "# Converts reviews to sentences and to dataframe\n",
    "result = review_to_sent(df, 'reviews', 'company')\n",
    "df_rev_sen = pd.DataFrame({'sentence': result[0], 'company': result[1]}) "
   ]
  },
  {
   "cell_type": "code",
   "execution_count": 9,
   "metadata": {},
   "outputs": [
    {
     "data": {
      "text/plain": [
       "(111357, 2)"
      ]
     },
     "execution_count": 9,
     "metadata": {},
     "output_type": "execute_result"
    }
   ],
   "source": [
    "df_rev_sen.shape"
   ]
  },
  {
   "cell_type": "markdown",
   "metadata": {},
   "source": [
    "## Vader Sentiment Analysis"
   ]
  },
  {
   "cell_type": "code",
   "execution_count": 10,
   "metadata": {},
   "outputs": [],
   "source": [
    "from vaderSentiment.vaderSentiment import SentimentIntensityAnalyzer "
   ]
  },
  {
   "cell_type": "code",
   "execution_count": 19,
   "metadata": {},
   "outputs": [],
   "source": [
    "def score(sentence):\n",
    "    \"\"\"Returns the compound polarity (sentiment) score of each senetence\"\"\"\n",
    "    sia = SentimentIntensityAnalyzer()\n",
    "    score = sia.polarity_scores(sentence)\n",
    "    return score['compound']"
   ]
  },
  {
   "cell_type": "code",
   "execution_count": 20,
   "metadata": {},
   "outputs": [],
   "source": [
    "# Sentiment of each sentence\n",
    "df_rev_sen['sentiment'] = df_rev_sen.sentence.apply(score)"
   ]
  },
  {
   "cell_type": "code",
   "execution_count": 21,
   "metadata": {},
   "outputs": [],
   "source": [
    "# Sort and save to csv file\n",
    "df_rev_sen = df_rev_sen.sort_values(['company','sentiment'], ascending = False).reset_index(drop=True)\n",
    "df_rev_sen.to_csv('../data/sentence.csv', index = False)"
   ]
  },
  {
   "cell_type": "code",
   "execution_count": 57,
   "metadata": {},
   "outputs": [
    {
     "data": {
      "text/html": [
       "<div>\n",
       "<style scoped>\n",
       "    .dataframe tbody tr th:only-of-type {\n",
       "        vertical-align: middle;\n",
       "    }\n",
       "\n",
       "    .dataframe tbody tr th {\n",
       "        vertical-align: top;\n",
       "    }\n",
       "\n",
       "    .dataframe thead th {\n",
       "        text-align: right;\n",
       "    }\n",
       "</style>\n",
       "<table border=\"1\" class=\"dataframe\">\n",
       "  <thead>\n",
       "    <tr style=\"text-align: right;\">\n",
       "      <th></th>\n",
       "      <th>sentence</th>\n",
       "      <th>company</th>\n",
       "      <th>sentiment</th>\n",
       "    </tr>\n",
       "  </thead>\n",
       "  <tbody>\n",
       "    <tr>\n",
       "      <td>0</td>\n",
       "      <td>I CALLED AND ASKED THEM WHY I WAS GETTING INTE...</td>\n",
       "      <td>Walmart MASTERCARD</td>\n",
       "      <td>0.8647</td>\n",
       "    </tr>\n",
       "    <tr>\n",
       "      <td>1</td>\n",
       "      <td>Excellent rewards and redeem easily when makin...</td>\n",
       "      <td>Walmart MASTERCARD</td>\n",
       "      <td>0.8481</td>\n",
       "    </tr>\n",
       "    <tr>\n",
       "      <td>2</td>\n",
       "      <td>I must note that I had also received 2 previou...</td>\n",
       "      <td>Walmart MASTERCARD</td>\n",
       "      <td>0.8225</td>\n",
       "    </tr>\n",
       "    <tr>\n",
       "      <td>3</td>\n",
       "      <td>After 6 weeks and a few major purchases I was ...</td>\n",
       "      <td>Walmart MASTERCARD</td>\n",
       "      <td>0.7943</td>\n",
       "    </tr>\n",
       "    <tr>\n",
       "      <td>4</td>\n",
       "      <td>I have the Walmart Mastercard for over 2 years...</td>\n",
       "      <td>Walmart MASTERCARD</td>\n",
       "      <td>0.7845</td>\n",
       "    </tr>\n",
       "  </tbody>\n",
       "</table>\n",
       "</div>"
      ],
      "text/plain": [
       "                                            sentence  \\\n",
       "0  I CALLED AND ASKED THEM WHY I WAS GETTING INTE...   \n",
       "1  Excellent rewards and redeem easily when makin...   \n",
       "2  I must note that I had also received 2 previou...   \n",
       "3  After 6 weeks and a few major purchases I was ...   \n",
       "4  I have the Walmart Mastercard for over 2 years...   \n",
       "\n",
       "              company  \\\n",
       "0  Walmart MASTERCARD   \n",
       "1  Walmart MASTERCARD   \n",
       "2  Walmart MASTERCARD   \n",
       "3  Walmart MASTERCARD   \n",
       "4  Walmart MASTERCARD   \n",
       "\n",
       "   sentiment  \n",
       "0     0.8647  \n",
       "1     0.8481  \n",
       "2     0.8225  \n",
       "3     0.7943  \n",
       "4     0.7845  "
      ]
     },
     "execution_count": 57,
     "metadata": {},
     "output_type": "execute_result"
    }
   ],
   "source": [
    "# Reload saved data\n",
    "df_sentence = pd.read_csv('../data/sentence.csv') \n",
    "df_sentence.head()"
   ]
  },
  {
   "cell_type": "code",
   "execution_count": 58,
   "metadata": {
    "scrolled": true
   },
   "outputs": [
    {
     "data": {
      "text/plain": [
       "(111357, 3)"
      ]
     },
     "execution_count": 58,
     "metadata": {},
     "output_type": "execute_result"
    }
   ],
   "source": [
    "df_sentence.shape"
   ]
  },
  {
   "cell_type": "code",
   "execution_count": 107,
   "metadata": {},
   "outputs": [
    {
     "data": {
      "text/plain": [
       "'Unfair, unjust, unworthy.'"
      ]
     },
     "execution_count": 107,
     "metadata": {},
     "output_type": "execute_result"
    }
   ],
   "source": [
    "df_sentence[df_sentence.company =='Capital One Secured Credit Card'].sentence.loc[78387]"
   ]
  },
  {
   "cell_type": "code",
   "execution_count": 6,
   "metadata": {},
   "outputs": [],
   "source": [
    "# Remove all the neutral sentiments with score of zero\n",
    "#df_sentence = df_sentence[df_sentence.sentiment !=0].reset_index(drop=True)"
   ]
  },
  {
   "cell_type": "code",
   "execution_count": 7,
   "metadata": {},
   "outputs": [],
   "source": [
    "# Positive sentiments with sacore greater than 0.4 maps to 1 and 0 otherwise\n",
    "#df_sentence['positivity'] = np.where(df_sentence['sentiment'] > 0.4, 1, 0)"
   ]
  },
  {
   "cell_type": "code",
   "execution_count": 5,
   "metadata": {
    "scrolled": false
   },
   "outputs": [],
   "source": [
    "#df_sentence.positivity.value_counts()"
   ]
  },
  {
   "cell_type": "code",
   "execution_count": 7,
   "metadata": {},
   "outputs": [],
   "source": [
    "#Display each row\n",
    "#print_sentence(df_sentence, index=600)"
   ]
  },
  {
   "cell_type": "code",
   "execution_count": 14,
   "metadata": {},
   "outputs": [],
   "source": [
    "# Calculate the mean sentiment of all credit card company\n",
    "# mean_senti = df_sentence.groupby('company')['sentiment'].mean().sort_values(ascending = False)\n",
    "# round(mean_senti,3)"
   ]
  },
  {
   "cell_type": "code",
   "execution_count": 10,
   "metadata": {
    "scrolled": true
   },
   "outputs": [],
   "source": [
    "# df_sentence.sentiment.hist(bins = 'auto')\n",
    "# plt.xlabel('sentiment')\n",
    "# plt.ylabel('count')"
   ]
  },
  {
   "cell_type": "markdown",
   "metadata": {},
   "source": [
    "## Data Pre-processing"
   ]
  },
  {
   "cell_type": "code",
   "execution_count": 17,
   "metadata": {},
   "outputs": [],
   "source": [
    "import guidedlda\n",
    "import nltk\n",
    "import spacy\n",
    "from sklearn.feature_extraction.text import CountVectorizer, TfidfVectorizer\n",
    "from nltk.corpus import stopwords\n",
    "from collections import Counter"
   ]
  },
  {
   "cell_type": "code",
   "execution_count": 18,
   "metadata": {},
   "outputs": [],
   "source": [
    "# By inspection, I will add more stopwords to the default nltk stopwords\n",
    "my_stop_words = ['capital','america', 'redcard', 'target','amazon', 'card', 'credit','merrick', 'discover', 'citi',\n",
    "                 'amex', 'express', 'go', 'paypal', 'chase', 'american', 'one', 'would', 'ask','really', \n",
    "                 'get', 'know', 'express', 'ever','use','say', 'recently', 'also', 'always', 'give',  'tell', \n",
    "                 'take', 'never', 'costco', 'time', 'make', 'try','number', 'send', 'new', 'even',\n",
    "                 'sony', 'us', 'husband', 'car', 'capitol', 'wife', 'book','could','okay', 'mastercard', 'want',\n",
    "                 'honestly', 'eppicard', 'need', 'family', 'cap', 'another', 'line', 'com', 'fico', 'quicksilver',\n",
    "                'link', 'sear', 'pay', 'may', 'company', 'bank', 'call', 'account', 'receive','told', 'day', 'well',\n",
    "                'think', 'look', 'sure', 'easy', 'money', 'people','business', 'review', 'something', 'come','away']\n",
    "\n",
    "stop_words = stopwords.words('english')\n",
    "stop_words.extend(my_stop_words)"
   ]
  },
  {
   "cell_type": "code",
   "execution_count": 12,
   "metadata": {},
   "outputs": [],
   "source": [
    "def word_count(text):\n",
    "    \"\"\"Plot the most frequency words in the corpus\"\"\"\n",
    "    all_reviews = ' '.join(text) # join all reviews\n",
    "    token_count = Counter(my_tokenizer(all_reviews)) # count each word\n",
    "    common_words =  dict( token_count.most_common(n=25) ) # count most common 20 words\n",
    "    freq_plot = pd.Series(common_words, index=None).plot(kind = 'bar', figsize=(10,5))\n",
    "    plt.ylabel('count')\n",
    "    #plt.savefig('../figures/fig2.pdf')"
   ]
  },
  {
   "cell_type": "code",
   "execution_count": 13,
   "metadata": {},
   "outputs": [
    {
     "data": {
      "image/png": "[encoded data removed]",
      "text/plain": [
       "<Figure size 720x360 with 1 Axes>"
      ]
     },
     "metadata": {
      "needs_background": "light"
     },
     "output_type": "display_data"
    }
   ],
   "source": [
    "word_count(df_sentence.sentence)"
   ]
  },
  {
   "cell_type": "markdown",
   "metadata": {},
   "source": [
    "# Topic Modeling with LDA"
   ]
  },
  {
   "cell_type": "code",
   "execution_count": 19,
   "metadata": {},
   "outputs": [],
   "source": [
    "def doc_term_matrix(data, text):\n",
    "    \"\"\"Returns document term matrix, vocabulary, and word id\"\"\"\n",
    "    counter = CountVectorizer(tokenizer=my_tokenizer, ngram_range = (1,1))\n",
    "    X = counter.fit_transform(data[text]).toarray()\n",
    "    bow_docs = pd.DataFrame(X, columns=counter.get_feature_names())\n",
    "    vocab = tuple(bow_docs.columns)\n",
    "    word2id = dict((v, idx) for idx, v in enumerate(vocab))\n",
    "    return X, vocab, word2id"
   ]
  },
  {
   "cell_type": "code",
   "execution_count": 20,
   "metadata": {},
   "outputs": [],
   "source": [
    "X, vocab, word2id = doc_term_matrix(df_sentence, 'sentence')"
   ]
  },
  {
   "cell_type": "code",
   "execution_count": 21,
   "metadata": {
    "scrolled": true
   },
   "outputs": [
    {
     "data": {
      "text/plain": [
       "(111357, 12715)"
      ]
     },
     "execution_count": 21,
     "metadata": {},
     "output_type": "execute_result"
    }
   ],
   "source": [
    "X.shape"
   ]
  },
  {
   "cell_type": "markdown",
   "metadata": {},
   "source": [
    "## 1. Sklearn LDA"
   ]
  },
  {
   "cell_type": "code",
   "execution_count": 22,
   "metadata": {},
   "outputs": [],
   "source": [
    "from sklearn.decomposition import LatentDirichletAllocation as LDA"
   ]
  },
  {
   "cell_type": "code",
   "execution_count": 23,
   "metadata": {},
   "outputs": [
    {
     "data": {
      "text/plain": [
       "LatentDirichletAllocation(batch_size=128, doc_topic_prior=None,\n",
       "                          evaluate_every=-1, learning_decay=0.7,\n",
       "                          learning_method='batch', learning_offset=10.0,\n",
       "                          max_doc_update_iter=100, max_iter=10,\n",
       "                          mean_change_tol=0.001, n_components=10, n_jobs=None,\n",
       "                          perp_tol=0.1, random_state=None,\n",
       "                          topic_word_prior=None, total_samples=1000000.0,\n",
       "                          verbose=0)"
      ]
     },
     "execution_count": 23,
     "metadata": {},
     "output_type": "execute_result"
    }
   ],
   "source": [
    "lda = LDA(n_components=10, learning_method='batch')\n",
    "lda.fit(X)"
   ]
  },
  {
   "cell_type": "code",
   "execution_count": 24,
   "metadata": {},
   "outputs": [
    {
     "data": {
      "text/plain": [
       "(10, 12715)"
      ]
     },
     "execution_count": 24,
     "metadata": {},
     "output_type": "execute_result"
    }
   ],
   "source": [
    "lda.components_.shape"
   ]
  },
  {
   "cell_type": "code",
   "execution_count": 25,
   "metadata": {},
   "outputs": [
    {
     "name": "stdout",
     "output_type": "stream",
     "text": [
      "Topic 0: payment statement mail sent week state letter later check show\n",
      "Topic 1: fee year first annual problem month charge since dollar ago\n",
      "Topic 2: payment charge bill late fee due online transaction still paid\n",
      "Topic 3: apply fraud charge approve happy accepted decide order application decline\n",
      "Topic 4: interest balance rate limit month help high score increase low\n",
      "Topic 5: back reward cash point purchase like travel great love earn\n",
      "Topic 6: customer service great love good far helpful excellent benefit complaint\n",
      "Topic 7: bad start experience worth like nothing secure rebuild little read\n",
      "Topic 8: recommend issue online anyone definitely good highly thank simple others\n",
      "Topic 9: phone good work app someone cancel website understand person speak\n"
     ]
    }
   ],
   "source": [
    "topics = ['topic{}'.format(i) for i in range(lda.components_.shape[0])]\n",
    "components = pd.DataFrame(lda.components_.T, index=vocab, columns = topics)/len(X)\n",
    "n_top_words = 10\n",
    "for i, topic_dist in enumerate(topics):\n",
    "    topic_words = components[topics[i]].sort_values(ascending=False)[:n_top_words].index\n",
    "    print('Topic {}: {}'.format(i, ' '.join(topic_words)))"
   ]
  },
  {
   "cell_type": "markdown",
   "metadata": {},
   "source": [
    "## 2. Guided LDA"
   ]
  },
  {
   "cell_type": "code",
   "execution_count": 26,
   "metadata": {
    "scrolled": true
   },
   "outputs": [
    {
     "name": "stderr",
     "output_type": "stream",
     "text": [
      "INFO:guidedlda:n_documents: 111357\n",
      "INFO:guidedlda:vocab_size: 12715\n",
      "INFO:guidedlda:n_words: 538584\n",
      "INFO:guidedlda:n_topics: 12\n",
      "INFO:guidedlda:n_iter: 100\n",
      "WARNING:guidedlda:all zero row in document-term matrix found\n",
      "INFO:guidedlda:<0> log likelihood: -6547344\n",
      "INFO:guidedlda:<20> log likelihood: -4188181\n",
      "INFO:guidedlda:<40> log likelihood: -4118918\n",
      "INFO:guidedlda:<60> log likelihood: -4033522\n",
      "INFO:guidedlda:<80> log likelihood: -3981162\n",
      "INFO:guidedlda:<99> log likelihood: -3948241\n"
     ]
    },
    {
     "data": {
      "text/plain": [
       "<guidedlda.guidedlda.GuidedLDA at 0x1a2597a9b0>"
      ]
     },
     "execution_count": 26,
     "metadata": {},
     "output_type": "execute_result"
    }
   ],
   "source": [
    "# Normal LDA without seeding\n",
    "model = guidedlda.GuidedLDA(n_topics=12, n_iter=100, random_state=7, refresh=20)\n",
    "model.fit(X)"
   ]
  },
  {
   "cell_type": "code",
   "execution_count": 27,
   "metadata": {},
   "outputs": [
    {
     "name": "stdout",
     "output_type": "stream",
     "text": [
      "Topic 0: customer service great good help bad experience recommend problem year\n",
      "Topic 1: payment charge check bill close sent phone information letter mail\n",
      "Topic 2: reward back cash great recommend interest rate good month like\n",
      "Topic 3: fee payment charge month late balance interest paid bill year\n",
      "Topic 4: back cash reward love point great purchase travel like earn\n",
      "Topic 5: rate interest high great good fee like reward love low\n",
      "Topic 6: reward fee purchase like back great point cash year good\n",
      "Topic 7: payment charge month back close year cancel purchase phone wait\n",
      "Topic 8: fee payment month limit year interest balance charge score increase\n",
      "Topic 9: reward great back cash love point travel purchase like good\n",
      "Topic 10: customer service online payment app website phone problem great issue\n",
      "Topic 11: payment charge bill mail online back phone email due month\n"
     ]
    }
   ],
   "source": [
    "topic_word = model.topic_word_\n",
    "n_top_words = 10\n",
    "for i, topic_dist in enumerate(topic_word):\n",
    "    topic_words = np.array(vocab)[np.argsort(topic_dist)][:-(n_top_words+1):-1]\n",
    "    print('Topic {}: {}'.format(i, ' '.join(topic_words)))"
   ]
  },
  {
   "cell_type": "code",
   "execution_count": 28,
   "metadata": {},
   "outputs": [
    {
     "name": "stderr",
     "output_type": "stream",
     "text": [
      "INFO:guidedlda:n_documents: 111357\n",
      "INFO:guidedlda:vocab_size: 12715\n",
      "INFO:guidedlda:n_words: 538584\n",
      "INFO:guidedlda:n_topics: 10\n",
      "INFO:guidedlda:n_iter: 1000\n",
      "WARNING:guidedlda:all zero row in document-term matrix found\n",
      "INFO:guidedlda:<0> log likelihood: -6394427\n",
      "INFO:guidedlda:<20> log likelihood: -4078054\n",
      "INFO:guidedlda:<40> log likelihood: -3968008\n",
      "INFO:guidedlda:<60> log likelihood: -3912541\n",
      "INFO:guidedlda:<80> log likelihood: -3882386\n",
      "INFO:guidedlda:<100> log likelihood: -3862220\n",
      "INFO:guidedlda:<120> log likelihood: -3848003\n",
      "INFO:guidedlda:<140> log likelihood: -3840018\n",
      "INFO:guidedlda:<160> log likelihood: -3831811\n",
      "INFO:guidedlda:<180> log likelihood: -3827367\n",
      "INFO:guidedlda:<200> log likelihood: -3822107\n",
      "INFO:guidedlda:<220> log likelihood: -3818415\n",
      "INFO:guidedlda:<240> log likelihood: -3815460\n",
      "INFO:guidedlda:<260> log likelihood: -3813544\n",
      "INFO:guidedlda:<280> log likelihood: -3810635\n",
      "INFO:guidedlda:<300> log likelihood: -3809901\n",
      "INFO:guidedlda:<320> log likelihood: -3807698\n",
      "INFO:guidedlda:<340> log likelihood: -3807068\n",
      "INFO:guidedlda:<360> log likelihood: -3805959\n",
      "INFO:guidedlda:<380> log likelihood: -3803755\n",
      "INFO:guidedlda:<400> log likelihood: -3803508\n",
      "INFO:guidedlda:<420> log likelihood: -3802823\n",
      "INFO:guidedlda:<440> log likelihood: -3802652\n",
      "INFO:guidedlda:<460> log likelihood: -3800855\n",
      "INFO:guidedlda:<480> log likelihood: -3800989\n",
      "INFO:guidedlda:<500> log likelihood: -3800269\n",
      "INFO:guidedlda:<520> log likelihood: -3799562\n",
      "INFO:guidedlda:<540> log likelihood: -3799721\n",
      "INFO:guidedlda:<560> log likelihood: -3797945\n",
      "INFO:guidedlda:<580> log likelihood: -3797631\n",
      "INFO:guidedlda:<600> log likelihood: -3797135\n",
      "INFO:guidedlda:<620> log likelihood: -3797655\n",
      "INFO:guidedlda:<640> log likelihood: -3796425\n",
      "INFO:guidedlda:<660> log likelihood: -3795425\n",
      "INFO:guidedlda:<680> log likelihood: -3794537\n",
      "INFO:guidedlda:<700> log likelihood: -3795279\n",
      "INFO:guidedlda:<720> log likelihood: -3794956\n",
      "INFO:guidedlda:<740> log likelihood: -3793820\n",
      "INFO:guidedlda:<760> log likelihood: -3794241\n",
      "INFO:guidedlda:<780> log likelihood: -3793678\n",
      "INFO:guidedlda:<800> log likelihood: -3793748\n",
      "INFO:guidedlda:<820> log likelihood: -3794458\n",
      "INFO:guidedlda:<840> log likelihood: -3793003\n",
      "INFO:guidedlda:<860> log likelihood: -3794255\n",
      "INFO:guidedlda:<880> log likelihood: -3793141\n",
      "INFO:guidedlda:<900> log likelihood: -3792718\n",
      "INFO:guidedlda:<920> log likelihood: -3793211\n",
      "INFO:guidedlda:<940> log likelihood: -3792778\n",
      "INFO:guidedlda:<960> log likelihood: -3792827\n",
      "INFO:guidedlda:<980> log likelihood: -3792633\n",
      "INFO:guidedlda:<999> log likelihood: -3793060\n"
     ]
    },
    {
     "data": {
      "text/plain": [
       "<guidedlda.guidedlda.GuidedLDA at 0x1a259906d8>"
      ]
     },
     "execution_count": 28,
     "metadata": {},
     "output_type": "execute_result"
    }
   ],
   "source": [
    "# Guided LDA with seed topics.\n",
    "seed_topic_list = [['online', 'app','website','apply', 'approve', 'online', 'offer', 'application'],\n",
    "                    ['customer','service','good', 'great', 'helpful', 'love', 'help', 'excellent'],\n",
    "                   [ 'payment', 'fee', 'charge', 'late', 'month', 'due', 'score'],\n",
    "                    ['close', 'cancel',  'closure', 'charge'],\n",
    "                    ['high', 'interest', 'rate',  'apr', 'annual', 'fee', 'yearly', 'limit'],\n",
    "                    ['recommend','good', 'love','like', 'great'],\n",
    "                    ['fraud', 'fraudulent','scam', 'terrible'],\n",
    "                    ['reward', 'point','cash', 'back', 'purchase','good', 'love'], \n",
    "                    ['mile', 'travel', 'point', 'airline', 'good', 'love'],\n",
    "                    ['build', 'rebuild', 'limit']]\n",
    "                    \n",
    "model = guidedlda.GuidedLDA(n_topics=10, n_iter=1000, random_state=7, refresh=20)\n",
    "\n",
    "seed_topics = {}\n",
    "for t_id, st in enumerate(seed_topic_list):\n",
    "    for word in st:\n",
    "        seed_topics[word2id[word]] = t_id\n",
    "        \n",
    "model.fit(X, seed_topics=seed_topics, seed_confidence=0.15)"
   ]
  },
  {
   "cell_type": "code",
   "execution_count": 32,
   "metadata": {},
   "outputs": [
    {
     "data": {
      "text/plain": [
       "['trained_lda.pkl']"
      ]
     },
     "execution_count": 32,
     "metadata": {},
     "output_type": "execute_result"
    }
   ],
   "source": [
    "# joblib.dump(model, 'trained_lda.pkl')"
   ]
  },
  {
   "cell_type": "code",
   "execution_count": 95,
   "metadata": {},
   "outputs": [],
   "source": [
    "# trained_model = joblib.load('trained_lda.pkl')"
   ]
  },
  {
   "cell_type": "code",
   "execution_count": 31,
   "metadata": {
    "scrolled": true
   },
   "outputs": [
    {
     "name": "stdout",
     "output_type": "stream",
     "text": [
      "Topic 0: payment online app website purchase bill check like statement love charge email balance phone\n",
      "Topic 1: service customer great good love helpful problem issue excellent experience friendly bad app help\n",
      "Topic 2: payment fee charge month late balance paid due bill interest close full statement date\n",
      "Topic 3: customer service like bad understand cancel speak help talk someone person problem phone close\n",
      "Topic 4: interest fee rate high annual balance low month great apr year offer transfer reward\n",
      "Topic 5: recommend great good love anyone reward highly help definitely like experience best first build\n",
      "Topic 6: back charge phone address mail sent letter customer service issue payment cancel state close\n",
      "Topic 7: back cash reward purchase love point great like earn gas month bonus offer every\n",
      "Topic 8: travel point reward love great purchase like fee mile lot good earn transaction accepted\n",
      "Topic 9: limit year score increase month payment help good apply first approve start since ago\n"
     ]
    }
   ],
   "source": [
    "n_top_words =14\n",
    "topic_word = model.topic_word_\n",
    "for i, topic_dist in enumerate(topic_word):\n",
    "    topic_words = np.array(vocab)[np.argsort(topic_dist)][:-(n_top_words+1):-1]\n",
    "    print('Topic {}: {}'.format(i, ' '.join(topic_words)))"
   ]
  },
  {
   "cell_type": "markdown",
   "metadata": {},
   "source": [
    "## Document-topic distributions"
   ]
  },
  {
   "cell_type": "code",
   "execution_count": 33,
   "metadata": {},
   "outputs": [],
   "source": [
    "trained_model = joblib.load('trained_lda.pkl') # load trained model"
   ]
  },
  {
   "cell_type": "code",
   "execution_count": 34,
   "metadata": {},
   "outputs": [],
   "source": [
    "# List of keywords\n",
    "word_list = [', '.join(np.array(vocab)[list(reversed(X[i,:].argsort()))[0:10]]) for i in range(len(X))]"
   ]
  },
  {
   "cell_type": "code",
   "execution_count": 35,
   "metadata": {},
   "outputs": [
    {
     "name": "stderr",
     "output_type": "stream",
     "text": [
      "WARNING:guidedlda:all zero row in document-term matrix found\n"
     ]
    }
   ],
   "source": [
    "# Extract the topic vector\n",
    "doc_topic = trained_model.transform(X)\n",
    "# num_topic = [doc_topic[i].argmax() for i in range(len(X))] #  extract maximum topic number"
   ]
  },
  {
   "cell_type": "code",
   "execution_count": 36,
   "metadata": {},
   "outputs": [
    {
     "data": {
      "text/html": [
       "<div>\n",
       "<style scoped>\n",
       "    .dataframe tbody tr th:only-of-type {\n",
       "        vertical-align: middle;\n",
       "    }\n",
       "\n",
       "    .dataframe tbody tr th {\n",
       "        vertical-align: top;\n",
       "    }\n",
       "\n",
       "    .dataframe thead th {\n",
       "        text-align: right;\n",
       "    }\n",
       "</style>\n",
       "<table border=\"1\" class=\"dataframe\">\n",
       "  <thead>\n",
       "    <tr style=\"text-align: right;\">\n",
       "      <th></th>\n",
       "      <th>topic 0</th>\n",
       "      <th>topic 1</th>\n",
       "      <th>topic 2</th>\n",
       "      <th>topic 3</th>\n",
       "      <th>topic 4</th>\n",
       "      <th>topic 5</th>\n",
       "      <th>topic 6</th>\n",
       "      <th>topic 7</th>\n",
       "      <th>topic 8</th>\n",
       "      <th>topic 9</th>\n",
       "    </tr>\n",
       "  </thead>\n",
       "  <tbody>\n",
       "    <tr>\n",
       "      <td>0</td>\n",
       "      <td>0.0</td>\n",
       "      <td>0.00</td>\n",
       "      <td>0.69</td>\n",
       "      <td>0.00</td>\n",
       "      <td>0.3</td>\n",
       "      <td>0.0</td>\n",
       "      <td>0.00</td>\n",
       "      <td>0.00</td>\n",
       "      <td>0.00</td>\n",
       "      <td>0.00</td>\n",
       "    </tr>\n",
       "    <tr>\n",
       "      <td>1</td>\n",
       "      <td>0.0</td>\n",
       "      <td>0.01</td>\n",
       "      <td>0.00</td>\n",
       "      <td>0.00</td>\n",
       "      <td>0.0</td>\n",
       "      <td>0.0</td>\n",
       "      <td>0.00</td>\n",
       "      <td>0.96</td>\n",
       "      <td>0.02</td>\n",
       "      <td>0.00</td>\n",
       "    </tr>\n",
       "    <tr>\n",
       "      <td>2</td>\n",
       "      <td>0.0</td>\n",
       "      <td>0.12</td>\n",
       "      <td>0.00</td>\n",
       "      <td>0.05</td>\n",
       "      <td>0.0</td>\n",
       "      <td>0.0</td>\n",
       "      <td>0.43</td>\n",
       "      <td>0.00</td>\n",
       "      <td>0.00</td>\n",
       "      <td>0.39</td>\n",
       "    </tr>\n",
       "    <tr>\n",
       "      <td>3</td>\n",
       "      <td>0.0</td>\n",
       "      <td>0.00</td>\n",
       "      <td>0.37</td>\n",
       "      <td>0.00</td>\n",
       "      <td>0.0</td>\n",
       "      <td>0.0</td>\n",
       "      <td>0.00</td>\n",
       "      <td>0.00</td>\n",
       "      <td>0.00</td>\n",
       "      <td>0.62</td>\n",
       "    </tr>\n",
       "    <tr>\n",
       "      <td>4</td>\n",
       "      <td>0.0</td>\n",
       "      <td>0.00</td>\n",
       "      <td>0.53</td>\n",
       "      <td>0.00</td>\n",
       "      <td>0.0</td>\n",
       "      <td>0.0</td>\n",
       "      <td>0.46</td>\n",
       "      <td>0.00</td>\n",
       "      <td>0.00</td>\n",
       "      <td>0.00</td>\n",
       "    </tr>\n",
       "  </tbody>\n",
       "</table>\n",
       "</div>"
      ],
      "text/plain": [
       "   topic 0  \\\n",
       "0      0.0   \n",
       "1      0.0   \n",
       "2      0.0   \n",
       "3      0.0   \n",
       "4      0.0   \n",
       "\n",
       "   topic 1  \\\n",
       "0     0.00   \n",
       "1     0.01   \n",
       "2     0.12   \n",
       "3     0.00   \n",
       "4     0.00   \n",
       "\n",
       "   topic 2  \\\n",
       "0     0.69   \n",
       "1     0.00   \n",
       "2     0.00   \n",
       "3     0.37   \n",
       "4     0.53   \n",
       "\n",
       "   topic 3  \\\n",
       "0     0.00   \n",
       "1     0.00   \n",
       "2     0.05   \n",
       "3     0.00   \n",
       "4     0.00   \n",
       "\n",
       "   topic 4  \\\n",
       "0      0.3   \n",
       "1      0.0   \n",
       "2      0.0   \n",
       "3      0.0   \n",
       "4      0.0   \n",
       "\n",
       "   topic 5  \\\n",
       "0      0.0   \n",
       "1      0.0   \n",
       "2      0.0   \n",
       "3      0.0   \n",
       "4      0.0   \n",
       "\n",
       "   topic 6  \\\n",
       "0     0.00   \n",
       "1     0.00   \n",
       "2     0.43   \n",
       "3     0.00   \n",
       "4     0.46   \n",
       "\n",
       "   topic 7  \\\n",
       "0     0.00   \n",
       "1     0.96   \n",
       "2     0.00   \n",
       "3     0.00   \n",
       "4     0.00   \n",
       "\n",
       "   topic 8  \\\n",
       "0     0.00   \n",
       "1     0.02   \n",
       "2     0.00   \n",
       "3     0.00   \n",
       "4     0.00   \n",
       "\n",
       "   topic 9  \n",
       "0     0.00  \n",
       "1     0.00  \n",
       "2     0.39  \n",
       "3     0.62  \n",
       "4     0.00  "
      ]
     },
     "execution_count": 36,
     "metadata": {},
     "output_type": "execute_result"
    }
   ],
   "source": [
    "columns10 = ['topic {}'.format(i) for i in range(10)]\n",
    "topic_vector = pd.DataFrame(doc_topic, columns = columns10)\n",
    "topic_vector.round(2).head()"
   ]
  },
  {
   "cell_type": "code",
   "execution_count": 37,
   "metadata": {},
   "outputs": [],
   "source": [
    "# Assign topic if it is more than 70% dominant\n",
    "num_topic = topic_threshold(doc_topic, topic_vector, threshold =0.7)"
   ]
  },
  {
   "cell_type": "code",
   "execution_count": 45,
   "metadata": {},
   "outputs": [],
   "source": [
    "# Topic, keywords, sentence dataframe\n",
    "df_doc_topic = pd.DataFrame({'topics': num_topic, 'keywords': word_list})\n",
    "df_doc_topic['sentences'] = df_sentence['sentence']\n",
    "df_doc_topic['creditcards'] = df_sentence['company']\n",
    "df_doc_topic['sentiments'] = df_sentence['sentiment']"
   ]
  },
  {
   "cell_type": "code",
   "execution_count": 46,
   "metadata": {},
   "outputs": [],
   "source": [
    "# Mean sentiment for each credit card\n",
    "# df_doc_topic['mean_sentiments'] = df_doc_topic['creditcards']\n",
    "# df_doc_topic['mean_sentiments'] = df_doc_topic['mean_sentiments'].map(dict(round(mean_senti,2)))"
   ]
  },
  {
   "cell_type": "code",
   "execution_count": 47,
   "metadata": {},
   "outputs": [
    {
     "data": {
      "text/html": [
       "<div>\n",
       "<style scoped>\n",
       "    .dataframe tbody tr th:only-of-type {\n",
       "        vertical-align: middle;\n",
       "    }\n",
       "\n",
       "    .dataframe tbody tr th {\n",
       "        vertical-align: top;\n",
       "    }\n",
       "\n",
       "    .dataframe thead th {\n",
       "        text-align: right;\n",
       "    }\n",
       "</style>\n",
       "<table border=\"1\" class=\"dataframe\">\n",
       "  <thead>\n",
       "    <tr style=\"text-align: right;\">\n",
       "      <th></th>\n",
       "      <th>topics</th>\n",
       "      <th>keywords</th>\n",
       "      <th>sentences</th>\n",
       "      <th>creditcards</th>\n",
       "      <th>sentiments</th>\n",
       "    </tr>\n",
       "  </thead>\n",
       "  <tbody>\n",
       "    <tr>\n",
       "      <td>0</td>\n",
       "      <td>7</td>\n",
       "      <td>easily, walmart, excellent, purchase, reward, ...</td>\n",
       "      <td>Excellent rewards and redeem easily when makin...</td>\n",
       "      <td>Walmart MASTERCARD</td>\n",
       "      <td>0.8481</td>\n",
       "    </tr>\n",
       "    <tr>\n",
       "      <td>1</td>\n",
       "      <td>5</td>\n",
       "      <td>maintain, wise, several, great, relationship, ...</td>\n",
       "      <td>I have several credit cards and maintain a gre...</td>\n",
       "      <td>Walmart MASTERCARD</td>\n",
       "      <td>0.7717</td>\n",
       "    </tr>\n",
       "    <tr>\n",
       "      <td>2</td>\n",
       "      <td>5</td>\n",
       "      <td>start, building, great, œentry, extranjera, ex...</td>\n",
       "      <td>They are also a great start to building your c...</td>\n",
       "      <td>Walmart MASTERCARD</td>\n",
       "      <td>0.7717</td>\n",
       "    </tr>\n",
       "    <tr>\n",
       "      <td>3</td>\n",
       "      <td>5</td>\n",
       "      <td>start, first, positive, reward, walmart, exten...</td>\n",
       "      <td>First I'll start with the positives about Walm...</td>\n",
       "      <td>Walmart MASTERCARD</td>\n",
       "      <td>0.7579</td>\n",
       "    </tr>\n",
       "    <tr>\n",
       "      <td>4</td>\n",
       "      <td>9</td>\n",
       "      <td>pre, approve, limit, loyal, start, letter, sin...</td>\n",
       "      <td>I have had this card since 2014... started wit...</td>\n",
       "      <td>Walmart MASTERCARD</td>\n",
       "      <td>0.7269</td>\n",
       "    </tr>\n",
       "  </tbody>\n",
       "</table>\n",
       "</div>"
      ],
      "text/plain": [
       "  topics  \\\n",
       "0      7   \n",
       "1      5   \n",
       "2      5   \n",
       "3      5   \n",
       "4      9   \n",
       "\n",
       "                                            keywords  \\\n",
       "0  easily, walmart, excellent, purchase, reward, ...   \n",
       "1  maintain, wise, several, great, relationship, ...   \n",
       "2  start, building, great, œentry, extranjera, ex...   \n",
       "3  start, first, positive, reward, walmart, exten...   \n",
       "4  pre, approve, limit, loyal, start, letter, sin...   \n",
       "\n",
       "                                           sentences  \\\n",
       "0  Excellent rewards and redeem easily when makin...   \n",
       "1  I have several credit cards and maintain a gre...   \n",
       "2  They are also a great start to building your c...   \n",
       "3  First I'll start with the positives about Walm...   \n",
       "4  I have had this card since 2014... started wit...   \n",
       "\n",
       "          creditcards  \\\n",
       "0  Walmart MASTERCARD   \n",
       "1  Walmart MASTERCARD   \n",
       "2  Walmart MASTERCARD   \n",
       "3  Walmart MASTERCARD   \n",
       "4  Walmart MASTERCARD   \n",
       "\n",
       "   sentiments  \n",
       "0      0.8481  \n",
       "1      0.7717  \n",
       "2      0.7717  \n",
       "3      0.7579  \n",
       "4      0.7269  "
      ]
     },
     "execution_count": 47,
     "metadata": {},
     "output_type": "execute_result"
    }
   ],
   "source": [
    "# Drop sentence with no topic\n",
    "df = df_doc_topic[df_doc_topic['topics'] != 'None'].reset_index(drop = True)\n",
    "df.head()"
   ]
  },
  {
   "cell_type": "code",
   "execution_count": 48,
   "metadata": {},
   "outputs": [
    {
     "data": {
      "text/plain": [
       "(69982, 5)"
      ]
     },
     "execution_count": 48,
     "metadata": {},
     "output_type": "execute_result"
    }
   ],
   "source": [
    "df.shape"
   ]
  },
  {
   "cell_type": "code",
   "execution_count": 49,
   "metadata": {},
   "outputs": [],
   "source": [
    "topic_dict ={0: 'Online Experience',\n",
    "             1: 'Customer Service',\n",
    "             2: 'Bill Disputes',\n",
    "             3: 'Customer Service',\n",
    "             4: 'Interest Rate',\n",
    "             5: 'User Recommendation',\n",
    "             6: 'Fraud Issues',\n",
    "             7: 'Cash Back and Rewards',\n",
    "             8: 'Travel Rewards',\n",
    "             9: 'Build or Rebuild Credit'}"
   ]
  },
  {
   "cell_type": "code",
   "execution_count": 50,
   "metadata": {},
   "outputs": [],
   "source": [
    "df.topics = df.topics.map(topic_dict)"
   ]
  },
  {
   "cell_type": "code",
   "execution_count": 51,
   "metadata": {},
   "outputs": [],
   "source": [
    "df.to_csv('../data/creditcard_topics.csv', index = False)"
   ]
  },
  {
   "cell_type": "code",
   "execution_count": 52,
   "metadata": {
    "scrolled": true
   },
   "outputs": [
    {
     "data": {
      "text/html": [
       "<div>\n",
       "<style scoped>\n",
       "    .dataframe tbody tr th:only-of-type {\n",
       "        vertical-align: middle;\n",
       "    }\n",
       "\n",
       "    .dataframe tbody tr th {\n",
       "        vertical-align: top;\n",
       "    }\n",
       "\n",
       "    .dataframe thead th {\n",
       "        text-align: right;\n",
       "    }\n",
       "</style>\n",
       "<table border=\"1\" class=\"dataframe\">\n",
       "  <thead>\n",
       "    <tr style=\"text-align: right;\">\n",
       "      <th></th>\n",
       "      <th>topics</th>\n",
       "      <th>keywords</th>\n",
       "      <th>sentences</th>\n",
       "      <th>creditcards</th>\n",
       "      <th>sentiments</th>\n",
       "    </tr>\n",
       "  </thead>\n",
       "  <tbody>\n",
       "    <tr>\n",
       "      <td>0</td>\n",
       "      <td>Cash Back and Rewards</td>\n",
       "      <td>easily, walmart, excellent, purchase, reward, ...</td>\n",
       "      <td>Excellent rewards and redeem easily when makin...</td>\n",
       "      <td>Walmart MASTERCARD</td>\n",
       "      <td>0.8481</td>\n",
       "    </tr>\n",
       "    <tr>\n",
       "      <td>1</td>\n",
       "      <td>User Recommendation</td>\n",
       "      <td>maintain, wise, several, great, relationship, ...</td>\n",
       "      <td>I have several credit cards and maintain a gre...</td>\n",
       "      <td>Walmart MASTERCARD</td>\n",
       "      <td>0.7717</td>\n",
       "    </tr>\n",
       "    <tr>\n",
       "      <td>2</td>\n",
       "      <td>User Recommendation</td>\n",
       "      <td>start, building, great, œentry, extranjera, ex...</td>\n",
       "      <td>They are also a great start to building your c...</td>\n",
       "      <td>Walmart MASTERCARD</td>\n",
       "      <td>0.7717</td>\n",
       "    </tr>\n",
       "    <tr>\n",
       "      <td>3</td>\n",
       "      <td>User Recommendation</td>\n",
       "      <td>start, first, positive, reward, walmart, exten...</td>\n",
       "      <td>First I'll start with the positives about Walm...</td>\n",
       "      <td>Walmart MASTERCARD</td>\n",
       "      <td>0.7579</td>\n",
       "    </tr>\n",
       "    <tr>\n",
       "      <td>4</td>\n",
       "      <td>Build or Rebuild Credit</td>\n",
       "      <td>pre, approve, limit, loyal, start, letter, sin...</td>\n",
       "      <td>I have had this card since 2014... started wit...</td>\n",
       "      <td>Walmart MASTERCARD</td>\n",
       "      <td>0.7269</td>\n",
       "    </tr>\n",
       "  </tbody>\n",
       "</table>\n",
       "</div>"
      ],
      "text/plain": [
       "                    topics  \\\n",
       "0    Cash Back and Rewards   \n",
       "1      User Recommendation   \n",
       "2      User Recommendation   \n",
       "3      User Recommendation   \n",
       "4  Build or Rebuild Credit   \n",
       "\n",
       "                                            keywords  \\\n",
       "0  easily, walmart, excellent, purchase, reward, ...   \n",
       "1  maintain, wise, several, great, relationship, ...   \n",
       "2  start, building, great, œentry, extranjera, ex...   \n",
       "3  start, first, positive, reward, walmart, exten...   \n",
       "4  pre, approve, limit, loyal, start, letter, sin...   \n",
       "\n",
       "                                           sentences  \\\n",
       "0  Excellent rewards and redeem easily when makin...   \n",
       "1  I have several credit cards and maintain a gre...   \n",
       "2  They are also a great start to building your c...   \n",
       "3  First I'll start with the positives about Walm...   \n",
       "4  I have had this card since 2014... started wit...   \n",
       "\n",
       "          creditcards  \\\n",
       "0  Walmart MASTERCARD   \n",
       "1  Walmart MASTERCARD   \n",
       "2  Walmart MASTERCARD   \n",
       "3  Walmart MASTERCARD   \n",
       "4  Walmart MASTERCARD   \n",
       "\n",
       "   sentiments  \n",
       "0      0.8481  \n",
       "1      0.7717  \n",
       "2      0.7717  \n",
       "3      0.7579  \n",
       "4      0.7269  "
      ]
     },
     "execution_count": 52,
     "metadata": {},
     "output_type": "execute_result"
    }
   ],
   "source": [
    "df.head()"
   ]
  },
  {
   "cell_type": "code",
   "execution_count": 53,
   "metadata": {},
   "outputs": [],
   "source": [
    "def credit_card(data):\n",
    "    \"\"\"Returns topics, topic_sentiments, and credit cards\"\"\"\n",
    "    topic_list = data.topics.unique()\n",
    "    card_lists = []\n",
    "    topic_sentiment = []\n",
    "    topics = []\n",
    "    for i in range(len(topic_list)):\n",
    "        specific = df[df.topics ==topic_list[i]][['topics','creditcards','sentiments']].reset_index(drop=True)\n",
    "        group_table = specific.groupby('creditcards')['sentiments'].mean().sort_values(ascending = False)\n",
    "        card_lists.append(list(group_table.index))\n",
    "        topic_sentiment.append(group_table.values.round(2))\n",
    "        for j in range(len(group_table)):\n",
    "            topics.append(topic_list[i])\n",
    "            \n",
    "    # Convert the list of lists to list\n",
    "    card_list = [card for sub_card in card_lists for card in sub_card]\n",
    "    topic_sen = [sen for sub_sen in topic_sentiment for sen in sub_sen]\n",
    "    \n",
    "    return topics, card_list, topic_sen"
   ]
  },
  {
   "cell_type": "code",
   "execution_count": 54,
   "metadata": {},
   "outputs": [
    {
     "data": {
      "text/html": [
       "<div>\n",
       "<style scoped>\n",
       "    .dataframe tbody tr th:only-of-type {\n",
       "        vertical-align: middle;\n",
       "    }\n",
       "\n",
       "    .dataframe tbody tr th {\n",
       "        vertical-align: top;\n",
       "    }\n",
       "\n",
       "    .dataframe thead th {\n",
       "        text-align: right;\n",
       "    }\n",
       "</style>\n",
       "<table border=\"1\" class=\"dataframe\">\n",
       "  <thead>\n",
       "    <tr style=\"text-align: right;\">\n",
       "      <th></th>\n",
       "      <th>topics</th>\n",
       "      <th>credit_card</th>\n",
       "      <th>topic_sentiment</th>\n",
       "    </tr>\n",
       "  </thead>\n",
       "  <tbody>\n",
       "    <tr>\n",
       "      <td>0</td>\n",
       "      <td>Build or Rebuild Credit</td>\n",
       "      <td>Capital One Secured Credit Card</td>\n",
       "      <td>0.43</td>\n",
       "    </tr>\n",
       "    <tr>\n",
       "      <td>1</td>\n",
       "      <td>Bill Disputes</td>\n",
       "      <td>Aspire Visa</td>\n",
       "      <td>-0.11</td>\n",
       "    </tr>\n",
       "    <tr>\n",
       "      <td>2</td>\n",
       "      <td>Bill Disputes</td>\n",
       "      <td>Walmart MASTERCARD</td>\n",
       "      <td>-0.06</td>\n",
       "    </tr>\n",
       "    <tr>\n",
       "      <td>3</td>\n",
       "      <td>User Recommendation</td>\n",
       "      <td>Citi Diamond Preferred Card</td>\n",
       "      <td>0.48</td>\n",
       "    </tr>\n",
       "    <tr>\n",
       "      <td>4</td>\n",
       "      <td>Cash Back and Rewards</td>\n",
       "      <td>Capital One Venture Rewards</td>\n",
       "      <td>0.56</td>\n",
       "    </tr>\n",
       "  </tbody>\n",
       "</table>\n",
       "</div>"
      ],
      "text/plain": [
       "                    topics  \\\n",
       "0  Build or Rebuild Credit   \n",
       "1            Bill Disputes   \n",
       "2            Bill Disputes   \n",
       "3      User Recommendation   \n",
       "4    Cash Back and Rewards   \n",
       "\n",
       "                       credit_card  \\\n",
       "0  Capital One Secured Credit Card   \n",
       "1                      Aspire Visa   \n",
       "2               Walmart MASTERCARD   \n",
       "3      Citi Diamond Preferred Card   \n",
       "4      Capital One Venture Rewards   \n",
       "\n",
       "   topic_sentiment  \n",
       "0             0.43  \n",
       "1            -0.11  \n",
       "2            -0.06  \n",
       "3             0.48  \n",
       "4             0.56  "
      ]
     },
     "execution_count": 54,
     "metadata": {},
     "output_type": "execute_result"
    }
   ],
   "source": [
    "# Put the result in a dataframe\n",
    "topics, card_list, topic_sentiment = credit_card(df)\n",
    "card_data = pd.DataFrame({'topics': topics, 'credit_card': card_list, 'topic_sentiment':topic_sentiment})\n",
    "card_data = card_data.sample(frac=1).reset_index(drop= True)\n",
    "card_data.head()"
   ]
  },
  {
   "cell_type": "code",
   "execution_count": 55,
   "metadata": {},
   "outputs": [
    {
     "data": {
      "text/plain": [
       "(354, 3)"
      ]
     },
     "execution_count": 55,
     "metadata": {},
     "output_type": "execute_result"
    }
   ],
   "source": [
    "card_data.shape"
   ]
  },
  {
   "cell_type": "code",
   "execution_count": 930,
   "metadata": {},
   "outputs": [],
   "source": [
    "import sqlite3\n",
    "import os"
   ]
  },
  {
   "cell_type": "code",
   "execution_count": 971,
   "metadata": {},
   "outputs": [],
   "source": [
    "# Put the data in a database\n",
    "if os.path.exists('../data/creditcard1.db'):\n",
    "    os.remove('../data/creditcard1.db')\n",
    "\n",
    "conn = sqlite3.connect('../data/creditcard1.db')\n",
    "c = conn.cursor()\n",
    "card_data.to_sql('creditcard', con=conn, index = False, dtype = {'topics': 'TEXT', \n",
    "                                                         'credit_card': 'TEXT','topic_sentiment': 'REAL'})\n",
    "conn.commit()"
   ]
  },
  {
   "cell_type": "code",
   "execution_count": 972,
   "metadata": {},
   "outputs": [
    {
     "data": {
      "text/plain": [
       "[('Discover it Secured', 0.62)]"
      ]
     },
     "execution_count": 972,
     "metadata": {},
     "output_type": "execute_result"
    }
   ],
   "source": [
    "# Query the database\n",
    "data = c.execute(\"SELECT credit_card, MAX(topic_sentiment)\\\n",
    "                    FROM creditcard \\\n",
    "                    WHERE topics = 'Build or Rebuild Credit'; \").fetchall()\n",
    "data"
   ]
  }
 ],
 "metadata": {
  "kernelspec": {
   "display_name": "Python 3",
   "language": "python",
   "name": "python3"
  },
  "language_info": {
   "codemirror_mode": {
    "name": "ipython",
    "version": 3
   },
   "file_extension": ".py",
   "mimetype": "text/x-python",
   "name": "python",
   "nbconvert_exporter": "python",
   "pygments_lexer": "ipython3",
   "version": "3.7.3"
  }
 },
 "nbformat": 4,
 "nbformat_minor": 2
}
