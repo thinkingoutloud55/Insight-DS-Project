{
 "cells": [
  {
   "cell_type": "markdown",
   "metadata": {},
   "source": [
    "# Guided-LDA Topic Modeling \n",
    "\n",
    "This notebook implements topic modeling using [guided or seeded LDA](https://github.com/vi3k6i5/GuidedLDA)"
   ]
  },
  {
   "cell_type": "markdown",
   "metadata": {},
   "source": [
    "## Imports"
   ]
  },
  {
   "cell_type": "code",
   "execution_count": 1,
   "metadata": {},
   "outputs": [],
   "source": [
    "%matplotlib inline\n",
    "import pandas as pd\n",
    "import numpy as np\n",
    "import re\n",
    "import pickle\n",
    "import joblib\n",
    "import matplotlib.pyplot as plt\n",
    "import seaborn as sns\n",
    "import nltk\n",
    "from nltk.tokenize import sent_tokenize\n",
    "pd.set_option('display.width',-1)"
   ]
  },
  {
   "cell_type": "code",
   "execution_count": 62,
   "metadata": {
    "scrolled": true
   },
   "outputs": [
    {
     "data": {
      "text/html": [
       "<div>\n",
       "<style scoped>\n",
       "    .dataframe tbody tr th:only-of-type {\n",
       "        vertical-align: middle;\n",
       "    }\n",
       "\n",
       "    .dataframe tbody tr th {\n",
       "        vertical-align: top;\n",
       "    }\n",
       "\n",
       "    .dataframe thead th {\n",
       "        text-align: right;\n",
       "    }\n",
       "</style>\n",
       "<table border=\"1\" class=\"dataframe\">\n",
       "  <thead>\n",
       "    <tr style=\"text-align: right;\">\n",
       "      <th></th>\n",
       "      <th>reviews</th>\n",
       "      <th>rating</th>\n",
       "      <th>company</th>\n",
       "    </tr>\n",
       "  </thead>\n",
       "  <tbody>\n",
       "    <tr>\n",
       "      <td>0</td>\n",
       "      <td>Great card! We get cash back for our grocery a...</td>\n",
       "      <td>4.0</td>\n",
       "      <td>American Express Blue Cash Preferred</td>\n",
       "    </tr>\n",
       "    <tr>\n",
       "      <td>1</td>\n",
       "      <td>While traveling we had to keep calling the Cre...</td>\n",
       "      <td>1.0</td>\n",
       "      <td>Credit One Bank</td>\n",
       "    </tr>\n",
       "    <tr>\n",
       "      <td>2</td>\n",
       "      <td>Great card to have! Love all the additional cr...</td>\n",
       "      <td>5.0</td>\n",
       "      <td>Capital One Quicksilver Rewards</td>\n",
       "    </tr>\n",
       "    <tr>\n",
       "      <td>3</td>\n",
       "      <td>no tengo tanta experiencia asi que no puedo da...</td>\n",
       "      <td>2.0</td>\n",
       "      <td>Citi Double Cash Card</td>\n",
       "    </tr>\n",
       "    <tr>\n",
       "      <td>4</td>\n",
       "      <td>This is a basic credit card. The cash back dea...</td>\n",
       "      <td>4.0</td>\n",
       "      <td>Bank of America Cash Rewards Credit Card</td>\n",
       "    </tr>\n",
       "  </tbody>\n",
       "</table>\n",
       "</div>"
      ],
      "text/plain": [
       "                                             reviews  \\\n",
       "0  Great card! We get cash back for our grocery a...   \n",
       "1  While traveling we had to keep calling the Cre...   \n",
       "2  Great card to have! Love all the additional cr...   \n",
       "3  no tengo tanta experiencia asi que no puedo da...   \n",
       "4  This is a basic credit card. The cash back dea...   \n",
       "\n",
       "   rating  \\\n",
       "0     4.0   \n",
       "1     1.0   \n",
       "2     5.0   \n",
       "3     2.0   \n",
       "4     4.0   \n",
       "\n",
       "                                    company  \n",
       "0     American Express Blue Cash Preferred   \n",
       "1                           Credit One Bank  \n",
       "2           Capital One Quicksilver Rewards  \n",
       "3                     Citi Double Cash Card  \n",
       "4  Bank of America Cash Rewards Credit Card  "
      ]
     },
     "execution_count": 62,
     "metadata": {},
     "output_type": "execute_result"
    }
   ],
   "source": [
    "# load data\n",
    "df = pd.read_csv('../data/all_data.csv')\n",
    "df.head()"
   ]
  },
  {
   "cell_type": "code",
   "execution_count": 63,
   "metadata": {},
   "outputs": [
    {
     "data": {
      "text/plain": [
       "(25708, 3)"
      ]
     },
     "execution_count": 63,
     "metadata": {},
     "output_type": "execute_result"
    }
   ],
   "source": [
    "df.shape"
   ]
  },
  {
   "cell_type": "markdown",
   "metadata": {},
   "source": [
    "## Reviews  to sentences"
   ]
  },
  {
   "cell_type": "code",
   "execution_count": 64,
   "metadata": {},
   "outputs": [],
   "source": [
    "def sentence(data, review, company):\n",
    "    \"\"\"Converts reviews to sentences and keeps track of company name for each sentence\"\"\"\n",
    "    sentence_tokens = [[sentence for sentence in sent_tokenize(data[review].loc[i])] for i in range(len(data))]\n",
    "    count_sentences = [len(x) for x in sentence_tokens] \n",
    "    sentences = [sentence for sub_sentence in sentence_tokens for sentence in sub_sentence]\n",
    "    count_company = [[x] for x in data[company]]\n",
    "    company_token = []\n",
    "    for idx, val in enumerate(count_sentences):\n",
    "        company_token.append(count_company[idx]*val)\n",
    "    company_names = [name for names in company_token for name in names]\n",
    "    return sentences, company_names"
   ]
  },
  {
   "cell_type": "code",
   "execution_count": 65,
   "metadata": {},
   "outputs": [],
   "source": [
    "# Convert to dataframe\n",
    "result = sentence(df, 'reviews', 'company')\n",
    "df_rev_sen = pd.DataFrame({'sentence': result[0], 'company': result[1]}) "
   ]
  },
  {
   "cell_type": "code",
   "execution_count": 66,
   "metadata": {},
   "outputs": [
    {
     "data": {
      "text/plain": [
       "(111357, 2)"
      ]
     },
     "execution_count": 66,
     "metadata": {},
     "output_type": "execute_result"
    }
   ],
   "source": [
    "df_rev_sen.shape"
   ]
  },
  {
   "cell_type": "markdown",
   "metadata": {},
   "source": [
    "## Vader Sentiment Analysis"
   ]
  },
  {
   "cell_type": "code",
   "execution_count": 67,
   "metadata": {},
   "outputs": [],
   "source": [
    "from vaderSentiment.vaderSentiment import SentimentIntensityAnalyzer "
   ]
  },
  {
   "cell_type": "code",
   "execution_count": 68,
   "metadata": {},
   "outputs": [],
   "source": [
    "def score(sentence):\n",
    "    \"\"\"Returns the compound polarity (sentiment) score of each senetence\"\"\"\n",
    "    sia = SentimentIntensityAnalyzer()\n",
    "    score = sia.polarity_scores(sentence)\n",
    "    return score['compound']"
   ]
  },
  {
   "cell_type": "code",
   "execution_count": 69,
   "metadata": {},
   "outputs": [],
   "source": [
    "# Sentiment of each sentence\n",
    "df_rev_sen['sentiment'] = df_rev_sen.sentence.apply(score)"
   ]
  },
  {
   "cell_type": "code",
   "execution_count": 70,
   "metadata": {},
   "outputs": [],
   "source": [
    "# Remove all the neutral sentiments with score of zero\n",
    "df_sentence = df_rev_sen[df_rev_sen.sentiment !=0].reset_index(drop=True)"
   ]
  },
  {
   "cell_type": "code",
   "execution_count": 71,
   "metadata": {},
   "outputs": [],
   "source": [
    "# Positive sentiments with s acore greater than 0.4 maps to 1 and 0 otherwise\n",
    "df_sentence['positivity'] = np.where(df_sentence['sentiment'] > 0.4, 1, 0)"
   ]
  },
  {
   "cell_type": "code",
   "execution_count": 72,
   "metadata": {},
   "outputs": [],
   "source": [
    "# Sort and save to csv file\n",
    "df_sentence = df_sentence.sort_values(['company','sentiment'], ascending = False).reset_index(drop=True)\n",
    "df_sentence.to_csv('../data/sentence.csv', index = False) "
   ]
  },
  {
   "cell_type": "code",
   "execution_count": 2,
   "metadata": {},
   "outputs": [
    {
     "data": {
      "text/html": [
       "<div>\n",
       "<style scoped>\n",
       "    .dataframe tbody tr th:only-of-type {\n",
       "        vertical-align: middle;\n",
       "    }\n",
       "\n",
       "    .dataframe tbody tr th {\n",
       "        vertical-align: top;\n",
       "    }\n",
       "\n",
       "    .dataframe thead th {\n",
       "        text-align: right;\n",
       "    }\n",
       "</style>\n",
       "<table border=\"1\" class=\"dataframe\">\n",
       "  <thead>\n",
       "    <tr style=\"text-align: right;\">\n",
       "      <th></th>\n",
       "      <th>sentence</th>\n",
       "      <th>company</th>\n",
       "      <th>sentiment</th>\n",
       "      <th>positivity</th>\n",
       "    </tr>\n",
       "  </thead>\n",
       "  <tbody>\n",
       "    <tr>\n",
       "      <td>0</td>\n",
       "      <td>I CALLED AND ASKED THEM WHY I WAS GETTING INTE...</td>\n",
       "      <td>Walmart MASTERCARD</td>\n",
       "      <td>0.8647</td>\n",
       "      <td>1</td>\n",
       "    </tr>\n",
       "    <tr>\n",
       "      <td>1</td>\n",
       "      <td>Excellent rewards and redeem easily when makin...</td>\n",
       "      <td>Walmart MASTERCARD</td>\n",
       "      <td>0.8481</td>\n",
       "      <td>1</td>\n",
       "    </tr>\n",
       "    <tr>\n",
       "      <td>2</td>\n",
       "      <td>I must note that I had also received 2 previou...</td>\n",
       "      <td>Walmart MASTERCARD</td>\n",
       "      <td>0.8225</td>\n",
       "      <td>1</td>\n",
       "    </tr>\n",
       "    <tr>\n",
       "      <td>3</td>\n",
       "      <td>After 6 weeks and a few major purchases I was ...</td>\n",
       "      <td>Walmart MASTERCARD</td>\n",
       "      <td>0.7943</td>\n",
       "      <td>1</td>\n",
       "    </tr>\n",
       "    <tr>\n",
       "      <td>4</td>\n",
       "      <td>I have the Walmart Mastercard for over 2 years...</td>\n",
       "      <td>Walmart MASTERCARD</td>\n",
       "      <td>0.7845</td>\n",
       "      <td>1</td>\n",
       "    </tr>\n",
       "  </tbody>\n",
       "</table>\n",
       "</div>"
      ],
      "text/plain": [
       "                                            sentence  \\\n",
       "0  I CALLED AND ASKED THEM WHY I WAS GETTING INTE...   \n",
       "1  Excellent rewards and redeem easily when makin...   \n",
       "2  I must note that I had also received 2 previou...   \n",
       "3  After 6 weeks and a few major purchases I was ...   \n",
       "4  I have the Walmart Mastercard for over 2 years...   \n",
       "\n",
       "              company  \\\n",
       "0  Walmart MASTERCARD   \n",
       "1  Walmart MASTERCARD   \n",
       "2  Walmart MASTERCARD   \n",
       "3  Walmart MASTERCARD   \n",
       "4  Walmart MASTERCARD   \n",
       "\n",
       "   sentiment  \\\n",
       "0     0.8647   \n",
       "1     0.8481   \n",
       "2     0.8225   \n",
       "3     0.7943   \n",
       "4     0.7845   \n",
       "\n",
       "   positivity  \n",
       "0           1  \n",
       "1           1  \n",
       "2           1  \n",
       "3           1  \n",
       "4           1  "
      ]
     },
     "execution_count": 2,
     "metadata": {},
     "output_type": "execute_result"
    }
   ],
   "source": [
    "# Reload saved data\n",
    "df_sentence = pd.read_csv('../data/sentence.csv') \n",
    "df_sentence.head()"
   ]
  },
  {
   "cell_type": "code",
   "execution_count": 74,
   "metadata": {
    "scrolled": true
   },
   "outputs": [
    {
     "data": {
      "text/plain": [
       "(84247, 4)"
      ]
     },
     "execution_count": 74,
     "metadata": {},
     "output_type": "execute_result"
    }
   ],
   "source": [
    "df_sentence.shape"
   ]
  },
  {
   "cell_type": "code",
   "execution_count": 75,
   "metadata": {},
   "outputs": [
    {
     "data": {
      "text/plain": [
       "1    43759\n",
       "0    40488\n",
       "Name: positivity, dtype: int64"
      ]
     },
     "execution_count": 75,
     "metadata": {},
     "output_type": "execute_result"
    }
   ],
   "source": [
    "df_sentence.positivity.value_counts()"
   ]
  },
  {
   "cell_type": "code",
   "execution_count": 76,
   "metadata": {},
   "outputs": [
    {
     "name": "stdout",
     "output_type": "stream",
     "text": [
      "Sentence: Yes, I have one last statement that is not overdue but no apologies about this harassing letter that has no grounds.\n",
      "Credit card: Walmart MASTERCARD\n",
      "Sentiment: -0.29\n",
      "Positivity: 0\n"
     ]
    }
   ],
   "source": [
    "def print_review(index):\n",
    "    \"\"\"Display each row\"\"\"\n",
    "    text = df_sentence[df_sentence.index ==index].values.reshape(4)\n",
    "    sentence = text[0]\n",
    "    company = text[1]\n",
    "    sentiment = text[2]\n",
    "    positivity = text[3]\n",
    "    print('Sentence:',sentence)\n",
    "    print('Credit card:',company)\n",
    "    print('Sentiment:',sentiment)\n",
    "    print('Positivity:',positivity)\n",
    "\n",
    "print_review(100)"
   ]
  },
  {
   "cell_type": "code",
   "execution_count": 3,
   "metadata": {},
   "outputs": [
    {
     "data": {
      "text/plain": [
       "company\n",
       "Discover it Secured                         0.540\n",
       "Discover it Miles                           0.538\n",
       "Bank of America Cash Rewards Credit Card    0.513\n",
       "Chase Freedom Unlimited                     0.498\n",
       "Capital One Venture Rewards                 0.496\n",
       "Name: sentiment, dtype: float64"
      ]
     },
     "execution_count": 3,
     "metadata": {},
     "output_type": "execute_result"
    }
   ],
   "source": [
    "# Calculate the mean sentiment of all credit card company\n",
    "mean_senti = df_sentence.groupby('company')['sentiment'].mean().sort_values(ascending = False)\n",
    "round(mean_senti,3).head()"
   ]
  },
  {
   "cell_type": "code",
   "execution_count": 78,
   "metadata": {
    "scrolled": true
   },
   "outputs": [
    {
     "data": {
      "text/plain": [
       "Text(0, 0.5, 'count')"
      ]
     },
     "execution_count": 78,
     "metadata": {},
     "output_type": "execute_result"
    },
    {
     "data": {
      "image/png": "[encoded data removed]",
      "text/plain": [
       "<Figure size 432x288 with 1 Axes>"
      ]
     },
     "metadata": {
      "needs_background": "light"
     },
     "output_type": "display_data"
    }
   ],
   "source": [
    "df_sentence.sentiment.hist(bins = 'auto')\n",
    "plt.xlabel('sentiment')\n",
    "plt.ylabel('count')"
   ]
  },
  {
   "cell_type": "markdown",
   "metadata": {},
   "source": [
    "## Data Pre-processing"
   ]
  },
  {
   "cell_type": "code",
   "execution_count": 79,
   "metadata": {},
   "outputs": [],
   "source": [
    "import guidedlda\n",
    "import nltk\n",
    "import spacy\n",
    "from sklearn.feature_extraction.text import CountVectorizer, TfidfVectorizer\n",
    "from nltk.tokenize import RegexpTokenizer\n",
    "from nltk.stem import WordNetLemmatizer, PorterStemmer\n",
    "from nltk.corpus import wordnet\n",
    "from nltk.corpus import stopwords\n",
    "from collections import Counter"
   ]
  },
  {
   "cell_type": "code",
   "execution_count": 80,
   "metadata": {},
   "outputs": [],
   "source": [
    "# By inspection we create a list of stopwords and add them to the usual nltk stopwords\n",
    "my_stop_words = ['capital','america', 'redcard', 'target','amazon', 'card', 'credit','merrick', 'discover', 'citi',\n",
    "                 'amex', 'express', 'go', 'paypal', 'chase', 'american', 'one', 'would', 'ask','really', \n",
    "                 'get', 'know', 'express', 'ever','use','say', 'recently', 'also', 'always', 'give',  'tell', \n",
    "                 'take', 'never', 'costco', 'time', 'make', 'try','number', 'send', 'new', 'even',\n",
    "                 'sony', 'us', 'husband', 'car', 'capitol', 'wife', 'book','could','okay', 'mastercard', 'want',\n",
    "                 'honestly', 'eppicard', 'need', 'family', 'cap', 'another', 'line', 'com', 'fico', 'quicksilver',\n",
    "                'link', 'sear', 'pay', 'may', 'company', 'bank', 'call', 'account', 'receive','told', 'day', 'well',\n",
    "                'think', 'look', 'sure', 'easy', 'money', 'people','business', 'review', 'something', 'come','away']\n",
    "\n",
    "stop_words = stopwords.words('english')\n",
    "stop_words.extend(my_stop_words)"
   ]
  },
  {
   "cell_type": "code",
   "execution_count": 81,
   "metadata": {},
   "outputs": [],
   "source": [
    "def get_wordnet_pos(word):\n",
    "    \"\"\"Map POS tag to first character lemmatize() accepts\"\"\"\n",
    "    tag = nltk.pos_tag([word])[0][1][0].upper()\n",
    "    tag_dict = {\"J\": wordnet.ADJ,\n",
    "                \"N\": wordnet.NOUN,\n",
    "                \"V\": wordnet.VERB,\n",
    "                \"R\": wordnet.ADV}\n",
    "\n",
    "    return tag_dict.get(tag, wordnet.NOUN)\n",
    "\n",
    "def word_lemmatizer(text):\n",
    "    \"\"\"Word lemmatization function\"\"\"\n",
    "    lemmatizer = WordNetLemmatizer()\n",
    "    text = lemmatizer.lemmatize(text, get_wordnet_pos(text))\n",
    "    return text\n",
    "\n",
    "def my_tokenizer(text):\n",
    "    \"\"\"Tokenize review text\"\"\"\n",
    "    text = text.lower() # lower case\n",
    "    text = re.sub(\"\\d+\", \" \", text) # remove digits\n",
    "    tokenizer = RegexpTokenizer(r'\\w+')\n",
    "    token = [word for word in tokenizer.tokenize(text) if len(word)>2]\n",
    "    token = [word_lemmatizer(x) for x in token]  \n",
    "    token = [s for s in token if s not in stop_words]\n",
    "    return token"
   ]
  },
  {
   "cell_type": "code",
   "execution_count": 82,
   "metadata": {},
   "outputs": [],
   "source": [
    "def word_count(text):\n",
    "    \"\"\"Plot the most frequency words in the corpus\"\"\"\n",
    "    all_reviews = ' '.join(text) # join all reviews\n",
    "    token_count = Counter(my_tokenizer(all_reviews)) # count each word\n",
    "    common_words =  dict( token_count.most_common(n=25) ) # count most common 20 words\n",
    "    freq_plot = pd.Series(common_words, index=None).plot(kind = 'bar', figsize=(10,5))\n",
    "    plt.ylabel('count')\n",
    "    #plt.savefig('../figures/fig2.pdf')"
   ]
  },
  {
   "cell_type": "code",
   "execution_count": 83,
   "metadata": {},
   "outputs": [
    {
     "data": {
      "image/png": "[encoded data removed]",
      "text/plain": [
       "<Figure size 720x360 with 1 Axes>"
      ]
     },
     "metadata": {
      "needs_background": "light"
     },
     "output_type": "display_data"
    }
   ],
   "source": [
    "word_count(df_sentence.sentence)"
   ]
  },
  {
   "cell_type": "markdown",
   "metadata": {},
   "source": [
    "# Topic Modeling with LDA"
   ]
  },
  {
   "cell_type": "code",
   "execution_count": 84,
   "metadata": {},
   "outputs": [],
   "source": [
    "def doc_term_matrix(data, text):\n",
    "    \"\"\"Returns document term matrix, vocabulary, and word id\"\"\"\n",
    "    counter = CountVectorizer(tokenizer=my_tokenizer, ngram_range = (1,1))\n",
    "    X = counter.fit_transform(data[text]).toarray()\n",
    "    bow_docs = pd.DataFrame(X, columns=counter.get_feature_names())\n",
    "    vocab = tuple(bow_docs.columns)\n",
    "    word2id = dict((v, idx) for idx, v in enumerate(vocab))\n",
    "    return X, vocab, word2id"
   ]
  },
  {
   "cell_type": "code",
   "execution_count": 85,
   "metadata": {},
   "outputs": [],
   "source": [
    "X, vocab, word2id = doc_term_matrix(df_sentence, 'sentence')"
   ]
  },
  {
   "cell_type": "code",
   "execution_count": 86,
   "metadata": {
    "scrolled": true
   },
   "outputs": [
    {
     "data": {
      "text/plain": [
       "(84247, 10964)"
      ]
     },
     "execution_count": 86,
     "metadata": {},
     "output_type": "execute_result"
    }
   ],
   "source": [
    "X.shape"
   ]
  },
  {
   "cell_type": "markdown",
   "metadata": {},
   "source": [
    "## 1. Sklearn LDA"
   ]
  },
  {
   "cell_type": "code",
   "execution_count": 87,
   "metadata": {},
   "outputs": [],
   "source": [
    "from sklearn.decomposition import LatentDirichletAllocation as LDA"
   ]
  },
  {
   "cell_type": "code",
   "execution_count": 88,
   "metadata": {},
   "outputs": [
    {
     "data": {
      "text/plain": [
       "LatentDirichletAllocation(batch_size=128, doc_topic_prior=None,\n",
       "                          evaluate_every=-1, learning_decay=0.7,\n",
       "                          learning_method='batch', learning_offset=10.0,\n",
       "                          max_doc_update_iter=100, max_iter=10,\n",
       "                          mean_change_tol=0.001, n_components=10, n_jobs=None,\n",
       "                          perp_tol=0.1, random_state=None,\n",
       "                          topic_word_prior=None, total_samples=1000000.0,\n",
       "                          verbose=0)"
      ]
     },
     "execution_count": 88,
     "metadata": {},
     "output_type": "execute_result"
    }
   ],
   "source": [
    "lda = LDA(n_components=10, learning_method='batch')\n",
    "lda.fit(X)"
   ]
  },
  {
   "cell_type": "code",
   "execution_count": 89,
   "metadata": {},
   "outputs": [
    {
     "data": {
      "text/plain": [
       "(10, 10964)"
      ]
     },
     "execution_count": 89,
     "metadata": {},
     "output_type": "execute_result"
    }
   ],
   "source": [
    "lda.components_.shape"
   ]
  },
  {
   "cell_type": "code",
   "execution_count": 90,
   "metadata": {},
   "outputs": [
    {
     "name": "stdout",
     "output_type": "stream",
     "text": [
      "Topic 0: back reward great cash love purchase best like earn travel\n",
      "Topic 1: customer service good great helpful excellent benefit overall experience care\n",
      "Topic 2: bad issue phone work happy someone security person speak talk\n",
      "Topic 3: fee payment charge late annual month balance paid interest full\n",
      "Topic 4: point recommend reward travel like anyone purchase lot definitely gas\n",
      "Topic 5: limit first month increase year start complaint approve sign every\n",
      "Topic 6: online payment app check website mail help way rebuild thank\n",
      "Topic 7: interest rate like high low balance offer apr transfer good\n",
      "Topic 8: problem cancel charge fraud bill apply right year immediately sent\n",
      "Topic 9: score help much still accepted experience close nothing report history\n"
     ]
    }
   ],
   "source": [
    "topics = ['topic{}'.format(i) for i in range(lda.components_.shape[0])]\n",
    "components = pd.DataFrame(lda.components_.T, index=vocab, columns = topics)/len(X)\n",
    "n_top_words = 10\n",
    "for i, topic_dist in enumerate(topics):\n",
    "    topic_words = components[topics[i]].sort_values(ascending=False)[:n_top_words].index\n",
    "    print('Topic {}: {}'.format(i, ' '.join(topic_words)))"
   ]
  },
  {
   "cell_type": "markdown",
   "metadata": {},
   "source": [
    "## 2. Guided LDA"
   ]
  },
  {
   "cell_type": "code",
   "execution_count": 91,
   "metadata": {
    "scrolled": true
   },
   "outputs": [
    {
     "name": "stderr",
     "output_type": "stream",
     "text": [
      "INFO:guidedlda:n_documents: 84247\n",
      "INFO:guidedlda:vocab_size: 10964\n",
      "INFO:guidedlda:n_words: 443047\n",
      "INFO:guidedlda:n_topics: 12\n",
      "INFO:guidedlda:n_iter: 100\n",
      "WARNING:guidedlda:all zero row in document-term matrix found\n",
      "INFO:guidedlda:<0> log likelihood: -5387912\n",
      "INFO:guidedlda:<20> log likelihood: -3410087\n",
      "INFO:guidedlda:<40> log likelihood: -3355108\n",
      "INFO:guidedlda:<60> log likelihood: -3289893\n",
      "INFO:guidedlda:<80> log likelihood: -3248230\n",
      "INFO:guidedlda:<99> log likelihood: -3219774\n"
     ]
    },
    {
     "data": {
      "text/plain": [
       "<guidedlda.guidedlda.GuidedLDA at 0x1a33038860>"
      ]
     },
     "execution_count": 91,
     "metadata": {},
     "output_type": "execute_result"
    }
   ],
   "source": [
    "# Normal LDA without seeding\n",
    "model = guidedlda.GuidedLDA(n_topics=12, n_iter=100, random_state=7, refresh=20)\n",
    "model.fit(X)"
   ]
  },
  {
   "cell_type": "code",
   "execution_count": 92,
   "metadata": {},
   "outputs": [
    {
     "name": "stdout",
     "output_type": "stream",
     "text": [
      "Topic 0: payment customer service charge year problem cancel information report online\n",
      "Topic 1: customer service fee interest great charge rate good like year\n",
      "Topic 2: reward cash back love point great purchase like travel good\n",
      "Topic 3: good interest rate score limit great year recommend low high\n",
      "Topic 4: reward cash back great point love like purchase month good\n",
      "Topic 5: fee payment like charge month interest purchase year great balance\n",
      "Topic 6: payment charge fee month balance interest bill like late purchase\n",
      "Topic 7: great recommend service good customer love reward anyone app highly\n",
      "Topic 8: customer service great like bad good problem help phone issue\n",
      "Topic 9: fee interest month payment charge rate balance limit late high\n",
      "Topic 10: reward cash back love great purchase like point fee travel\n",
      "Topic 11: payment charge phone cancel bill back fraud problem issue close\n"
     ]
    }
   ],
   "source": [
    "topic_word = model.topic_word_\n",
    "n_top_words = 10\n",
    "for i, topic_dist in enumerate(topic_word):\n",
    "    topic_words = np.array(vocab)[np.argsort(topic_dist)][:-(n_top_words+1):-1]\n",
    "    print('Topic {}: {}'.format(i, ' '.join(topic_words)))"
   ]
  },
  {
   "cell_type": "code",
   "execution_count": 93,
   "metadata": {},
   "outputs": [
    {
     "name": "stderr",
     "output_type": "stream",
     "text": [
      "INFO:guidedlda:n_documents: 84247\n",
      "INFO:guidedlda:vocab_size: 10964\n",
      "INFO:guidedlda:n_words: 443047\n",
      "INFO:guidedlda:n_topics: 10\n",
      "INFO:guidedlda:n_iter: 1000\n",
      "WARNING:guidedlda:all zero row in document-term matrix found\n",
      "INFO:guidedlda:<0> log likelihood: -5252656\n",
      "INFO:guidedlda:<20> log likelihood: -3324623\n",
      "INFO:guidedlda:<40> log likelihood: -3235723\n",
      "INFO:guidedlda:<60> log likelihood: -3188051\n",
      "INFO:guidedlda:<80> log likelihood: -3161811\n",
      "INFO:guidedlda:<100> log likelihood: -3145838\n",
      "INFO:guidedlda:<120> log likelihood: -3132502\n",
      "INFO:guidedlda:<140> log likelihood: -3125644\n",
      "INFO:guidedlda:<160> log likelihood: -3118969\n",
      "INFO:guidedlda:<180> log likelihood: -3114141\n",
      "INFO:guidedlda:<200> log likelihood: -3110193\n",
      "INFO:guidedlda:<220> log likelihood: -3107614\n",
      "INFO:guidedlda:<240> log likelihood: -3105694\n",
      "INFO:guidedlda:<260> log likelihood: -3102370\n",
      "INFO:guidedlda:<280> log likelihood: -3101795\n",
      "INFO:guidedlda:<300> log likelihood: -3100281\n",
      "INFO:guidedlda:<320> log likelihood: -3098331\n",
      "INFO:guidedlda:<340> log likelihood: -3098108\n",
      "INFO:guidedlda:<360> log likelihood: -3096312\n",
      "INFO:guidedlda:<380> log likelihood: -3096048\n",
      "INFO:guidedlda:<400> log likelihood: -3095484\n",
      "INFO:guidedlda:<420> log likelihood: -3095259\n",
      "INFO:guidedlda:<440> log likelihood: -3094365\n",
      "INFO:guidedlda:<460> log likelihood: -3094386\n",
      "INFO:guidedlda:<480> log likelihood: -3094229\n",
      "INFO:guidedlda:<500> log likelihood: -3094444\n",
      "INFO:guidedlda:<520> log likelihood: -3094308\n",
      "INFO:guidedlda:<540> log likelihood: -3093473\n",
      "INFO:guidedlda:<560> log likelihood: -3092394\n",
      "INFO:guidedlda:<580> log likelihood: -3092659\n",
      "INFO:guidedlda:<600> log likelihood: -3092680\n",
      "INFO:guidedlda:<620> log likelihood: -3091897\n",
      "INFO:guidedlda:<640> log likelihood: -3091915\n",
      "INFO:guidedlda:<660> log likelihood: -3091926\n",
      "INFO:guidedlda:<680> log likelihood: -3092044\n",
      "INFO:guidedlda:<700> log likelihood: -3092233\n",
      "INFO:guidedlda:<720> log likelihood: -3092274\n",
      "INFO:guidedlda:<740> log likelihood: -3092471\n",
      "INFO:guidedlda:<760> log likelihood: -3091900\n",
      "INFO:guidedlda:<780> log likelihood: -3091497\n",
      "INFO:guidedlda:<800> log likelihood: -3091788\n",
      "INFO:guidedlda:<820> log likelihood: -3091845\n",
      "INFO:guidedlda:<840> log likelihood: -3091467\n",
      "INFO:guidedlda:<860> log likelihood: -3091103\n",
      "INFO:guidedlda:<880> log likelihood: -3090186\n",
      "INFO:guidedlda:<900> log likelihood: -3090461\n",
      "INFO:guidedlda:<920> log likelihood: -3091373\n",
      "INFO:guidedlda:<940> log likelihood: -3091410\n",
      "INFO:guidedlda:<960> log likelihood: -3090241\n",
      "INFO:guidedlda:<980> log likelihood: -3090522\n",
      "INFO:guidedlda:<999> log likelihood: -3091553\n"
     ]
    },
    {
     "data": {
      "text/plain": [
       "<guidedlda.guidedlda.GuidedLDA at 0x1a22c92668>"
      ]
     },
     "execution_count": 93,
     "metadata": {},
     "output_type": "execute_result"
    }
   ],
   "source": [
    "# Guided LDA with seed topics.\n",
    "seed_topic_list = [['online', 'app','website','apply', 'approve', 'online', 'offer', 'application'],\n",
    "                    ['customer','service','good', 'great', 'helpful', 'love', 'help', 'excellent'],\n",
    "                   [ 'payment', 'fee', 'charge', 'late', 'month', 'due', 'score'],\n",
    "                    ['close', 'cancel',  'closure', 'charge'],\n",
    "                    ['high', 'interest', 'rate',  'apr', 'annual', 'fee', 'yearly', 'limit'],\n",
    "                    ['recommend','good', 'love','like', 'great'],\n",
    "                    ['fraud', 'fraudulent','scam', 'terrible'],\n",
    "                    ['reward', 'point','cash', 'back', 'purchase','good', 'love'], \n",
    "                    ['mile', 'travel', 'point', 'airline', 'good', 'love'],\n",
    "                    ['build', 'rebuild', 'limit']]\n",
    "                    \n",
    "model = guidedlda.GuidedLDA(n_topics=10, n_iter=1000, random_state=7, refresh=20)\n",
    "\n",
    "seed_topics = {}\n",
    "for t_id, st in enumerate(seed_topic_list):\n",
    "    for word in st:\n",
    "        seed_topics[word2id[word]] = t_id\n",
    "        \n",
    "model.fit(X, seed_topics=seed_topics, seed_confidence=0.15)"
   ]
  },
  {
   "cell_type": "code",
   "execution_count": 99,
   "metadata": {},
   "outputs": [],
   "source": [
    "# joblib.dump(model, 'trained_lda.pkl')"
   ]
  },
  {
   "cell_type": "code",
   "execution_count": 95,
   "metadata": {},
   "outputs": [],
   "source": [
    "# trained_model = joblib.load('trained_lda.pkl')"
   ]
  },
  {
   "cell_type": "code",
   "execution_count": 96,
   "metadata": {
    "scrolled": true
   },
   "outputs": [
    {
     "name": "stdout",
     "output_type": "stream",
     "text": [
      "Topic 0: online payment app like love website bill purchase check great balance keep reward problem\n",
      "Topic 1: service customer great good helpful problem issue bad love experience excellent best help friendly\n",
      "Topic 2: payment charge fee month late balance interest paid bill due full cancel every statement\n",
      "Topic 3: like customer bad service feel problem good experience way scam cancel please help read\n",
      "Topic 4: interest rate fee high annual low balance month great apr reward like good offer\n",
      "Topic 5: recommend great love good anyone highly definitely help first reward build friend experience best\n",
      "Topic 6: charge phone back fraud customer cancel service payment issue state letter someone address mail\n",
      "Topic 7: cash back reward purchase love like great point earn bonus month gas every offer\n",
      "Topic 8: reward travel point great love like fee purchase mile good accepted lot earn benefit\n",
      "Topic 9: limit score increase year month help good payment apply approve first start build great\n"
     ]
    }
   ],
   "source": [
    "n_top_words =14\n",
    "topic_word = model.topic_word_\n",
    "for i, topic_dist in enumerate(topic_word):\n",
    "    topic_words = np.array(vocab)[np.argsort(topic_dist)][:-(n_top_words+1):-1]\n",
    "    print('Topic {}: {}'.format(i, ' '.join(topic_words)))"
   ]
  },
  {
   "cell_type": "markdown",
   "metadata": {},
   "source": [
    "## Document-topic distributions"
   ]
  },
  {
   "cell_type": "code",
   "execution_count": 100,
   "metadata": {},
   "outputs": [],
   "source": [
    "trained_model = joblib.load('trained_lda.pkl') # load trained model"
   ]
  },
  {
   "cell_type": "code",
   "execution_count": 101,
   "metadata": {},
   "outputs": [],
   "source": [
    "# List of keywords\n",
    "word_list = [', '.join(np.array(vocab)[list(reversed(X[i,:].argsort()))[0:10]]) for i in range(len(X))]"
   ]
  },
  {
   "cell_type": "code",
   "execution_count": 102,
   "metadata": {},
   "outputs": [
    {
     "name": "stderr",
     "output_type": "stream",
     "text": [
      "WARNING:guidedlda:all zero row in document-term matrix found\n"
     ]
    }
   ],
   "source": [
    "# Extract the topic vector\n",
    "doc_topic = trained_model.transform(X)\n",
    "# num_topic = [doc_topic[i].argmax() for i in range(len(X))] #  extract maximum topic number"
   ]
  },
  {
   "cell_type": "code",
   "execution_count": 103,
   "metadata": {},
   "outputs": [
    {
     "data": {
      "text/html": [
       "<div>\n",
       "<style scoped>\n",
       "    .dataframe tbody tr th:only-of-type {\n",
       "        vertical-align: middle;\n",
       "    }\n",
       "\n",
       "    .dataframe tbody tr th {\n",
       "        vertical-align: top;\n",
       "    }\n",
       "\n",
       "    .dataframe thead th {\n",
       "        text-align: right;\n",
       "    }\n",
       "</style>\n",
       "<table border=\"1\" class=\"dataframe\">\n",
       "  <thead>\n",
       "    <tr style=\"text-align: right;\">\n",
       "      <th></th>\n",
       "      <th>topic 0</th>\n",
       "      <th>topic 1</th>\n",
       "      <th>topic 2</th>\n",
       "      <th>topic 3</th>\n",
       "      <th>topic 4</th>\n",
       "      <th>topic 5</th>\n",
       "      <th>topic 6</th>\n",
       "      <th>topic 7</th>\n",
       "      <th>topic 8</th>\n",
       "      <th>topic 9</th>\n",
       "    </tr>\n",
       "  </thead>\n",
       "  <tbody>\n",
       "    <tr>\n",
       "      <td>0</td>\n",
       "      <td>0.00</td>\n",
       "      <td>0.00</td>\n",
       "      <td>0.79</td>\n",
       "      <td>0.00</td>\n",
       "      <td>0.2</td>\n",
       "      <td>0.0</td>\n",
       "      <td>0.00</td>\n",
       "      <td>0.00</td>\n",
       "      <td>0.00</td>\n",
       "      <td>0.00</td>\n",
       "    </tr>\n",
       "    <tr>\n",
       "      <td>1</td>\n",
       "      <td>0.07</td>\n",
       "      <td>0.00</td>\n",
       "      <td>0.00</td>\n",
       "      <td>0.00</td>\n",
       "      <td>0.0</td>\n",
       "      <td>0.0</td>\n",
       "      <td>0.00</td>\n",
       "      <td>0.37</td>\n",
       "      <td>0.55</td>\n",
       "      <td>0.00</td>\n",
       "    </tr>\n",
       "    <tr>\n",
       "      <td>2</td>\n",
       "      <td>0.00</td>\n",
       "      <td>0.07</td>\n",
       "      <td>0.00</td>\n",
       "      <td>0.27</td>\n",
       "      <td>0.0</td>\n",
       "      <td>0.0</td>\n",
       "      <td>0.18</td>\n",
       "      <td>0.00</td>\n",
       "      <td>0.00</td>\n",
       "      <td>0.48</td>\n",
       "    </tr>\n",
       "    <tr>\n",
       "      <td>3</td>\n",
       "      <td>0.00</td>\n",
       "      <td>0.00</td>\n",
       "      <td>0.44</td>\n",
       "      <td>0.00</td>\n",
       "      <td>0.0</td>\n",
       "      <td>0.0</td>\n",
       "      <td>0.00</td>\n",
       "      <td>0.00</td>\n",
       "      <td>0.00</td>\n",
       "      <td>0.55</td>\n",
       "    </tr>\n",
       "    <tr>\n",
       "      <td>4</td>\n",
       "      <td>0.00</td>\n",
       "      <td>0.04</td>\n",
       "      <td>0.77</td>\n",
       "      <td>0.00</td>\n",
       "      <td>0.0</td>\n",
       "      <td>0.0</td>\n",
       "      <td>0.19</td>\n",
       "      <td>0.00</td>\n",
       "      <td>0.00</td>\n",
       "      <td>0.00</td>\n",
       "    </tr>\n",
       "  </tbody>\n",
       "</table>\n",
       "</div>"
      ],
      "text/plain": [
       "   topic 0  \\\n",
       "0     0.00   \n",
       "1     0.07   \n",
       "2     0.00   \n",
       "3     0.00   \n",
       "4     0.00   \n",
       "\n",
       "   topic 1  \\\n",
       "0     0.00   \n",
       "1     0.00   \n",
       "2     0.07   \n",
       "3     0.00   \n",
       "4     0.04   \n",
       "\n",
       "   topic 2  \\\n",
       "0     0.79   \n",
       "1     0.00   \n",
       "2     0.00   \n",
       "3     0.44   \n",
       "4     0.77   \n",
       "\n",
       "   topic 3  \\\n",
       "0     0.00   \n",
       "1     0.00   \n",
       "2     0.27   \n",
       "3     0.00   \n",
       "4     0.00   \n",
       "\n",
       "   topic 4  \\\n",
       "0      0.2   \n",
       "1      0.0   \n",
       "2      0.0   \n",
       "3      0.0   \n",
       "4      0.0   \n",
       "\n",
       "   topic 5  \\\n",
       "0      0.0   \n",
       "1      0.0   \n",
       "2      0.0   \n",
       "3      0.0   \n",
       "4      0.0   \n",
       "\n",
       "   topic 6  \\\n",
       "0     0.00   \n",
       "1     0.00   \n",
       "2     0.18   \n",
       "3     0.00   \n",
       "4     0.19   \n",
       "\n",
       "   topic 7  \\\n",
       "0     0.00   \n",
       "1     0.37   \n",
       "2     0.00   \n",
       "3     0.00   \n",
       "4     0.00   \n",
       "\n",
       "   topic 8  \\\n",
       "0     0.00   \n",
       "1     0.55   \n",
       "2     0.00   \n",
       "3     0.00   \n",
       "4     0.00   \n",
       "\n",
       "   topic 9  \n",
       "0     0.00  \n",
       "1     0.00  \n",
       "2     0.48  \n",
       "3     0.55  \n",
       "4     0.00  "
      ]
     },
     "execution_count": 103,
     "metadata": {},
     "output_type": "execute_result"
    }
   ],
   "source": [
    "columns10 = ['topic {}'.format(i) for i in range(10)]\n",
    "topic_vector = pd.DataFrame(doc_topic, columns = columns10)\n",
    "topic_vector.round(2).head()"
   ]
  },
  {
   "cell_type": "code",
   "execution_count": 104,
   "metadata": {},
   "outputs": [],
   "source": [
    "def topic_threshold(doc_topic, topic_vector):\n",
    "    \"\"\"Return the topic number if the topic is more than 70% dominant\"\"\"\n",
    "    topic_num_list = []\n",
    "    for i in range(len(topic_vector)):\n",
    "        topic_num = [idx for idx, value in enumerate(doc_topic[i]) if value > 0.7]\n",
    "        if topic_num != []:\n",
    "            topic_num = topic_num[0]\n",
    "        else:\n",
    "            topic_num = 'None'\n",
    "        topic_num_list.append(topic_num)\n",
    "    return topic_num_list"
   ]
  },
  {
   "cell_type": "code",
   "execution_count": 105,
   "metadata": {},
   "outputs": [],
   "source": [
    "num_topic = topic_threshold(doc_topic, topic_vector)"
   ]
  },
  {
   "cell_type": "code",
   "execution_count": 106,
   "metadata": {},
   "outputs": [],
   "source": [
    "# Topic, keywords, sentence dataframe\n",
    "df_doc_topic = pd.DataFrame({'topics': num_topic, 'keywords': word_list})\n",
    "df_doc_topic['sentences'] = df_sentence['sentence']\n",
    "df_doc_topic['creditcards'] = df_sentence['company']\n",
    "df_doc_topic['sentiments'] = df_sentence['sentiment']"
   ]
  },
  {
   "cell_type": "code",
   "execution_count": 107,
   "metadata": {},
   "outputs": [],
   "source": [
    "# Mean sentiment for each credit card\n",
    "df_doc_topic['mean_sentiments'] = df_doc_topic['creditcards']\n",
    "df_doc_topic['mean_sentiments'] = df_doc_topic['mean_sentiments'].map(dict(round(mean_senti,2)))"
   ]
  },
  {
   "cell_type": "code",
   "execution_count": 108,
   "metadata": {},
   "outputs": [
    {
     "data": {
      "text/html": [
       "<div>\n",
       "<style scoped>\n",
       "    .dataframe tbody tr th:only-of-type {\n",
       "        vertical-align: middle;\n",
       "    }\n",
       "\n",
       "    .dataframe tbody tr th {\n",
       "        vertical-align: top;\n",
       "    }\n",
       "\n",
       "    .dataframe thead th {\n",
       "        text-align: right;\n",
       "    }\n",
       "</style>\n",
       "<table border=\"1\" class=\"dataframe\">\n",
       "  <thead>\n",
       "    <tr style=\"text-align: right;\">\n",
       "      <th></th>\n",
       "      <th>topics</th>\n",
       "      <th>keywords</th>\n",
       "      <th>sentences</th>\n",
       "      <th>creditcards</th>\n",
       "      <th>sentiments</th>\n",
       "      <th>mean_sentiments</th>\n",
       "    </tr>\n",
       "  </thead>\n",
       "  <tbody>\n",
       "    <tr>\n",
       "      <td>0</td>\n",
       "      <td>2</td>\n",
       "      <td>interest, charge, close, guy, reoccurring, ext...</td>\n",
       "      <td>I CALLED AND ASKED THEM WHY I WAS GETTING INTE...</td>\n",
       "      <td>Walmart MASTERCARD</td>\n",
       "      <td>0.8647</td>\n",
       "      <td>-0.04</td>\n",
       "    </tr>\n",
       "    <tr>\n",
       "      <td>1</td>\n",
       "      <td>2</td>\n",
       "      <td>refund, walmart, ago, bill, vendor, support, d...</td>\n",
       "      <td>I have the Walmart Mastercard for over 2 years...</td>\n",
       "      <td>Walmart MASTERCARD</td>\n",
       "      <td>0.7845</td>\n",
       "      <td>-0.04</td>\n",
       "    </tr>\n",
       "    <tr>\n",
       "      <td>2</td>\n",
       "      <td>9</td>\n",
       "      <td>relationship, great, maintain, several, wise, ...</td>\n",
       "      <td>I have several credit cards and maintain a gre...</td>\n",
       "      <td>Walmart MASTERCARD</td>\n",
       "      <td>0.7717</td>\n",
       "      <td>-0.04</td>\n",
       "    </tr>\n",
       "    <tr>\n",
       "      <td>3</td>\n",
       "      <td>5</td>\n",
       "      <td>great, building, start, exterior, extravagant,...</td>\n",
       "      <td>They are also a great start to building your c...</td>\n",
       "      <td>Walmart MASTERCARD</td>\n",
       "      <td>0.7717</td>\n",
       "      <td>-0.04</td>\n",
       "    </tr>\n",
       "    <tr>\n",
       "      <td>4</td>\n",
       "      <td>5</td>\n",
       "      <td>first, start, positive, walmart, reward, exter...</td>\n",
       "      <td>First I'll start with the positives about Walm...</td>\n",
       "      <td>Walmart MASTERCARD</td>\n",
       "      <td>0.7579</td>\n",
       "      <td>-0.04</td>\n",
       "    </tr>\n",
       "  </tbody>\n",
       "</table>\n",
       "</div>"
      ],
      "text/plain": [
       "  topics  \\\n",
       "0      2   \n",
       "1      2   \n",
       "2      9   \n",
       "3      5   \n",
       "4      5   \n",
       "\n",
       "                                            keywords  \\\n",
       "0  interest, charge, close, guy, reoccurring, ext...   \n",
       "1  refund, walmart, ago, bill, vendor, support, d...   \n",
       "2  relationship, great, maintain, several, wise, ...   \n",
       "3  great, building, start, exterior, extravagant,...   \n",
       "4  first, start, positive, walmart, reward, exter...   \n",
       "\n",
       "                                           sentences  \\\n",
       "0  I CALLED AND ASKED THEM WHY I WAS GETTING INTE...   \n",
       "1  I have the Walmart Mastercard for over 2 years...   \n",
       "2  I have several credit cards and maintain a gre...   \n",
       "3  They are also a great start to building your c...   \n",
       "4  First I'll start with the positives about Walm...   \n",
       "\n",
       "          creditcards  \\\n",
       "0  Walmart MASTERCARD   \n",
       "1  Walmart MASTERCARD   \n",
       "2  Walmart MASTERCARD   \n",
       "3  Walmart MASTERCARD   \n",
       "4  Walmart MASTERCARD   \n",
       "\n",
       "   sentiments  \\\n",
       "0      0.8647   \n",
       "1      0.7845   \n",
       "2      0.7717   \n",
       "3      0.7717   \n",
       "4      0.7579   \n",
       "\n",
       "   mean_sentiments  \n",
       "0            -0.04  \n",
       "1            -0.04  \n",
       "2            -0.04  \n",
       "3            -0.04  \n",
       "4            -0.04  "
      ]
     },
     "execution_count": 108,
     "metadata": {},
     "output_type": "execute_result"
    }
   ],
   "source": [
    "# Drop sentence with no topic\n",
    "df = df_doc_topic[df_doc_topic['topics'] != 'None'].reset_index(drop = True)\n",
    "df.head()"
   ]
  },
  {
   "cell_type": "code",
   "execution_count": 109,
   "metadata": {},
   "outputs": [
    {
     "data": {
      "text/plain": [
       "(54326, 6)"
      ]
     },
     "execution_count": 109,
     "metadata": {},
     "output_type": "execute_result"
    }
   ],
   "source": [
    "df.shape"
   ]
  },
  {
   "cell_type": "code",
   "execution_count": 110,
   "metadata": {},
   "outputs": [],
   "source": [
    "topic_dict ={0: 'Online Experience',\n",
    "             1: 'Customer Service',\n",
    "             2: 'Bill Disputes',\n",
    "             3: 'Customer Service',\n",
    "             4: 'Interest Rate',\n",
    "             5: 'User Recommendation',\n",
    "             6: 'Fraud Issues',\n",
    "             7: 'Cash Back and Reward Points',\n",
    "             8: 'Travel Rewards',\n",
    "             9: 'Build or Rebuild Credit'}"
   ]
  },
  {
   "cell_type": "code",
   "execution_count": 111,
   "metadata": {},
   "outputs": [],
   "source": [
    "df.topics = df.topics.map(topic_dict)"
   ]
  },
  {
   "cell_type": "code",
   "execution_count": 112,
   "metadata": {},
   "outputs": [],
   "source": [
    "df.to_csv('../data/creditcard_topics.csv', index = False)"
   ]
  },
  {
   "cell_type": "code",
   "execution_count": 113,
   "metadata": {
    "scrolled": true
   },
   "outputs": [
    {
     "data": {
      "text/html": [
       "<div>\n",
       "<style scoped>\n",
       "    .dataframe tbody tr th:only-of-type {\n",
       "        vertical-align: middle;\n",
       "    }\n",
       "\n",
       "    .dataframe tbody tr th {\n",
       "        vertical-align: top;\n",
       "    }\n",
       "\n",
       "    .dataframe thead th {\n",
       "        text-align: right;\n",
       "    }\n",
       "</style>\n",
       "<table border=\"1\" class=\"dataframe\">\n",
       "  <thead>\n",
       "    <tr style=\"text-align: right;\">\n",
       "      <th></th>\n",
       "      <th>topics</th>\n",
       "      <th>keywords</th>\n",
       "      <th>sentences</th>\n",
       "      <th>creditcards</th>\n",
       "      <th>sentiments</th>\n",
       "      <th>mean_sentiments</th>\n",
       "    </tr>\n",
       "  </thead>\n",
       "  <tbody>\n",
       "    <tr>\n",
       "      <td>0</td>\n",
       "      <td>Bill Disputes</td>\n",
       "      <td>interest, charge, close, guy, reoccurring, ext...</td>\n",
       "      <td>I CALLED AND ASKED THEM WHY I WAS GETTING INTE...</td>\n",
       "      <td>Walmart MASTERCARD</td>\n",
       "      <td>0.8647</td>\n",
       "      <td>-0.04</td>\n",
       "    </tr>\n",
       "    <tr>\n",
       "      <td>1</td>\n",
       "      <td>Bill Disputes</td>\n",
       "      <td>refund, walmart, ago, bill, vendor, support, d...</td>\n",
       "      <td>I have the Walmart Mastercard for over 2 years...</td>\n",
       "      <td>Walmart MASTERCARD</td>\n",
       "      <td>0.7845</td>\n",
       "      <td>-0.04</td>\n",
       "    </tr>\n",
       "    <tr>\n",
       "      <td>2</td>\n",
       "      <td>Build or Rebuild Credit</td>\n",
       "      <td>relationship, great, maintain, several, wise, ...</td>\n",
       "      <td>I have several credit cards and maintain a gre...</td>\n",
       "      <td>Walmart MASTERCARD</td>\n",
       "      <td>0.7717</td>\n",
       "      <td>-0.04</td>\n",
       "    </tr>\n",
       "    <tr>\n",
       "      <td>3</td>\n",
       "      <td>User Recommendation</td>\n",
       "      <td>great, building, start, exterior, extravagant,...</td>\n",
       "      <td>They are also a great start to building your c...</td>\n",
       "      <td>Walmart MASTERCARD</td>\n",
       "      <td>0.7717</td>\n",
       "      <td>-0.04</td>\n",
       "    </tr>\n",
       "    <tr>\n",
       "      <td>4</td>\n",
       "      <td>User Recommendation</td>\n",
       "      <td>first, start, positive, walmart, reward, exter...</td>\n",
       "      <td>First I'll start with the positives about Walm...</td>\n",
       "      <td>Walmart MASTERCARD</td>\n",
       "      <td>0.7579</td>\n",
       "      <td>-0.04</td>\n",
       "    </tr>\n",
       "  </tbody>\n",
       "</table>\n",
       "</div>"
      ],
      "text/plain": [
       "                    topics  \\\n",
       "0            Bill Disputes   \n",
       "1            Bill Disputes   \n",
       "2  Build or Rebuild Credit   \n",
       "3      User Recommendation   \n",
       "4      User Recommendation   \n",
       "\n",
       "                                            keywords  \\\n",
       "0  interest, charge, close, guy, reoccurring, ext...   \n",
       "1  refund, walmart, ago, bill, vendor, support, d...   \n",
       "2  relationship, great, maintain, several, wise, ...   \n",
       "3  great, building, start, exterior, extravagant,...   \n",
       "4  first, start, positive, walmart, reward, exter...   \n",
       "\n",
       "                                           sentences  \\\n",
       "0  I CALLED AND ASKED THEM WHY I WAS GETTING INTE...   \n",
       "1  I have the Walmart Mastercard for over 2 years...   \n",
       "2  I have several credit cards and maintain a gre...   \n",
       "3  They are also a great start to building your c...   \n",
       "4  First I'll start with the positives about Walm...   \n",
       "\n",
       "          creditcards  \\\n",
       "0  Walmart MASTERCARD   \n",
       "1  Walmart MASTERCARD   \n",
       "2  Walmart MASTERCARD   \n",
       "3  Walmart MASTERCARD   \n",
       "4  Walmart MASTERCARD   \n",
       "\n",
       "   sentiments  \\\n",
       "0      0.8647   \n",
       "1      0.7845   \n",
       "2      0.7717   \n",
       "3      0.7717   \n",
       "4      0.7579   \n",
       "\n",
       "   mean_sentiments  \n",
       "0            -0.04  \n",
       "1            -0.04  \n",
       "2            -0.04  \n",
       "3            -0.04  \n",
       "4            -0.04  "
      ]
     },
     "execution_count": 113,
     "metadata": {},
     "output_type": "execute_result"
    }
   ],
   "source": [
    "df.head()"
   ]
  },
  {
   "cell_type": "code",
   "execution_count": 114,
   "metadata": {},
   "outputs": [],
   "source": [
    "def credit_card(data):\n",
    "    \"\"\"Returns topics, topic_sentiments, and credit cards\"\"\"\n",
    "    topic_list = data.topics.unique()\n",
    "    card_lists = []\n",
    "    topic_sentiment = []\n",
    "    topics = []\n",
    "    for i in range(len(topic_list)):\n",
    "        specific = df[df.topics ==topic_list[i]][['topics','creditcards','sentiments']].reset_index(drop=True)\n",
    "        group_table = specific.groupby('creditcards')['sentiments'].mean().sort_values(ascending = False)\n",
    "        card_lists.append(list(group_table.index))\n",
    "        topic_sentiment.append(group_table.values.round(2))\n",
    "        for j in range(len(group_table)):\n",
    "            topics.append(topic_list[i])\n",
    "            \n",
    "    # Convert the list of lists to list\n",
    "    card_list = [card for sub_card in card_lists for card in sub_card]\n",
    "    topic_sen = [sen for sub_sen in topic_sentiment for sen in sub_sen]\n",
    "    \n",
    "    return topics, card_list, topic_sen"
   ]
  },
  {
   "cell_type": "code",
   "execution_count": 115,
   "metadata": {},
   "outputs": [
    {
     "data": {
      "text/html": [
       "<div>\n",
       "<style scoped>\n",
       "    .dataframe tbody tr th:only-of-type {\n",
       "        vertical-align: middle;\n",
       "    }\n",
       "\n",
       "    .dataframe tbody tr th {\n",
       "        vertical-align: top;\n",
       "    }\n",
       "\n",
       "    .dataframe thead th {\n",
       "        text-align: right;\n",
       "    }\n",
       "</style>\n",
       "<table border=\"1\" class=\"dataframe\">\n",
       "  <thead>\n",
       "    <tr style=\"text-align: right;\">\n",
       "      <th></th>\n",
       "      <th>topics</th>\n",
       "      <th>credit_card</th>\n",
       "      <th>topic_sentiment</th>\n",
       "    </tr>\n",
       "  </thead>\n",
       "  <tbody>\n",
       "    <tr>\n",
       "      <td>0</td>\n",
       "      <td>Cash Back and Reward Points</td>\n",
       "      <td>Citi Diamond Preferred Card</td>\n",
       "      <td>0.59</td>\n",
       "    </tr>\n",
       "    <tr>\n",
       "      <td>1</td>\n",
       "      <td>User Recommendation</td>\n",
       "      <td>Credit One Bank</td>\n",
       "      <td>0.13</td>\n",
       "    </tr>\n",
       "    <tr>\n",
       "      <td>2</td>\n",
       "      <td>Fraud Issues</td>\n",
       "      <td>Capital One Venture Rewards</td>\n",
       "      <td>-0.05</td>\n",
       "    </tr>\n",
       "    <tr>\n",
       "      <td>3</td>\n",
       "      <td>Bill Disputes</td>\n",
       "      <td>American Express Blue Cash Preferred</td>\n",
       "      <td>-0.08</td>\n",
       "    </tr>\n",
       "    <tr>\n",
       "      <td>4</td>\n",
       "      <td>Fraud Issues</td>\n",
       "      <td>HomeTrust Secured VISA</td>\n",
       "      <td>-0.03</td>\n",
       "    </tr>\n",
       "  </tbody>\n",
       "</table>\n",
       "</div>"
      ],
      "text/plain": [
       "                        topics  \\\n",
       "0  Cash Back and Reward Points   \n",
       "1          User Recommendation   \n",
       "2                 Fraud Issues   \n",
       "3                Bill Disputes   \n",
       "4                 Fraud Issues   \n",
       "\n",
       "                             credit_card  \\\n",
       "0            Citi Diamond Preferred Card   \n",
       "1                        Credit One Bank   \n",
       "2            Capital One Venture Rewards   \n",
       "3  American Express Blue Cash Preferred    \n",
       "4                 HomeTrust Secured VISA   \n",
       "\n",
       "   topic_sentiment  \n",
       "0             0.59  \n",
       "1             0.13  \n",
       "2            -0.05  \n",
       "3            -0.08  \n",
       "4            -0.03  "
      ]
     },
     "execution_count": 115,
     "metadata": {},
     "output_type": "execute_result"
    }
   ],
   "source": [
    "# Put the result in a dataframe\n",
    "topics, card_list, topic_sentiment = credit_card(df)\n",
    "card_data = pd.DataFrame({'topics': topics, 'credit_card': card_list, 'topic_sentiment':topic_sentiment})\n",
    "card_data = card_data.sample(frac=1).reset_index(drop= True)\n",
    "card_data.head()"
   ]
  },
  {
   "cell_type": "code",
   "execution_count": 116,
   "metadata": {},
   "outputs": [
    {
     "data": {
      "text/plain": [
       "(351, 3)"
      ]
     },
     "execution_count": 116,
     "metadata": {},
     "output_type": "execute_result"
    }
   ],
   "source": [
    "card_data.shape"
   ]
  },
  {
   "cell_type": "code",
   "execution_count": 930,
   "metadata": {},
   "outputs": [],
   "source": [
    "import sqlite3\n",
    "import os"
   ]
  },
  {
   "cell_type": "code",
   "execution_count": 971,
   "metadata": {},
   "outputs": [],
   "source": [
    "# Put the data in a database\n",
    "if os.path.exists('../data/creditcard1.db'):\n",
    "    os.remove('../data/creditcard1.db')\n",
    "\n",
    "conn = sqlite3.connect('../data/creditcard1.db')\n",
    "c = conn.cursor()\n",
    "card_data.to_sql('creditcard', con=conn, index = False, dtype = {'topics': 'TEXT', \n",
    "                                                         'credit_card': 'TEXT','topic_sentiment': 'REAL'})\n",
    "conn.commit()"
   ]
  },
  {
   "cell_type": "code",
   "execution_count": 972,
   "metadata": {},
   "outputs": [
    {
     "data": {
      "text/plain": [
       "[('Discover it Secured', 0.62)]"
      ]
     },
     "execution_count": 972,
     "metadata": {},
     "output_type": "execute_result"
    }
   ],
   "source": [
    "# Query the database\n",
    "data = c.execute(\"SELECT credit_card, MAX(topic_sentiment)\\\n",
    "                    FROM creditcard \\\n",
    "                    WHERE topics = 'Build or Rebuild Credit'; \").fetchall()\n",
    "data"
   ]
  },
  {
   "cell_type": "code",
   "execution_count": null,
   "metadata": {},
   "outputs": [],
   "source": []
  }
 ],
 "metadata": {
  "kernelspec": {
   "display_name": "Python 3",
   "language": "python",
   "name": "python3"
  },
  "language_info": {
   "codemirror_mode": {
    "name": "ipython",
    "version": 3
   },
   "file_extension": ".py",
   "mimetype": "text/x-python",
   "name": "python",
   "nbconvert_exporter": "python",
   "pygments_lexer": "ipython3",
   "version": "3.7.3"
  }
 },
 "nbformat": 4,
 "nbformat_minor": 2
}
