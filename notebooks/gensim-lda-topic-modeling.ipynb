{
 "cells": [
  {
   "cell_type": "markdown",
   "metadata": {},
   "source": [
    "# LDA Topic Modeling\n",
    "\n",
    "This notebook implements topic modeling using gensim LDA"
   ]
  },
  {
   "cell_type": "markdown",
   "metadata": {},
   "source": [
    "## Imports"
   ]
  },
  {
   "cell_type": "code",
   "execution_count": 1,
   "metadata": {},
   "outputs": [],
   "source": [
    "%matplotlib inline\n",
    "import pandas as pd\n",
    "import numpy as np\n",
    "import re\n",
    "import pickle\n",
    "import joblib\n",
    "import matplotlib.pyplot as plt\n",
    "import seaborn as sns\n",
    "import nltk\n",
    "from nltk.tokenize import sent_tokenize\n",
    "from nltk.corpus import stopwords\n",
    "import gensim\n",
    "from gensim import corpora, models\n",
    "from gensim.models import CoherenceModel, LdaModel, LdaMulticore\n",
    "pd.set_option('display.width',-1)\n"
   ]
  },
  {
   "cell_type": "code",
   "execution_count": 2,
   "metadata": {},
   "outputs": [],
   "source": [
    "# run some files containing custom functions\n",
    "%run -i '../scripts/helper_functions.py'"
   ]
  },
  {
   "cell_type": "markdown",
   "metadata": {},
   "source": [
    "## Load Data"
   ]
  },
  {
   "cell_type": "code",
   "execution_count": 3,
   "metadata": {},
   "outputs": [
    {
     "data": {
      "text/html": [
       "<div>\n",
       "<style scoped>\n",
       "    .dataframe tbody tr th:only-of-type {\n",
       "        vertical-align: middle;\n",
       "    }\n",
       "\n",
       "    .dataframe tbody tr th {\n",
       "        vertical-align: top;\n",
       "    }\n",
       "\n",
       "    .dataframe thead th {\n",
       "        text-align: right;\n",
       "    }\n",
       "</style>\n",
       "<table border=\"1\" class=\"dataframe\">\n",
       "  <thead>\n",
       "    <tr style=\"text-align: right;\">\n",
       "      <th></th>\n",
       "      <th>reviews</th>\n",
       "      <th>rating</th>\n",
       "      <th>company</th>\n",
       "    </tr>\n",
       "  </thead>\n",
       "  <tbody>\n",
       "    <tr>\n",
       "      <td>0</td>\n",
       "      <td>Great card! We get cash back for our grocery a...</td>\n",
       "      <td>4.0</td>\n",
       "      <td>American Express Blue Cash Preferred</td>\n",
       "    </tr>\n",
       "    <tr>\n",
       "      <td>1</td>\n",
       "      <td>While traveling we had to keep calling the Cre...</td>\n",
       "      <td>1.0</td>\n",
       "      <td>Credit One Bank</td>\n",
       "    </tr>\n",
       "    <tr>\n",
       "      <td>2</td>\n",
       "      <td>Great card to have! Love all the additional cr...</td>\n",
       "      <td>5.0</td>\n",
       "      <td>Capital One Quicksilver Rewards</td>\n",
       "    </tr>\n",
       "    <tr>\n",
       "      <td>3</td>\n",
       "      <td>no tengo tanta experiencia asi que no puedo da...</td>\n",
       "      <td>2.0</td>\n",
       "      <td>Citi Double Cash Card</td>\n",
       "    </tr>\n",
       "    <tr>\n",
       "      <td>4</td>\n",
       "      <td>This is a basic credit card. The cash back dea...</td>\n",
       "      <td>4.0</td>\n",
       "      <td>Bank of America Cash Rewards Credit Card</td>\n",
       "    </tr>\n",
       "  </tbody>\n",
       "</table>\n",
       "</div>"
      ],
      "text/plain": [
       "                                             reviews  \\\n",
       "0  Great card! We get cash back for our grocery a...   \n",
       "1  While traveling we had to keep calling the Cre...   \n",
       "2  Great card to have! Love all the additional cr...   \n",
       "3  no tengo tanta experiencia asi que no puedo da...   \n",
       "4  This is a basic credit card. The cash back dea...   \n",
       "\n",
       "   rating  \\\n",
       "0     4.0   \n",
       "1     1.0   \n",
       "2     5.0   \n",
       "3     2.0   \n",
       "4     4.0   \n",
       "\n",
       "                                    company  \n",
       "0     American Express Blue Cash Preferred   \n",
       "1                           Credit One Bank  \n",
       "2           Capital One Quicksilver Rewards  \n",
       "3                     Citi Double Cash Card  \n",
       "4  Bank of America Cash Rewards Credit Card  "
      ]
     },
     "execution_count": 3,
     "metadata": {},
     "output_type": "execute_result"
    }
   ],
   "source": [
    "df = pd.read_csv('../data/all_data.csv')\n",
    "df.head()"
   ]
  },
  {
   "cell_type": "code",
   "execution_count": 4,
   "metadata": {
    "scrolled": true
   },
   "outputs": [
    {
     "data": {
      "text/plain": [
       "(25708, 3)"
      ]
     },
     "execution_count": 4,
     "metadata": {},
     "output_type": "execute_result"
    }
   ],
   "source": [
    "df.shape"
   ]
  },
  {
   "cell_type": "code",
   "execution_count": 5,
   "metadata": {
    "scrolled": true
   },
   "outputs": [
    {
     "name": "stdout",
     "output_type": "stream",
     "text": [
      "<class 'pandas.core.frame.DataFrame'>\n",
      "RangeIndex: 25708 entries, 0 to 25707\n",
      "Data columns (total 3 columns):\n",
      "reviews    25708 non-null object\n",
      "rating     25708 non-null float64\n",
      "company    25708 non-null object\n",
      "dtypes: float64(1), object(2)\n",
      "memory usage: 602.7+ KB\n"
     ]
    }
   ],
   "source": [
    "df.info()"
   ]
  },
  {
   "cell_type": "code",
   "execution_count": 6,
   "metadata": {},
   "outputs": [],
   "source": [
    "# Drop rows with missing value if any\n",
    "df = df.dropna().reset_index(drop = True)"
   ]
  },
  {
   "cell_type": "code",
   "execution_count": 7,
   "metadata": {},
   "outputs": [],
   "source": [
    "# Remove wide space in review texts\n",
    "df['reviews']  = df['reviews'].apply(detokenizer)\n",
    "df.to_csv('../data/all_data.csv', index = False) # save as csv file"
   ]
  },
  {
   "cell_type": "code",
   "execution_count": 8,
   "metadata": {},
   "outputs": [
    {
     "name": "stdout",
     "output_type": "stream",
     "text": [
      "Review: Great experience with American Express. Their customer service is outstanding, and they are invariably pleasant to deal with - including a next-day ship on a misplaced card. The cashback is another great feature!\n",
      "Rating: 5.0\n",
      "Credit card: American Express Blue Cash Preferred \n"
     ]
    }
   ],
   "source": [
    "#Display the index row\n",
    "print_review(df, index =25247)"
   ]
  },
  {
   "cell_type": "code",
   "execution_count": 9,
   "metadata": {},
   "outputs": [],
   "source": [
    "# reload the data\n",
    "df =pd.read_csv('../data/all_data.csv') "
   ]
  },
  {
   "cell_type": "code",
   "execution_count": 10,
   "metadata": {
    "scrolled": false
   },
   "outputs": [
    {
     "data": {
      "text/plain": [
       "company\n",
       "Bank of America Cash Rewards Credit Card    2476\n",
       "Capital One Quicksilver Rewards             2292\n",
       "Capital One Venture Rewards                 2204\n",
       "Capital One Platinum                        2103\n",
       "Credit One Bank                             2016\n",
       "Name: reviews, dtype: int64"
      ]
     },
     "execution_count": 10,
     "metadata": {},
     "output_type": "execute_result"
    }
   ],
   "source": [
    "review_count = df.groupby('company')['reviews'].count().sort_values(ascending = False)\n",
    "review_count.head()"
   ]
  },
  {
   "cell_type": "code",
   "execution_count": 11,
   "metadata": {},
   "outputs": [
    {
     "data": {
      "text/plain": [
       "40"
      ]
     },
     "execution_count": 11,
     "metadata": {},
     "output_type": "execute_result"
    }
   ],
   "source": [
    "len(review_count)"
   ]
  },
  {
   "cell_type": "code",
   "execution_count": 32,
   "metadata": {},
   "outputs": [
    {
     "data": {
      "image/png": "[encoded data removed]",
      "text/plain": [
       "<Figure size 576x360 with 1 Axes>"
      ]
     },
     "metadata": {
      "needs_background": "light"
     },
     "output_type": "display_data"
    }
   ],
   "source": [
    "df.groupby('rating')['reviews'].count().plot(kind = 'bar', figsize = (8,5))\n",
    "plt.ylabel('number of reviews')\n",
    "plt.savefig('../image/rating.png')"
   ]
  },
  {
   "cell_type": "markdown",
   "metadata": {},
   "source": [
    "# Data Pre-processing\n",
    "- Document cleaning\n",
    "- Tokenization\n",
    "- Lemmatization\n",
    "- Stopwords removal\n",
    "- Bag of words\n",
    "- Topic modeling with LDA"
   ]
  },
  {
   "cell_type": "code",
   "execution_count": 13,
   "metadata": {},
   "outputs": [],
   "source": [
    "# text preprocessing\n",
    "df = pre_process_text(df, 'reviews') "
   ]
  },
  {
   "cell_type": "code",
   "execution_count": 14,
   "metadata": {},
   "outputs": [],
   "source": [
    "# Add additional stop words to the default nltk stopwords\n",
    "my_stop_words = ['capital','america', 'redcard', 'target','amazon', 'card', 'citibank', 'credit','merrick', 'discover', 'citi',\n",
    "                 'amex', 'express', 'go', 'paypal', 'chase', 'american', 'one', 'would', 'ask','asking','really', \n",
    "                 'get', 'know', 'express', 'ever','use','say', 'recently', 'also', 'always', 'call', 'give',  'tell', \n",
    "                 'take', 'never', 'costco', 'time', 'make', 'account', 'try','number', 'send', 'new', 'even',\n",
    "                 'sony', 'us', 'husband', 'car', 'capitol', 'wife', 'book','could','okay', 'mastercard', 'want',\n",
    "                 'honestly', 'eppicard', 'need', 'family', 'cap', 'another', 'line', 'com', 'fico', 'quicksilver',\n",
    "                'link', 'sear', 'scotiabank', 'barclays', 'first']\n",
    "\n",
    "stop_words = stopwords.words('english')\n",
    "stop_words.extend(my_stop_words)"
   ]
  },
  {
   "cell_type": "code",
   "execution_count": 15,
   "metadata": {},
   "outputs": [],
   "source": [
    "# tokenization\n",
    "df['tokens'] =  df['reviews'].apply(my_tokenizer)"
   ]
  },
  {
   "cell_type": "code",
   "execution_count": 41,
   "metadata": {},
   "outputs": [],
   "source": [
    "def word_count(text):\n",
    "    \"\"\"Plot the most frequency words in the corpus\"\"\"\n",
    "    all_reviews = ' '.join(text) # join all reviews\n",
    "    token_count = Counter(my_tokenizer(all_reviews)) # count each word\n",
    "    common_words =  dict( token_count.most_common(n=25) ) # count most common 20 words\n",
    "    freq_plot = pd.Series(common_words, index=None).plot(kind = 'bar', figsize=(12,8))\n",
    "    plt.ylabel('count')\n",
    "    plt.savefig('../figures/fig2.pdf')"
   ]
  },
  {
   "cell_type": "code",
   "execution_count": 42,
   "metadata": {},
   "outputs": [
    {
     "data": {
      "image/png": "[encoded data removed]",
      "text/plain": [
       "<Figure size 864x576 with 1 Axes>"
      ]
     },
     "metadata": {
      "needs_background": "light"
     },
     "output_type": "display_data"
    }
   ],
   "source": [
    "word_count(df.reviews)"
   ]
  },
  {
   "cell_type": "markdown",
   "metadata": {},
   "source": [
    "## Bigrams and Trigrams"
   ]
  },
  {
   "cell_type": "code",
   "execution_count": 18,
   "metadata": {},
   "outputs": [
    {
     "data": {
      "text/html": [
       "<div>\n",
       "<style scoped>\n",
       "    .dataframe tbody tr th:only-of-type {\n",
       "        vertical-align: middle;\n",
       "    }\n",
       "\n",
       "    .dataframe tbody tr th {\n",
       "        vertical-align: top;\n",
       "    }\n",
       "\n",
       "    .dataframe thead th {\n",
       "        text-align: right;\n",
       "    }\n",
       "</style>\n",
       "<table border=\"1\" class=\"dataframe\">\n",
       "  <thead>\n",
       "    <tr style=\"text-align: right;\">\n",
       "      <th></th>\n",
       "      <th>reviews</th>\n",
       "      <th>rating</th>\n",
       "      <th>company</th>\n",
       "      <th>tokens</th>\n",
       "      <th>bigram_tokens</th>\n",
       "      <th>trigram_tokens</th>\n",
       "    </tr>\n",
       "  </thead>\n",
       "  <tbody>\n",
       "    <tr>\n",
       "      <td>0</td>\n",
       "      <td>great card! we get cash back for our grocery a...</td>\n",
       "      <td>4.0</td>\n",
       "      <td>American Express Blue Cash Preferred</td>\n",
       "      <td>[great, cash, back, grocery, gas, purchase, fo...</td>\n",
       "      <td>[great, cash_back, grocery_gas, purchase, food...</td>\n",
       "      <td>[great, cash_back, grocery_gas, purchase, food...</td>\n",
       "    </tr>\n",
       "    <tr>\n",
       "      <td>1</td>\n",
       "      <td>while traveling we had to keep calling the cre...</td>\n",
       "      <td>1.0</td>\n",
       "      <td>Credit One Bank</td>\n",
       "      <td>[travel, keep, customer, service, lock, transa...</td>\n",
       "      <td>[travel, keep, customer_service, lock, transac...</td>\n",
       "      <td>[travel, keep, customer_service, lock, transac...</td>\n",
       "    </tr>\n",
       "    <tr>\n",
       "      <td>2</td>\n",
       "      <td>great card to have! love all the additional cr...</td>\n",
       "      <td>5.0</td>\n",
       "      <td>Capital One Quicksilver Rewards</td>\n",
       "      <td>[great, love, additional, rating, check, feature]</td>\n",
       "      <td>[great, love, additional, rating, check, feature]</td>\n",
       "      <td>[great, love, additional, rating, check, feature]</td>\n",
       "    </tr>\n",
       "    <tr>\n",
       "      <td>3</td>\n",
       "      <td>no tengo tanta experiencia asi que no puedo da...</td>\n",
       "      <td>2.0</td>\n",
       "      <td>Citi Double Cash Card</td>\n",
       "      <td>[tengo, tanta, experiencia, asi, que, puedo, d...</td>\n",
       "      <td>[tengo, tanta, experiencia, asi, que, puedo, d...</td>\n",
       "      <td>[tengo, tanta, experiencia, asi, que, puedo, d...</td>\n",
       "    </tr>\n",
       "    <tr>\n",
       "      <td>4</td>\n",
       "      <td>this is a basic credit card  the cash back dea...</td>\n",
       "      <td>4.0</td>\n",
       "      <td>Bank of America Cash Rewards Credit Card</td>\n",
       "      <td>[basic, cash, back, deal, nice, cash, year, an...</td>\n",
       "      <td>[basic, cash_back, deal, nice, cash, year, ann...</td>\n",
       "      <td>[basic, cash_back, deal, nice, cash, year, ann...</td>\n",
       "    </tr>\n",
       "  </tbody>\n",
       "</table>\n",
       "</div>"
      ],
      "text/plain": [
       "                                             reviews  \\\n",
       "0  great card! we get cash back for our grocery a...   \n",
       "1  while traveling we had to keep calling the cre...   \n",
       "2  great card to have! love all the additional cr...   \n",
       "3  no tengo tanta experiencia asi que no puedo da...   \n",
       "4  this is a basic credit card  the cash back dea...   \n",
       "\n",
       "   rating  \\\n",
       "0     4.0   \n",
       "1     1.0   \n",
       "2     5.0   \n",
       "3     2.0   \n",
       "4     4.0   \n",
       "\n",
       "                                    company  \\\n",
       "0     American Express Blue Cash Preferred    \n",
       "1                           Credit One Bank   \n",
       "2           Capital One Quicksilver Rewards   \n",
       "3                     Citi Double Cash Card   \n",
       "4  Bank of America Cash Rewards Credit Card   \n",
       "\n",
       "                                              tokens  \\\n",
       "0  [great, cash, back, grocery, gas, purchase, fo...   \n",
       "1  [travel, keep, customer, service, lock, transa...   \n",
       "2  [great, love, additional, rating, check, feature]   \n",
       "3  [tengo, tanta, experiencia, asi, que, puedo, d...   \n",
       "4  [basic, cash, back, deal, nice, cash, year, an...   \n",
       "\n",
       "                                       bigram_tokens  \\\n",
       "0  [great, cash_back, grocery_gas, purchase, food...   \n",
       "1  [travel, keep, customer_service, lock, transac...   \n",
       "2  [great, love, additional, rating, check, feature]   \n",
       "3  [tengo, tanta, experiencia, asi, que, puedo, d...   \n",
       "4  [basic, cash_back, deal, nice, cash, year, ann...   \n",
       "\n",
       "                                      trigram_tokens  \n",
       "0  [great, cash_back, grocery_gas, purchase, food...  \n",
       "1  [travel, keep, customer_service, lock, transac...  \n",
       "2  [great, love, additional, rating, check, feature]  \n",
       "3  [tengo, tanta, experiencia, asi, que, puedo, d...  \n",
       "4  [basic, cash_back, deal, nice, cash, year, ann...  "
      ]
     },
     "execution_count": 18,
     "metadata": {},
     "output_type": "execute_result"
    }
   ],
   "source": [
    "df['bigram_tokens'] = add_bigram(df.tokens)\n",
    "df['trigram_tokens'] = add_trigram(df.tokens)\n",
    "df.head()"
   ]
  },
  {
   "cell_type": "code",
   "execution_count": 19,
   "metadata": {
    "scrolled": false
   },
   "outputs": [
    {
     "name": "stdout",
     "output_type": "stream",
     "text": [
      "Dictionary(14540 unique tokens: ['apr_little_high', 'cash_back', 'food_gas', 'fully', 'great']...)\n",
      "Number of documents: 25708\n"
     ]
    }
   ],
   "source": [
    "# Create a dictornary, i.e associate each unique token with unique integer ID\n",
    "dictionary = corpora.Dictionary(df.trigram_tokens)\n",
    "print(dictionary)\n",
    "\n",
    "# Bag of words (document-term matrix)\n",
    "corpus = [dictionary.doc2bow(text) for text in df.trigram_tokens]\n",
    "print('Number of documents: %s'%len(corpus))"
   ]
  },
  {
   "cell_type": "code",
   "execution_count": 21,
   "metadata": {},
   "outputs": [],
   "source": [
    "# Enable logging for gensim - optional\n",
    "import logging\n",
    "logging.basicConfig(format='%(asctime)s : %(levelname)s : %(message)s', level=logging.ERROR)"
   ]
  },
  {
   "cell_type": "markdown",
   "metadata": {},
   "source": [
    "# Topic modeling with LDA"
   ]
  },
  {
   "cell_type": "code",
   "execution_count": 22,
   "metadata": {},
   "outputs": [],
   "source": [
    "model_list, topic_coherence = compute_coherence_lda(corpus, dictionary, start=2, limit=40, step=3)"
   ]
  },
  {
   "cell_type": "code",
   "execution_count": 23,
   "metadata": {},
   "outputs": [
    {
     "data": {
      "image/png": "[encoded data removed]",
      "text/plain": [
       "<Figure size 432x288 with 1 Axes>"
      ]
     },
     "metadata": {
      "needs_background": "light"
     },
     "output_type": "display_data"
    }
   ],
   "source": [
    "# Plot\n",
    "num_topics = range(2, 40, 3)\n",
    "plt.plot(num_topics, topic_coherence)\n",
    "plt.xlabel(\"Number of topics\")\n",
    "plt.ylabel(\"Coherence score\")\n",
    "plt.legend((\"coherence_values\"), loc='best')\n",
    "plt.savefig('../figures/topic_coherence.png')"
   ]
  },
  {
   "cell_type": "code",
   "execution_count": 24,
   "metadata": {},
   "outputs": [
    {
     "name": "stdout",
     "output_type": "stream",
     "text": [
      "2 topics  have coherence score of 0.2811\n",
      "5 topics  have coherence score of 0.2988\n",
      "8 topics  have coherence score of 0.3006\n",
      "11 topics  have coherence score of 0.3085\n",
      "14 topics  have coherence score of 0.2915\n",
      "17 topics  have coherence score of 0.2918\n",
      "20 topics  have coherence score of 0.2874\n",
      "23 topics  have coherence score of 0.2718\n",
      "26 topics  have coherence score of 0.2843\n",
      "29 topics  have coherence score of 0.2881\n",
      "32 topics  have coherence score of 0.2662\n",
      "35 topics  have coherence score of 0.277\n",
      "38 topics  have coherence score of 0.2681\n"
     ]
    }
   ],
   "source": [
    "# Print the coherence scores\n",
    "for top, cv in zip(num_topics, topic_coherence):\n",
    "    print(\"{} topics  have coherence score of {}\".format(top, round(cv, 4)))"
   ]
  },
  {
   "cell_type": "code",
   "execution_count": 25,
   "metadata": {
    "scrolled": false
   },
   "outputs": [],
   "source": [
    "optimal_lda = model_list[3]"
   ]
  },
  {
   "cell_type": "code",
   "execution_count": 27,
   "metadata": {},
   "outputs": [
    {
     "data": {
      "text/plain": [
       "[(0,\n",
       "  '0.062*\"point\" + 0.052*\"great\" + 0.038*\"reward\" + 0.034*\"love\" + 0.033*\"travel\" + 0.029*\"easy\" + 0.024*\"customer_service\" + 0.018*\"like\" + 0.014*\"good\" + 0.014*\"purchase\"'),\n",
       " (1,\n",
       "  '0.053*\"purchase\" + 0.015*\"item\" + 0.015*\"back\" + 0.014*\"store\" + 0.014*\"like\" + 0.013*\"gift\" + 0.010*\"reward\" + 0.009*\"prime\" + 0.009*\"buy\" + 0.009*\"point\"'),\n",
       " (2,\n",
       "  '0.065*\"cash_back\" + 0.051*\"reward\" + 0.047*\"love\" + 0.028*\"great\" + 0.026*\"like\" + 0.022*\"purchase\" + 0.014*\"much\" + 0.013*\"back\" + 0.012*\"easy\" + 0.012*\"feature\"'),\n",
       " (3,\n",
       "  '0.021*\"company\" + 0.019*\"phone\" + 0.014*\"issue\" + 0.013*\"charge\" + 0.012*\"online\" + 0.012*\"pay\" + 0.011*\"customer_service\" + 0.010*\"people\" + 0.010*\"problem\" + 0.010*\"website\"'),\n",
       " (4,\n",
       "  '0.027*\"apply\" + 0.023*\"bank\" + 0.020*\"secure\" + 0.020*\"approve\" + 0.018*\"score\" + 0.012*\"deposit\" + 0.010*\"best\" + 0.010*\"application\" + 0.010*\"bad\" + 0.009*\"good\"'),\n",
       " (5,\n",
       "  '0.039*\"pay\" + 0.030*\"month\" + 0.029*\"interest\" + 0.020*\"year\" + 0.018*\"balance\" + 0.016*\"charge\" + 0.016*\"fee\" + 0.015*\"purchase\" + 0.012*\"limit\" + 0.012*\"offer\"'),\n",
       " (6,\n",
       "  '0.026*\"travel\" + 0.024*\"mile\" + 0.014*\"great\" + 0.013*\"que\" + 0.012*\"flight\" + 0.011*\"helpful\" + 0.011*\"customer_service\" + 0.011*\"purchase\" + 0.010*\"trip\" + 0.010*\"love\"'),\n",
       " (7,\n",
       "  '0.022*\"told\" + 0.021*\"charge\" + 0.017*\"close\" + 0.012*\"company\" + 0.012*\"cancel\" + 0.011*\"back\" + 0.011*\"bank\" + 0.011*\"receive\" + 0.010*\"paid\" + 0.010*\"still\"'),\n",
       " (8,\n",
       "  '0.012*\"company\" + 0.012*\"customer\" + 0.008*\"bank\" + 0.008*\"email\" + 0.007*\"customer_service\" + 0.007*\"problem\" + 0.007*\"payment\" + 0.007*\"year\" + 0.007*\"well\" + 0.006*\"business\"'),\n",
       " (9,\n",
       "  '0.103*\"payment\" + 0.030*\"day\" + 0.023*\"bank\" + 0.017*\"pay\" + 0.012*\"receive\" + 0.012*\"due\" + 0.011*\"balance\" + 0.011*\"charge\" + 0.010*\"check\" + 0.010*\"month\"'),\n",
       " (10,\n",
       "  '0.034*\"great\" + 0.027*\"good\" + 0.021*\"bank\" + 0.017*\"like\" + 0.017*\"reward\" + 0.015*\"customer_service\" + 0.013*\"help\" + 0.012*\"love\" + 0.012*\"easy\" + 0.011*\"well\"')]"
      ]
     },
     "execution_count": 27,
     "metadata": {},
     "output_type": "execute_result"
    }
   ],
   "source": [
    "optimal_lda.show_topics(num_topics=11, num_words=10)"
   ]
  },
  {
   "cell_type": "code",
   "execution_count": 28,
   "metadata": {},
   "outputs": [],
   "source": [
    "# from wordcloud import WordCloud"
   ]
  },
  {
   "cell_type": "code",
   "execution_count": 29,
   "metadata": {},
   "outputs": [],
   "source": [
    "# fig, axes = plt.subplots(2,4, figsize=(15,10), sharex=True, sharey=True)\n",
    "# for i, ax in enumerate(axes.flatten()):\n",
    "#     fig.add_subplot(ax)\n",
    "#     topics = optimal_lda.show_topics(num_topics=20, num_words=20, formatted=False)\n",
    "#     plt.imshow(WordCloud().fit_words(dict(topics[i][1])))\n",
    "#     plt.axis(\"off\")\n",
    "#     plt.title(\"Topic {}\".format(i))\n",
    "# plt.savefig('../figures/fig3.pdf')"
   ]
  },
  {
   "cell_type": "code",
   "execution_count": 30,
   "metadata": {},
   "outputs": [],
   "source": [
    "import pyLDAvis.gensim"
   ]
  },
  {
   "cell_type": "code",
   "execution_count": null,
   "metadata": {},
   "outputs": [],
   "source": [
    "pyLDAvis.enable_notebook()\n",
    "pyLDAvis.gensim.prepare(optimal_lda, corpus, dictionary,sort_topics=False)"
   ]
  }
 ],
 "metadata": {
  "kernelspec": {
   "display_name": "Python 3",
   "language": "python",
   "name": "python3"
  },
  "language_info": {
   "codemirror_mode": {
    "name": "ipython",
    "version": 3
   },
   "file_extension": ".py",
   "mimetype": "text/x-python",
   "name": "python",
   "nbconvert_exporter": "python",
   "pygments_lexer": "ipython3",
   "version": "3.7.3"
  }
 },
 "nbformat": 4,
 "nbformat_minor": 2
}
