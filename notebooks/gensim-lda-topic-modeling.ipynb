{
 "cells": [
  {
   "cell_type": "markdown",
   "metadata": {},
   "source": [
    "# LDA Topic Modeling\n",
    "\n",
    "This notebook implements topic modeling using gensim LDA"
   ]
  },
  {
   "cell_type": "markdown",
   "metadata": {},
   "source": [
    "## Imports"
   ]
  },
  {
   "cell_type": "code",
   "execution_count": 1,
   "metadata": {},
   "outputs": [],
   "source": [
    "%matplotlib inline\n",
    "import pandas as pd\n",
    "import numpy as np\n",
    "import re\n",
    "import pickle\n",
    "import joblib\n",
    "import matplotlib.pyplot as plt\n",
    "import seaborn as sns\n",
    "import nltk\n",
    "from nltk.tokenize import sent_tokenize\n",
    "from nltk.corpus import stopwords\n",
    "import gensim\n",
    "from gensim import corpora, models\n",
    "from gensim.models import CoherenceModel, LdaModel, LdaMulticore\n",
    "pd.set_option('display.width',-1)\n"
   ]
  },
  {
   "cell_type": "code",
   "execution_count": 2,
   "metadata": {},
   "outputs": [],
   "source": [
    "# run some files containing custom functions\n",
    "%run -i '../scripts/helper_functions.py'"
   ]
  },
  {
   "cell_type": "markdown",
   "metadata": {},
   "source": [
    "## Load Data"
   ]
  },
  {
   "cell_type": "code",
   "execution_count": 3,
   "metadata": {},
   "outputs": [
    {
     "data": {
      "text/html": [
       "<div>\n",
       "<style scoped>\n",
       "    .dataframe tbody tr th:only-of-type {\n",
       "        vertical-align: middle;\n",
       "    }\n",
       "\n",
       "    .dataframe tbody tr th {\n",
       "        vertical-align: top;\n",
       "    }\n",
       "\n",
       "    .dataframe thead th {\n",
       "        text-align: right;\n",
       "    }\n",
       "</style>\n",
       "<table border=\"1\" class=\"dataframe\">\n",
       "  <thead>\n",
       "    <tr style=\"text-align: right;\">\n",
       "      <th></th>\n",
       "      <th>reviews</th>\n",
       "      <th>rating</th>\n",
       "      <th>company</th>\n",
       "    </tr>\n",
       "  </thead>\n",
       "  <tbody>\n",
       "    <tr>\n",
       "      <td>0</td>\n",
       "      <td>Great card! We get cash back for our grocery a...</td>\n",
       "      <td>4.0</td>\n",
       "      <td>American Express Blue Cash Preferred</td>\n",
       "    </tr>\n",
       "    <tr>\n",
       "      <td>1</td>\n",
       "      <td>While traveling we had to keep calling the Cre...</td>\n",
       "      <td>1.0</td>\n",
       "      <td>Credit One Bank</td>\n",
       "    </tr>\n",
       "    <tr>\n",
       "      <td>2</td>\n",
       "      <td>Great card to have! Love all the additional cr...</td>\n",
       "      <td>5.0</td>\n",
       "      <td>Capital One Quicksilver Rewards</td>\n",
       "    </tr>\n",
       "    <tr>\n",
       "      <td>3</td>\n",
       "      <td>no tengo tanta experiencia asi que no puedo da...</td>\n",
       "      <td>2.0</td>\n",
       "      <td>Citi Double Cash Card</td>\n",
       "    </tr>\n",
       "    <tr>\n",
       "      <td>4</td>\n",
       "      <td>This is a basic credit card. The cash back dea...</td>\n",
       "      <td>4.0</td>\n",
       "      <td>Bank of America Cash Rewards Credit Card</td>\n",
       "    </tr>\n",
       "  </tbody>\n",
       "</table>\n",
       "</div>"
      ],
      "text/plain": [
       "                                             reviews  \\\n",
       "0  Great card! We get cash back for our grocery a...   \n",
       "1  While traveling we had to keep calling the Cre...   \n",
       "2  Great card to have! Love all the additional cr...   \n",
       "3  no tengo tanta experiencia asi que no puedo da...   \n",
       "4  This is a basic credit card. The cash back dea...   \n",
       "\n",
       "   rating  \\\n",
       "0     4.0   \n",
       "1     1.0   \n",
       "2     5.0   \n",
       "3     2.0   \n",
       "4     4.0   \n",
       "\n",
       "                                    company  \n",
       "0     American Express Blue Cash Preferred   \n",
       "1                           Credit One Bank  \n",
       "2           Capital One Quicksilver Rewards  \n",
       "3                     Citi Double Cash Card  \n",
       "4  Bank of America Cash Rewards Credit Card  "
      ]
     },
     "execution_count": 3,
     "metadata": {},
     "output_type": "execute_result"
    }
   ],
   "source": [
    "df = pd.read_csv('../data/all_data.csv')\n",
    "df.head()"
   ]
  },
  {
   "cell_type": "code",
   "execution_count": 4,
   "metadata": {
    "scrolled": true
   },
   "outputs": [
    {
     "data": {
      "text/plain": [
       "(25708, 3)"
      ]
     },
     "execution_count": 4,
     "metadata": {},
     "output_type": "execute_result"
    }
   ],
   "source": [
    "df.shape"
   ]
  },
  {
   "cell_type": "code",
   "execution_count": 5,
   "metadata": {
    "scrolled": true
   },
   "outputs": [
    {
     "name": "stdout",
     "output_type": "stream",
     "text": [
      "<class 'pandas.core.frame.DataFrame'>\n",
      "RangeIndex: 25708 entries, 0 to 25707\n",
      "Data columns (total 3 columns):\n",
      "reviews    25708 non-null object\n",
      "rating     25708 non-null float64\n",
      "company    25708 non-null object\n",
      "dtypes: float64(1), object(2)\n",
      "memory usage: 602.7+ KB\n"
     ]
    }
   ],
   "source": [
    "df.info()"
   ]
  },
  {
   "cell_type": "code",
   "execution_count": 6,
   "metadata": {},
   "outputs": [],
   "source": [
    "# Drop rows with missing value if any\n",
    "df = df.dropna().reset_index(drop = True)"
   ]
  },
  {
   "cell_type": "code",
   "execution_count": 7,
   "metadata": {},
   "outputs": [],
   "source": [
    "# Remove wide space in review texts\n",
    "df['reviews']  = df['reviews'].apply(detokenizer)\n",
    "df.to_csv('../data/all_data.csv', index = False) # save as csv file"
   ]
  },
  {
   "cell_type": "code",
   "execution_count": 8,
   "metadata": {},
   "outputs": [
    {
     "name": "stdout",
     "output_type": "stream",
     "text": [
      "Review: Great experience with American Express. Their customer service is outstanding, and they are invariably pleasant to deal with - including a next-day ship on a misplaced card. The cashback is another great feature!\n",
      "Rating: 5.0\n",
      "Credit card: American Express Blue Cash Preferred \n"
     ]
    }
   ],
   "source": [
    "#Display the index row\n",
    "print_review(df, index =25247)"
   ]
  },
  {
   "cell_type": "code",
   "execution_count": 9,
   "metadata": {},
   "outputs": [],
   "source": [
    "# reload the data\n",
    "df =pd.read_csv('../data/all_data.csv') "
   ]
  },
  {
   "cell_type": "code",
   "execution_count": 10,
   "metadata": {
    "scrolled": false
   },
   "outputs": [
    {
     "data": {
      "text/plain": [
       "company\n",
       "Bank of America Cash Rewards Credit Card    2476\n",
       "Capital One Quicksilver Rewards             2292\n",
       "Capital One Venture Rewards                 2204\n",
       "Capital One Platinum                        2103\n",
       "Credit One Bank                             2016\n",
       "Name: reviews, dtype: int64"
      ]
     },
     "execution_count": 10,
     "metadata": {},
     "output_type": "execute_result"
    }
   ],
   "source": [
    "review_count = df.groupby('company')['reviews'].count().sort_values(ascending = False)\n",
    "review_count.head()"
   ]
  },
  {
   "cell_type": "code",
   "execution_count": 11,
   "metadata": {},
   "outputs": [
    {
     "data": {
      "text/plain": [
       "40"
      ]
     },
     "execution_count": 11,
     "metadata": {},
     "output_type": "execute_result"
    }
   ],
   "source": [
    "len(review_count)"
   ]
  },
  {
   "cell_type": "code",
   "execution_count": 12,
   "metadata": {},
   "outputs": [
    {
     "data": {
      "image/png": "[encoded data removed]",
      "text/plain": [
       "<Figure size 576x360 with 1 Axes>"
      ]
     },
     "metadata": {
      "needs_background": "light"
     },
     "output_type": "display_data"
    }
   ],
   "source": [
    "df.groupby('rating')['reviews'].count().plot(kind = 'bar', figsize = (8,5))\n",
    "plt.ylabel('number of reviews')\n",
    "plt.savefig('../image/rating.png')"
   ]
  },
  {
   "cell_type": "markdown",
   "metadata": {},
   "source": [
    "# Data Pre-processing\n",
    "- Document cleaning\n",
    "- Tokenization\n",
    "- Lemmatization\n",
    "- Stopwords removal\n",
    "- Bag of words\n",
    "- Topic modeling with LDA"
   ]
  },
  {
   "cell_type": "code",
   "execution_count": 13,
   "metadata": {},
   "outputs": [],
   "source": [
    "# text preprocessing\n",
    "df = pre_process_text(df, 'reviews') "
   ]
  },
  {
   "cell_type": "code",
   "execution_count": 15,
   "metadata": {},
   "outputs": [],
   "source": [
    "# tokenization\n",
    "df['tokens'] =  df['reviews'].apply(my_tokenizer)"
   ]
  },
  {
   "cell_type": "code",
   "execution_count": 16,
   "metadata": {},
   "outputs": [],
   "source": [
    "def word_count(text):\n",
    "    \"\"\"Plot the most frequency words in the corpus\"\"\"\n",
    "    all_reviews = ' '.join(text) # join all reviews\n",
    "    token_count = Counter(my_tokenizer(all_reviews)) # count each word\n",
    "    common_words =  dict( token_count.most_common(n=25) ) # count most common 20 words\n",
    "    freq_plot = pd.Series(common_words, index=None).plot(kind = 'bar', figsize=(12,8))\n",
    "    plt.ylabel('count')\n",
    "    plt.savefig('../figures/fig2.pdf')"
   ]
  },
  {
   "cell_type": "code",
   "execution_count": 17,
   "metadata": {},
   "outputs": [
    {
     "data": {
      "image/png": "[encoded data removed]",
      "text/plain": [
       "<Figure size 864x576 with 1 Axes>"
      ]
     },
     "metadata": {
      "needs_background": "light"
     },
     "output_type": "display_data"
    }
   ],
   "source": [
    "word_count(df.reviews)"
   ]
  },
  {
   "cell_type": "markdown",
   "metadata": {},
   "source": [
    "## Bigrams and Trigrams"
   ]
  },
  {
   "cell_type": "code",
   "execution_count": 18,
   "metadata": {},
   "outputs": [
    {
     "data": {
      "text/html": [
       "<div>\n",
       "<style scoped>\n",
       "    .dataframe tbody tr th:only-of-type {\n",
       "        vertical-align: middle;\n",
       "    }\n",
       "\n",
       "    .dataframe tbody tr th {\n",
       "        vertical-align: top;\n",
       "    }\n",
       "\n",
       "    .dataframe thead th {\n",
       "        text-align: right;\n",
       "    }\n",
       "</style>\n",
       "<table border=\"1\" class=\"dataframe\">\n",
       "  <thead>\n",
       "    <tr style=\"text-align: right;\">\n",
       "      <th></th>\n",
       "      <th>reviews</th>\n",
       "      <th>rating</th>\n",
       "      <th>company</th>\n",
       "      <th>tokens</th>\n",
       "      <th>bigram_tokens</th>\n",
       "      <th>trigram_tokens</th>\n",
       "    </tr>\n",
       "  </thead>\n",
       "  <tbody>\n",
       "    <tr>\n",
       "      <td>0</td>\n",
       "      <td>great card! we get cash back for our grocery a...</td>\n",
       "      <td>4.0</td>\n",
       "      <td>American Express Blue Cash Preferred</td>\n",
       "      <td>[great, cash, back, grocery, gas, purchase, fo...</td>\n",
       "      <td>[great, cash_back, grocery_gas, purchase, food...</td>\n",
       "      <td>[great, cash_back, grocery_gas, purchase, food...</td>\n",
       "    </tr>\n",
       "    <tr>\n",
       "      <td>1</td>\n",
       "      <td>while traveling we had to keep calling the cre...</td>\n",
       "      <td>1.0</td>\n",
       "      <td>Credit One Bank</td>\n",
       "      <td>[travel, keep, customer, service, lock, transa...</td>\n",
       "      <td>[travel, keep, customer_service, lock, transac...</td>\n",
       "      <td>[travel, keep, customer_service, lock, transac...</td>\n",
       "    </tr>\n",
       "    <tr>\n",
       "      <td>2</td>\n",
       "      <td>great card to have! love all the additional cr...</td>\n",
       "      <td>5.0</td>\n",
       "      <td>Capital One Quicksilver Rewards</td>\n",
       "      <td>[great, love, additional, rating, check, feature]</td>\n",
       "      <td>[great, love, additional, rating, check, feature]</td>\n",
       "      <td>[great, love, additional, rating, check, feature]</td>\n",
       "    </tr>\n",
       "    <tr>\n",
       "      <td>3</td>\n",
       "      <td>no tengo tanta experiencia asi que no puedo da...</td>\n",
       "      <td>2.0</td>\n",
       "      <td>Citi Double Cash Card</td>\n",
       "      <td>[tengo, tanta, experiencia, asi, que, puedo, d...</td>\n",
       "      <td>[tengo, tanta, experiencia, asi, que, puedo, d...</td>\n",
       "      <td>[tengo, tanta, experiencia, asi, que, puedo, d...</td>\n",
       "    </tr>\n",
       "    <tr>\n",
       "      <td>4</td>\n",
       "      <td>this is a basic credit card  the cash back dea...</td>\n",
       "      <td>4.0</td>\n",
       "      <td>Bank of America Cash Rewards Credit Card</td>\n",
       "      <td>[basic, cash, back, deal, nice, cash, year, an...</td>\n",
       "      <td>[basic, cash_back, deal, nice, cash, year, ann...</td>\n",
       "      <td>[basic, cash_back, deal, nice, cash, year, ann...</td>\n",
       "    </tr>\n",
       "  </tbody>\n",
       "</table>\n",
       "</div>"
      ],
      "text/plain": [
       "                                             reviews  \\\n",
       "0  great card! we get cash back for our grocery a...   \n",
       "1  while traveling we had to keep calling the cre...   \n",
       "2  great card to have! love all the additional cr...   \n",
       "3  no tengo tanta experiencia asi que no puedo da...   \n",
       "4  this is a basic credit card  the cash back dea...   \n",
       "\n",
       "   rating  \\\n",
       "0     4.0   \n",
       "1     1.0   \n",
       "2     5.0   \n",
       "3     2.0   \n",
       "4     4.0   \n",
       "\n",
       "                                    company  \\\n",
       "0     American Express Blue Cash Preferred    \n",
       "1                           Credit One Bank   \n",
       "2           Capital One Quicksilver Rewards   \n",
       "3                     Citi Double Cash Card   \n",
       "4  Bank of America Cash Rewards Credit Card   \n",
       "\n",
       "                                              tokens  \\\n",
       "0  [great, cash, back, grocery, gas, purchase, fo...   \n",
       "1  [travel, keep, customer, service, lock, transa...   \n",
       "2  [great, love, additional, rating, check, feature]   \n",
       "3  [tengo, tanta, experiencia, asi, que, puedo, d...   \n",
       "4  [basic, cash, back, deal, nice, cash, year, an...   \n",
       "\n",
       "                                       bigram_tokens  \\\n",
       "0  [great, cash_back, grocery_gas, purchase, food...   \n",
       "1  [travel, keep, customer_service, lock, transac...   \n",
       "2  [great, love, additional, rating, check, feature]   \n",
       "3  [tengo, tanta, experiencia, asi, que, puedo, d...   \n",
       "4  [basic, cash_back, deal, nice, cash, year, ann...   \n",
       "\n",
       "                                      trigram_tokens  \n",
       "0  [great, cash_back, grocery_gas, purchase, food...  \n",
       "1  [travel, keep, customer_service, lock, transac...  \n",
       "2  [great, love, additional, rating, check, feature]  \n",
       "3  [tengo, tanta, experiencia, asi, que, puedo, d...  \n",
       "4  [basic, cash_back, deal, nice, cash, year, ann...  "
      ]
     },
     "execution_count": 18,
     "metadata": {},
     "output_type": "execute_result"
    }
   ],
   "source": [
    "df['bigram_tokens'] = add_bigram(df.tokens)\n",
    "df['trigram_tokens'] = add_trigram(df.tokens)\n",
    "df.head()"
   ]
  },
  {
   "cell_type": "code",
   "execution_count": 19,
   "metadata": {
    "scrolled": false
   },
   "outputs": [
    {
     "name": "stdout",
     "output_type": "stream",
     "text": [
      "Dictionary(14540 unique tokens: ['apr_little_high', 'cash_back', 'food_gas', 'fully', 'great']...)\n",
      "Number of documents: 25708\n"
     ]
    }
   ],
   "source": [
    "# Create a dictornary, i.e associate each unique token with unique integer ID\n",
    "dictionary = corpora.Dictionary(df.trigram_tokens)\n",
    "print(dictionary)\n",
    "\n",
    "# Bag of words (document-term matrix)\n",
    "corpus = [dictionary.doc2bow(text) for text in df.trigram_tokens]\n",
    "print('Number of documents: %s'%len(corpus))"
   ]
  },
  {
   "cell_type": "code",
   "execution_count": 20,
   "metadata": {},
   "outputs": [],
   "source": [
    "# Enable logging for gensim - optional\n",
    "import logging\n",
    "logging.basicConfig(format='%(asctime)s : %(levelname)s : %(message)s', level=logging.ERROR)"
   ]
  },
  {
   "cell_type": "markdown",
   "metadata": {},
   "source": [
    "# Topic modeling with LDA"
   ]
  },
  {
   "cell_type": "code",
   "execution_count": 21,
   "metadata": {},
   "outputs": [],
   "source": [
    "model_list, topic_coherence = compute_coherence_lda(corpus, dictionary, start=2, limit=40, step=6)"
   ]
  },
  {
   "cell_type": "code",
   "execution_count": 22,
   "metadata": {},
   "outputs": [
    {
     "data": {
      "image/png": "[encoded data removed]",
      "text/plain": [
       "<Figure size 432x288 with 1 Axes>"
      ]
     },
     "metadata": {
      "needs_background": "light"
     },
     "output_type": "display_data"
    }
   ],
   "source": [
    "# Plot\n",
    "num_topics = range(2, 40, 6)\n",
    "plt.plot(num_topics, topic_coherence)\n",
    "plt.xlabel(\"Number of topics\")\n",
    "plt.ylabel(\"Coherence score\")\n",
    "plt.legend((\"coherence_values\"), loc='best')\n",
    "plt.savefig('../figures/topic_coherence.png')"
   ]
  },
  {
   "cell_type": "code",
   "execution_count": 23,
   "metadata": {},
   "outputs": [
    {
     "name": "stdout",
     "output_type": "stream",
     "text": [
      "2 topics  have coherence score of 0.2811\n",
      "8 topics  have coherence score of 0.3006\n",
      "14 topics  have coherence score of 0.2915\n",
      "20 topics  have coherence score of 0.2874\n",
      "26 topics  have coherence score of 0.2843\n",
      "32 topics  have coherence score of 0.2662\n",
      "38 topics  have coherence score of 0.2681\n"
     ]
    }
   ],
   "source": [
    "# Print the coherence scores\n",
    "for top, cv in zip(num_topics, topic_coherence):\n",
    "    print(\"{} topics  have coherence score of {}\".format(top, round(cv, 4)))"
   ]
  },
  {
   "cell_type": "code",
   "execution_count": 24,
   "metadata": {
    "scrolled": false
   },
   "outputs": [],
   "source": [
    "optimal_lda = model_list[1]"
   ]
  },
  {
   "cell_type": "code",
   "execution_count": 25,
   "metadata": {},
   "outputs": [
    {
     "data": {
      "text/plain": [
       "[(15,\n",
       "  '0.031*\"mile\" + 0.020*\"ticket\" + 0.019*\"flight\" + 0.012*\"like\" + 0.012*\"acct\" + 0.009*\"muy\" + 0.009*\"son\" + 0.009*\"attention\" + 0.009*\"able\" + 0.008*\"collect\"'),\n",
       " (11,\n",
       "  '0.026*\"limit\" + 0.019*\"purchase\" + 0.017*\"approve\" + 0.013*\"application\" + 0.012*\"apply\" + 0.012*\"small\" + 0.011*\"still\" + 0.010*\"crazy\" + 0.010*\"since\" + 0.010*\"towards\"'),\n",
       " (6,\n",
       "  '0.018*\"money\" + 0.015*\"purchase\" + 0.013*\"child_support\" + 0.012*\"bank\" + 0.011*\"kind\" + 0.010*\"steal\" + 0.009*\"trouble\" + 0.009*\"keep\" + 0.009*\"hassle\" + 0.009*\"direct_deposit\"'),\n",
       " (19,\n",
       "  '0.036*\"charge\" + 0.035*\"paid\" + 0.026*\"receive\" + 0.022*\"balance\" + 0.019*\"late_fee\" + 0.019*\"statement\" + 0.017*\"bill\" + 0.016*\"late\" + 0.015*\"day\" + 0.015*\"month\"'),\n",
       " (9,\n",
       "  '0.018*\"payment\" + 0.016*\"system\" + 0.015*\"information\" + 0.015*\"day\" + 0.013*\"que\" + 0.012*\"receive\" + 0.010*\"agent\" + 0.010*\"info\" + 0.009*\"online\" + 0.009*\"bank\"'),\n",
       " (10,\n",
       "  '0.022*\"help\" + 0.019*\"people\" + 0.018*\"company\" + 0.016*\"work\" + 0.014*\"well\" + 0.013*\"secure\" + 0.012*\"great\" + 0.011*\"like\" + 0.009*\"limit\" + 0.008*\"money\"'),\n",
       " (5,\n",
       "  '0.059*\"pay\" + 0.052*\"interest\" + 0.040*\"month\" + 0.032*\"fee\" + 0.031*\"charge\" + 0.025*\"balance\" + 0.016*\"purchase\" + 0.016*\"year\" + 0.010*\"balance_transfer\" + 0.009*\"annual_fee\"'),\n",
       " (13,\n",
       "  '0.119*\"great\" + 0.080*\"love\" + 0.058*\"customer_service\" + 0.051*\"easy\" + 0.022*\"service\" + 0.020*\"app\" + 0.019*\"excellent\" + 0.017*\"best\" + 0.017*\"benefit\" + 0.014*\"helpful\"'),\n",
       " (7,\n",
       "  '0.027*\"told\" + 0.023*\"close\" + 0.022*\"charge\" + 0.015*\"bank\" + 0.013*\"cancel\" + 0.013*\"company\" + 0.011*\"back\" + 0.011*\"day\" + 0.011*\"receive\" + 0.010*\"phone\"'),\n",
       " (2,\n",
       "  '0.030*\"reward\" + 0.029*\"good\" + 0.028*\"like\" + 0.027*\"great\" + 0.024*\"cash_back\" + 0.021*\"offer\" + 0.017*\"year\" + 0.016*\"well\" + 0.016*\"annual_fee\" + 0.016*\"interest_rate\"'),\n",
       " (18,\n",
       "  '0.055*\"cash_back\" + 0.052*\"reward\" + 0.041*\"love\" + 0.032*\"great\" + 0.031*\"bank\" + 0.026*\"like\" + 0.025*\"purchase\" + 0.016*\"point\" + 0.011*\"easy\" + 0.011*\"thing\"')]"
      ]
     },
     "execution_count": 25,
     "metadata": {},
     "output_type": "execute_result"
    }
   ],
   "source": [
    "optimal_lda.show_topics(num_topics=11, num_words=10)"
   ]
  },
  {
   "cell_type": "code",
   "execution_count": 26,
   "metadata": {},
   "outputs": [],
   "source": [
    "# from wordcloud import WordCloud"
   ]
  },
  {
   "cell_type": "code",
   "execution_count": 27,
   "metadata": {},
   "outputs": [],
   "source": [
    "# fig, axes = plt.subplots(2,4, figsize=(15,10), sharex=True, sharey=True)\n",
    "# for i, ax in enumerate(axes.flatten()):\n",
    "#     fig.add_subplot(ax)\n",
    "#     topics = optimal_lda.show_topics(num_topics=20, num_words=20, formatted=False)\n",
    "#     plt.imshow(WordCloud().fit_words(dict(topics[i][1])))\n",
    "#     plt.axis(\"off\")\n",
    "#     plt.title(\"Topic {}\".format(i))\n",
    "# plt.savefig('../figures/fig3.pdf')"
   ]
  },
  {
   "cell_type": "code",
   "execution_count": 28,
   "metadata": {},
   "outputs": [],
   "source": [
    "import pyLDAvis.gensim"
   ]
  },
  {
   "cell_type": "code",
   "execution_count": 29,
   "metadata": {},
   "outputs": [],
   "source": [
    "# pyLDAvis.enable_notebook()\n",
    "# pyLDAvis.gensim.prepare(optimal_lda, corpus, dictionary,sort_topics=False)"
   ]
  }
 ],
 "metadata": {
  "kernelspec": {
   "display_name": "Python 3",
   "language": "python",
   "name": "python3"
  },
  "language_info": {
   "codemirror_mode": {
    "name": "ipython",
    "version": 3
   },
   "file_extension": ".py",
   "mimetype": "text/x-python",
   "name": "python",
   "nbconvert_exporter": "python",
   "pygments_lexer": "ipython3",
   "version": "3.7.3"
  }
 },
 "nbformat": 4,
 "nbformat_minor": 2
}
