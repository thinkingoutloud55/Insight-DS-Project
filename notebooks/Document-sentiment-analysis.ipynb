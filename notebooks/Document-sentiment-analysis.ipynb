{
 "cells": [
  {
   "cell_type": "markdown",
   "metadata": {},
   "source": [
    "# Document Level Sentiment Analysis\n",
    "This notebook shows the of sentiment analysis at the document level using VADER and TEXTBLOB"
   ]
  },
  {
   "cell_type": "markdown",
   "metadata": {},
   "source": [
    "## Imports"
   ]
  },
  {
   "cell_type": "code",
   "execution_count": 1,
   "metadata": {},
   "outputs": [],
   "source": [
    "%matplotlib inline\n",
    "import matplotlib.pyplot as plt\n",
    "import seaborn as sns\n",
    "import pandas as pd\n",
    "import numpy as np\n",
    "pd.set_option('display.width',-1)\n",
    "import re\n",
    "import pickle"
   ]
  },
  {
   "cell_type": "markdown",
   "metadata": {},
   "source": [
    "## Load Data"
   ]
  },
  {
   "cell_type": "code",
   "execution_count": 2,
   "metadata": {},
   "outputs": [
    {
     "data": {
      "text/html": [
       "<div>\n",
       "<style scoped>\n",
       "    .dataframe tbody tr th:only-of-type {\n",
       "        vertical-align: middle;\n",
       "    }\n",
       "\n",
       "    .dataframe tbody tr th {\n",
       "        vertical-align: top;\n",
       "    }\n",
       "\n",
       "    .dataframe thead th {\n",
       "        text-align: right;\n",
       "    }\n",
       "</style>\n",
       "<table border=\"1\" class=\"dataframe\">\n",
       "  <thead>\n",
       "    <tr style=\"text-align: right;\">\n",
       "      <th></th>\n",
       "      <th>reviews</th>\n",
       "      <th>rating</th>\n",
       "      <th>company</th>\n",
       "    </tr>\n",
       "  </thead>\n",
       "  <tbody>\n",
       "    <tr>\n",
       "      <td>0</td>\n",
       "      <td>Great card! We get cash back for our grocery a...</td>\n",
       "      <td>4.0</td>\n",
       "      <td>American Express Blue Cash Preferred</td>\n",
       "    </tr>\n",
       "    <tr>\n",
       "      <td>1</td>\n",
       "      <td>While traveling we had to keep calling the Cre...</td>\n",
       "      <td>1.0</td>\n",
       "      <td>Credit One Bank</td>\n",
       "    </tr>\n",
       "    <tr>\n",
       "      <td>2</td>\n",
       "      <td>Great card to have! Love all the additional cr...</td>\n",
       "      <td>5.0</td>\n",
       "      <td>Capital One Quicksilver Rewards</td>\n",
       "    </tr>\n",
       "    <tr>\n",
       "      <td>3</td>\n",
       "      <td>no tengo tanta experiencia asi que no puedo da...</td>\n",
       "      <td>2.0</td>\n",
       "      <td>Citi Double Cash Card</td>\n",
       "    </tr>\n",
       "    <tr>\n",
       "      <td>4</td>\n",
       "      <td>This is a basic credit card. The cash back dea...</td>\n",
       "      <td>4.0</td>\n",
       "      <td>Bank of America Cash Rewards Credit Card</td>\n",
       "    </tr>\n",
       "  </tbody>\n",
       "</table>\n",
       "</div>"
      ],
      "text/plain": [
       "                                             reviews  \\\n",
       "0  Great card! We get cash back for our grocery a...   \n",
       "1  While traveling we had to keep calling the Cre...   \n",
       "2  Great card to have! Love all the additional cr...   \n",
       "3  no tengo tanta experiencia asi que no puedo da...   \n",
       "4  This is a basic credit card. The cash back dea...   \n",
       "\n",
       "   rating  \\\n",
       "0     4.0   \n",
       "1     1.0   \n",
       "2     5.0   \n",
       "3     2.0   \n",
       "4     4.0   \n",
       "\n",
       "                                    company  \n",
       "0     American Express Blue Cash Preferred   \n",
       "1                           Credit One Bank  \n",
       "2           Capital One Quicksilver Rewards  \n",
       "3                     Citi Double Cash Card  \n",
       "4  Bank of America Cash Rewards Credit Card  "
      ]
     },
     "execution_count": 2,
     "metadata": {},
     "output_type": "execute_result"
    }
   ],
   "source": [
    "df = pd.read_csv('../data/all_data.csv')\n",
    "df.head()"
   ]
  },
  {
   "cell_type": "code",
   "execution_count": 3,
   "metadata": {
    "scrolled": true
   },
   "outputs": [
    {
     "data": {
      "text/plain": [
       "(25708, 3)"
      ]
     },
     "execution_count": 3,
     "metadata": {},
     "output_type": "execute_result"
    }
   ],
   "source": [
    "# Shape of data\n",
    "df.shape"
   ]
  },
  {
   "cell_type": "code",
   "execution_count": 5,
   "metadata": {},
   "outputs": [
    {
     "data": {
      "text/plain": [
       "reviews    0\n",
       "rating     0\n",
       "company    0\n",
       "dtype: int64"
      ]
     },
     "execution_count": 5,
     "metadata": {},
     "output_type": "execute_result"
    }
   ],
   "source": [
    "# Missing values\n",
    "df.isnull().sum()"
   ]
  },
  {
   "cell_type": "code",
   "execution_count": 18,
   "metadata": {},
   "outputs": [
    {
     "data": {
      "text/plain": [
       "company\n",
       "Bank of America Cash Rewards Credit Card    2476\n",
       "Capital One Quicksilver Rewards             2292\n",
       "Capital One Venture Rewards                 2204\n",
       "Capital One Platinum                        2103\n",
       "Credit One Bank                             2016\n",
       "Name: reviews, dtype: int64"
      ]
     },
     "execution_count": 18,
     "metadata": {},
     "output_type": "execute_result"
    }
   ],
   "source": [
    "# Count of total reviews to each credit card\n",
    "review_count = df.groupby('company')['reviews'].count().sort_values(ascending = False)\n",
    "review_count.head()"
   ]
  },
  {
   "cell_type": "code",
   "execution_count": 20,
   "metadata": {},
   "outputs": [
    {
     "data": {
      "text/plain": [
       "40"
      ]
     },
     "execution_count": 20,
     "metadata": {},
     "output_type": "execute_result"
    }
   ],
   "source": [
    "len(review_count)"
   ]
  },
  {
   "cell_type": "markdown",
   "metadata": {},
   "source": [
    "## Data Pre-processing"
   ]
  },
  {
   "cell_type": "code",
   "execution_count": 6,
   "metadata": {},
   "outputs": [],
   "source": [
    "def pre_process_text(data, text_string):\n",
    "    \n",
    "    data[text_string] = data[text_string].str.replace(r\"http\\S+\", \"\")\n",
    "    data[text_string] = data[text_string].str.replace(r\"http\", \"\")\n",
    "    data[text_string] = data[text_string].str.replace(r\"@\\S+\", \"\")\n",
    "    data[text_string] = data[text_string].str.replace(r\"[^A-Za-z0-9(),!?@\\'\\`\\\"\\_\\n]\", \" \")\n",
    "    data[text_string] = data[text_string].str.replace(r\"@\", \"at\")\n",
    "    data[text_string] = data[text_string].str.replace(r\"\\n\", \"\")\n",
    "    #data[text_string] = data[text_string].str.replace(r\"\\d+\", \"\")\n",
    "    data[text_string] = data[text_string].str.lower() \n",
    "    return data\n",
    "\n",
    "df = pre_process_text(df, 'reviews')"
   ]
  },
  {
   "cell_type": "markdown",
   "metadata": {},
   "source": [
    "## Sentiment Analysis with VADER and TextBlob"
   ]
  },
  {
   "cell_type": "code",
   "execution_count": 7,
   "metadata": {},
   "outputs": [],
   "source": [
    "import nltk\n",
    "from vaderSentiment.vaderSentiment import SentimentIntensityAnalyzer \n",
    "from textblob import TextBlob"
   ]
  },
  {
   "cell_type": "code",
   "execution_count": 8,
   "metadata": {},
   "outputs": [],
   "source": [
    "vader_analyser = SentimentIntensityAnalyzer()"
   ]
  },
  {
   "cell_type": "code",
   "execution_count": 9,
   "metadata": {},
   "outputs": [],
   "source": [
    "def vader_sentiment_scores(sentence):\n",
    "    score = vader_analyser.polarity_scores(sentence)\n",
    "    return score['compound']\n",
    "\n",
    "def blob_sentiment_polarity(sentence):\n",
    "    score = TextBlob(sentence).sentiment.polarity\n",
    "    return score"
   ]
  },
  {
   "cell_type": "code",
   "execution_count": 10,
   "metadata": {},
   "outputs": [],
   "source": [
    "df['vader_sentiment'] = df.reviews.apply(vader_sentiment_scores)\n",
    "df['blob_sentiment'] = df.reviews.apply(blob_sentiment_polarity)"
   ]
  },
  {
   "cell_type": "code",
   "execution_count": 11,
   "metadata": {},
   "outputs": [
    {
     "data": {
      "text/html": [
       "<div>\n",
       "<style scoped>\n",
       "    .dataframe tbody tr th:only-of-type {\n",
       "        vertical-align: middle;\n",
       "    }\n",
       "\n",
       "    .dataframe tbody tr th {\n",
       "        vertical-align: top;\n",
       "    }\n",
       "\n",
       "    .dataframe thead th {\n",
       "        text-align: right;\n",
       "    }\n",
       "</style>\n",
       "<table border=\"1\" class=\"dataframe\">\n",
       "  <thead>\n",
       "    <tr style=\"text-align: right;\">\n",
       "      <th></th>\n",
       "      <th>reviews</th>\n",
       "      <th>rating</th>\n",
       "      <th>company</th>\n",
       "      <th>vader_sentiment</th>\n",
       "      <th>blob_sentiment</th>\n",
       "    </tr>\n",
       "  </thead>\n",
       "  <tbody>\n",
       "    <tr>\n",
       "      <td>0</td>\n",
       "      <td>great card! we get cash back for our grocery a...</td>\n",
       "      <td>4.0</td>\n",
       "      <td>American Express Blue Cash Preferred</td>\n",
       "      <td>0.7455</td>\n",
       "      <td>0.2645</td>\n",
       "    </tr>\n",
       "    <tr>\n",
       "      <td>1</td>\n",
       "      <td>while traveling we had to keep calling the cre...</td>\n",
       "      <td>1.0</td>\n",
       "      <td>Credit One Bank</td>\n",
       "      <td>0.2335</td>\n",
       "      <td>-0.0875</td>\n",
       "    </tr>\n",
       "    <tr>\n",
       "      <td>2</td>\n",
       "      <td>great card to have! love all the additional cr...</td>\n",
       "      <td>5.0</td>\n",
       "      <td>Capital One Quicksilver Rewards</td>\n",
       "      <td>0.9097</td>\n",
       "      <td>0.8125</td>\n",
       "    </tr>\n",
       "    <tr>\n",
       "      <td>3</td>\n",
       "      <td>no tengo tanta experiencia asi que no puedo da...</td>\n",
       "      <td>2.0</td>\n",
       "      <td>Citi Double Cash Card</td>\n",
       "      <td>-0.5267</td>\n",
       "      <td>0.0000</td>\n",
       "    </tr>\n",
       "    <tr>\n",
       "      <td>4</td>\n",
       "      <td>this is a basic credit card  the cash back dea...</td>\n",
       "      <td>4.0</td>\n",
       "      <td>Bank of America Cash Rewards Credit Card</td>\n",
       "      <td>0.7490</td>\n",
       "      <td>0.2600</td>\n",
       "    </tr>\n",
       "  </tbody>\n",
       "</table>\n",
       "</div>"
      ],
      "text/plain": [
       "                                             reviews  \\\n",
       "0  great card! we get cash back for our grocery a...   \n",
       "1  while traveling we had to keep calling the cre...   \n",
       "2  great card to have! love all the additional cr...   \n",
       "3  no tengo tanta experiencia asi que no puedo da...   \n",
       "4  this is a basic credit card  the cash back dea...   \n",
       "\n",
       "   rating  \\\n",
       "0     4.0   \n",
       "1     1.0   \n",
       "2     5.0   \n",
       "3     2.0   \n",
       "4     4.0   \n",
       "\n",
       "                                    company  \\\n",
       "0     American Express Blue Cash Preferred    \n",
       "1                           Credit One Bank   \n",
       "2           Capital One Quicksilver Rewards   \n",
       "3                     Citi Double Cash Card   \n",
       "4  Bank of America Cash Rewards Credit Card   \n",
       "\n",
       "   vader_sentiment  \\\n",
       "0           0.7455   \n",
       "1           0.2335   \n",
       "2           0.9097   \n",
       "3          -0.5267   \n",
       "4           0.7490   \n",
       "\n",
       "   blob_sentiment  \n",
       "0          0.2645  \n",
       "1         -0.0875  \n",
       "2          0.8125  \n",
       "3          0.0000  \n",
       "4          0.2600  "
      ]
     },
     "execution_count": 11,
     "metadata": {},
     "output_type": "execute_result"
    }
   ],
   "source": [
    "df.head()"
   ]
  },
  {
   "cell_type": "markdown",
   "metadata": {},
   "source": [
    "## Plots"
   ]
  },
  {
   "cell_type": "code",
   "execution_count": 12,
   "metadata": {},
   "outputs": [
    {
     "data": {
      "text/plain": [
       "<matplotlib.legend.Legend at 0x10315f7f0>"
      ]
     },
     "execution_count": 12,
     "metadata": {},
     "output_type": "execute_result"
    },
    {
     "data": {
      "image/png": "[encoded data removed]",
      "text/plain": [
       "<Figure size 720x432 with 1 Axes>"
      ]
     },
     "metadata": {},
     "output_type": "display_data"
    }
   ],
   "source": [
    "# Plot of vaderSentiment analysis\n",
    "sns.set(font_scale = 1.5)\n",
    "plt.style.use('ggplot')\n",
    "\n",
    "df[df.rating == 1].vader_sentiment.hist(bins = 'auto',figsize=(10,6), label = 'One star')\n",
    "df[df.rating == 2].vader_sentiment.hist(bins = 'auto',label = 'Two stars')\n",
    "df[df.rating == 3].vader_sentiment.hist(bins = 'auto',label = 'Three stars')\n",
    "df[df.rating == 4].vader_sentiment.hist(bins = 'auto',label = 'Four stars')\n",
    "df[df.rating == 5].vader_sentiment.hist(bins = 'auto',label = 'Five stars')\n",
    "plt.legend(loc = 'best')"
   ]
  },
  {
   "cell_type": "code",
   "execution_count": 13,
   "metadata": {},
   "outputs": [
    {
     "data": {
      "text/plain": [
       "<matplotlib.legend.Legend at 0x1a1929ce48>"
      ]
     },
     "execution_count": 13,
     "metadata": {},
     "output_type": "execute_result"
    },
    {
     "data": {
      "image/png": "[encoded data removed]",
      "text/plain": [
       "<Figure size 720x432 with 1 Axes>"
      ]
     },
     "metadata": {},
     "output_type": "display_data"
    }
   ],
   "source": [
    "# Plot of TextBlob analysis\n",
    "sns.set(font_scale = 1.5)\n",
    "plt.style.use('ggplot')\n",
    "\n",
    "df[df.rating == 1].blob_sentiment.hist(bins = 'auto',figsize=(10,6), label = 'One star')\n",
    "df[df.rating == 2].blob_sentiment.hist(bins = 'auto',figsize=(10,6),label = 'Two stars')\n",
    "df[df.rating == 3].blob_sentiment.hist(bins = 'auto',figsize=(10,6),label = 'Three stars')\n",
    "df[df.rating == 4].blob_sentiment.hist(bins = 'auto',figsize=(10,6),label = 'Four stars')\n",
    "df[df.rating == 5].blob_sentiment.hist(bins = 'auto',figsize=(10,6),label = 'Five stars')\n",
    "plt.legend(loc = 'upper left')"
   ]
  },
  {
   "cell_type": "code",
   "execution_count": 14,
   "metadata": {},
   "outputs": [
    {
     "data": {
      "text/plain": [
       "<matplotlib.axes._subplots.AxesSubplot at 0x1a1909d7f0>"
      ]
     },
     "execution_count": 14,
     "metadata": {},
     "output_type": "execute_result"
    },
    {
     "data": {
      "image/png": "[encoded data removed]",
      "text/plain": [
       "<Figure size 1440x432 with 2 Axes>"
      ]
     },
     "metadata": {},
     "output_type": "display_data"
    }
   ],
   "source": [
    "sns.set(font_scale = 1.5)\n",
    "plt.style.use('ggplot')\n",
    "\n",
    "gridsize = (1, 2)\n",
    "fig = plt.figure(figsize=(20, 6))\n",
    "ax1 = plt.subplot2grid(gridsize, (0, 0))\n",
    "ax2 = plt.subplot2grid(gridsize, (0, 1))\n",
    "sns.boxenplot(x = 'rating', y = 'blob_sentiment', data = df, ax = ax1)\n",
    "sns.boxenplot(x = 'rating', y = 'vader_sentiment', data = df, ax = ax2)"
   ]
  },
  {
   "cell_type": "markdown",
   "metadata": {},
   "source": [
    "### The most negative polarity with 4 or 5 star rating (VADER)"
   ]
  },
  {
   "cell_type": "code",
   "execution_count": 15,
   "metadata": {},
   "outputs": [
    {
     "data": {
      "text/html": [
       "<div>\n",
       "<style scoped>\n",
       "    .dataframe tbody tr th:only-of-type {\n",
       "        vertical-align: middle;\n",
       "    }\n",
       "\n",
       "    .dataframe tbody tr th {\n",
       "        vertical-align: top;\n",
       "    }\n",
       "\n",
       "    .dataframe thead th {\n",
       "        text-align: right;\n",
       "    }\n",
       "</style>\n",
       "<table border=\"1\" class=\"dataframe\">\n",
       "  <thead>\n",
       "    <tr style=\"text-align: right;\">\n",
       "      <th></th>\n",
       "      <th>reviews</th>\n",
       "      <th>rating</th>\n",
       "      <th>vader_sentiment</th>\n",
       "    </tr>\n",
       "  </thead>\n",
       "  <tbody>\n",
       "  </tbody>\n",
       "</table>\n",
       "</div>"
      ],
      "text/plain": [
       "Empty DataFrame\n",
       "Columns: [reviews, rating, vader_sentiment]\n",
       "Index: []"
      ]
     },
     "execution_count": 15,
     "metadata": {},
     "output_type": "execute_result"
    }
   ],
   "source": [
    "df[(df.rating >= 4) & (df.vader_sentiment == -1)][['reviews', 'rating', 'vader_sentiment']]"
   ]
  },
  {
   "cell_type": "markdown",
   "metadata": {},
   "source": [
    "### The most positive polarity with 1 star rating (VADER)"
   ]
  },
  {
   "cell_type": "code",
   "execution_count": 16,
   "metadata": {},
   "outputs": [
    {
     "data": {
      "text/html": [
       "<div>\n",
       "<style scoped>\n",
       "    .dataframe tbody tr th:only-of-type {\n",
       "        vertical-align: middle;\n",
       "    }\n",
       "\n",
       "    .dataframe tbody tr th {\n",
       "        vertical-align: top;\n",
       "    }\n",
       "\n",
       "    .dataframe thead th {\n",
       "        text-align: right;\n",
       "    }\n",
       "</style>\n",
       "<table border=\"1\" class=\"dataframe\">\n",
       "  <thead>\n",
       "    <tr style=\"text-align: right;\">\n",
       "      <th></th>\n",
       "      <th>reviews</th>\n",
       "      <th>rating</th>\n",
       "      <th>vader_sentiment</th>\n",
       "    </tr>\n",
       "  </thead>\n",
       "  <tbody>\n",
       "  </tbody>\n",
       "</table>\n",
       "</div>"
      ],
      "text/plain": [
       "Empty DataFrame\n",
       "Columns: [reviews, rating, vader_sentiment]\n",
       "Index: []"
      ]
     },
     "execution_count": 16,
     "metadata": {},
     "output_type": "execute_result"
    }
   ],
   "source": [
    "df[(df.rating == 1) & (df.vader_sentiment == 1)][['reviews', 'rating', 'vader_sentiment']]"
   ]
  },
  {
   "cell_type": "markdown",
   "metadata": {},
   "source": [
    "## Mean sentiment for each credit card (VADER)"
   ]
  },
  {
   "cell_type": "code",
   "execution_count": 17,
   "metadata": {
    "scrolled": false
   },
   "outputs": [
    {
     "data": {
      "text/plain": [
       "company\n",
       "Chase Freedom Unlimited                               0.91\n",
       "Chase Sapphire Preffered Card                         0.83\n",
       "Capital One Secured Credit Card                       0.81\n",
       "Bank of America Cash Rewards Credit Card              0.75\n",
       "Citi Double Cash Card                                 0.74\n",
       "American Express Business Gold Rewards Credit Card    0.72\n",
       "Discover it Secured                                   0.72\n",
       "Bank of America Travel Rewards Credit Card            0.71\n",
       "American Express Blue Cash Preferred                  0.70\n",
       "TD Cash Visa Credit Card                              0.69\n",
       "Capital One Venture Rewards                           0.68\n",
       "Discover it Cash Back                                 0.67\n",
       "Citi Diamond Preferred Card                           0.67\n",
       "Discover it Miles                                     0.66\n",
       "Capital One Quicksilver Rewards                       0.66\n",
       "Citi Simplicity Card                                  0.65\n",
       "Capital One Platinum                                  0.65\n",
       "Merrick Bank                                          0.54\n",
       "OpenSky Secured Visa Credit Card                      0.53\n",
       "RBC VISA                                              0.51\n",
       "Canadian Tire MASTERCARD                              0.50\n",
       "Citi Platinum World Elite                             0.48\n",
       "Chase Amazon Reward Visa                              0.46\n",
       "BMO MASTERCARD                                        0.43\n",
       "Costco Anywhere Visa Card by Citi                     0.33\n",
       "HomeTrust Secured VISA                                0.30\n",
       "PayPal Credit                                         0.17\n",
       "TD First Class Travel VISA Infinite Card              0.14\n",
       "Premier Bankcard                                      0.04\n",
       "Presidents Choice Financial                           0.03\n",
       "Capital One Platinum Costco MASTERCARD                0.01\n",
       "Credit One Bank                                       0.00\n",
       "Barclays Bank                                        -0.01\n",
       "American Express Platinum Card                       -0.02\n",
       "Sears Credit Card                                    -0.04\n",
       "Target Credit Card                                   -0.07\n",
       "Walmart MASTERCARD                                   -0.08\n",
       "Rogers MASTERCARD                                    -0.18\n",
       "Eppicard                                             -0.24\n",
       "Aspire Visa                                          -0.26\n",
       "Name: vader_sentiment, dtype: float64"
      ]
     },
     "execution_count": 17,
     "metadata": {},
     "output_type": "execute_result"
    }
   ],
   "source": [
    "df.groupby('company')['vader_sentiment'].mean().sort_values(ascending = False).round(2)"
   ]
  },
  {
   "cell_type": "code",
   "execution_count": null,
   "metadata": {},
   "outputs": [],
   "source": []
  }
 ],
 "metadata": {
  "kernelspec": {
   "display_name": "Python 3",
   "language": "python",
   "name": "python3"
  },
  "language_info": {
   "codemirror_mode": {
    "name": "ipython",
    "version": 3
   },
   "file_extension": ".py",
   "mimetype": "text/x-python",
   "name": "python",
   "nbconvert_exporter": "python",
   "pygments_lexer": "ipython3",
   "version": "3.7.3"
  }
 },
 "nbformat": 4,
 "nbformat_minor": 2
}
